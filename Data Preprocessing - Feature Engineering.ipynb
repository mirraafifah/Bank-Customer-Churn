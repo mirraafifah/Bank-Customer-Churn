{
  "cells": [
    {
      "cell_type": "markdown",
      "metadata": {
        "id": "22b2b58a-1c2b-46f3-b529-379c8dcef332"
      },
      "source": [
        "# **Customer Churn Prediction**"
      ],
      "id": "22b2b58a-1c2b-46f3-b529-379c8dcef332"
    },
    {
      "cell_type": "code",
      "execution_count": 114,
      "metadata": {
        "id": "66a75b67-1bf8-4f3b-9a05-b9d0a8a5bc14"
      },
      "outputs": [],
      "source": [
        "# import library\n",
        "import numpy as np\n",
        "import pandas as pd\n",
        "import seaborn as sns\n",
        "import matplotlib.pyplot as plt\n",
        "\n",
        "import warnings\n",
        "warnings.filterwarnings(\"ignore\")"
      ],
      "id": "66a75b67-1bf8-4f3b-9a05-b9d0a8a5bc14"
    },
    {
      "cell_type": "markdown",
      "metadata": {
        "id": "y1FBozyVZCN7"
      },
      "source": [
        "### **Load Data**"
      ],
      "id": "y1FBozyVZCN7"
    },
    {
      "cell_type": "code",
      "execution_count": 115,
      "metadata": {
        "colab": {
          "base_uri": "https://localhost:8080/",
          "height": 73
        },
        "id": "EG9mW8wVYWQ7",
        "outputId": "160887f3-7ab5-41fb-8260-1b91eaaaddec"
      },
      "outputs": [
        {
          "output_type": "display_data",
          "data": {
            "text/plain": [
              "<IPython.core.display.HTML object>"
            ],
            "text/html": [
              "\n",
              "     <input type=\"file\" id=\"files-a908f0b9-c17e-4f65-ae32-683b43ae4995\" name=\"files[]\" multiple disabled\n",
              "        style=\"border:none\" />\n",
              "     <output id=\"result-a908f0b9-c17e-4f65-ae32-683b43ae4995\">\n",
              "      Upload widget is only available when the cell has been executed in the\n",
              "      current browser session. Please rerun this cell to enable.\n",
              "      </output>\n",
              "      <script>// Copyright 2017 Google LLC\n",
              "//\n",
              "// Licensed under the Apache License, Version 2.0 (the \"License\");\n",
              "// you may not use this file except in compliance with the License.\n",
              "// You may obtain a copy of the License at\n",
              "//\n",
              "//      http://www.apache.org/licenses/LICENSE-2.0\n",
              "//\n",
              "// Unless required by applicable law or agreed to in writing, software\n",
              "// distributed under the License is distributed on an \"AS IS\" BASIS,\n",
              "// WITHOUT WARRANTIES OR CONDITIONS OF ANY KIND, either express or implied.\n",
              "// See the License for the specific language governing permissions and\n",
              "// limitations under the License.\n",
              "\n",
              "/**\n",
              " * @fileoverview Helpers for google.colab Python module.\n",
              " */\n",
              "(function(scope) {\n",
              "function span(text, styleAttributes = {}) {\n",
              "  const element = document.createElement('span');\n",
              "  element.textContent = text;\n",
              "  for (const key of Object.keys(styleAttributes)) {\n",
              "    element.style[key] = styleAttributes[key];\n",
              "  }\n",
              "  return element;\n",
              "}\n",
              "\n",
              "// Max number of bytes which will be uploaded at a time.\n",
              "const MAX_PAYLOAD_SIZE = 100 * 1024;\n",
              "\n",
              "function _uploadFiles(inputId, outputId) {\n",
              "  const steps = uploadFilesStep(inputId, outputId);\n",
              "  const outputElement = document.getElementById(outputId);\n",
              "  // Cache steps on the outputElement to make it available for the next call\n",
              "  // to uploadFilesContinue from Python.\n",
              "  outputElement.steps = steps;\n",
              "\n",
              "  return _uploadFilesContinue(outputId);\n",
              "}\n",
              "\n",
              "// This is roughly an async generator (not supported in the browser yet),\n",
              "// where there are multiple asynchronous steps and the Python side is going\n",
              "// to poll for completion of each step.\n",
              "// This uses a Promise to block the python side on completion of each step,\n",
              "// then passes the result of the previous step as the input to the next step.\n",
              "function _uploadFilesContinue(outputId) {\n",
              "  const outputElement = document.getElementById(outputId);\n",
              "  const steps = outputElement.steps;\n",
              "\n",
              "  const next = steps.next(outputElement.lastPromiseValue);\n",
              "  return Promise.resolve(next.value.promise).then((value) => {\n",
              "    // Cache the last promise value to make it available to the next\n",
              "    // step of the generator.\n",
              "    outputElement.lastPromiseValue = value;\n",
              "    return next.value.response;\n",
              "  });\n",
              "}\n",
              "\n",
              "/**\n",
              " * Generator function which is called between each async step of the upload\n",
              " * process.\n",
              " * @param {string} inputId Element ID of the input file picker element.\n",
              " * @param {string} outputId Element ID of the output display.\n",
              " * @return {!Iterable<!Object>} Iterable of next steps.\n",
              " */\n",
              "function* uploadFilesStep(inputId, outputId) {\n",
              "  const inputElement = document.getElementById(inputId);\n",
              "  inputElement.disabled = false;\n",
              "\n",
              "  const outputElement = document.getElementById(outputId);\n",
              "  outputElement.innerHTML = '';\n",
              "\n",
              "  const pickedPromise = new Promise((resolve) => {\n",
              "    inputElement.addEventListener('change', (e) => {\n",
              "      resolve(e.target.files);\n",
              "    });\n",
              "  });\n",
              "\n",
              "  const cancel = document.createElement('button');\n",
              "  inputElement.parentElement.appendChild(cancel);\n",
              "  cancel.textContent = 'Cancel upload';\n",
              "  const cancelPromise = new Promise((resolve) => {\n",
              "    cancel.onclick = () => {\n",
              "      resolve(null);\n",
              "    };\n",
              "  });\n",
              "\n",
              "  // Wait for the user to pick the files.\n",
              "  const files = yield {\n",
              "    promise: Promise.race([pickedPromise, cancelPromise]),\n",
              "    response: {\n",
              "      action: 'starting',\n",
              "    }\n",
              "  };\n",
              "\n",
              "  cancel.remove();\n",
              "\n",
              "  // Disable the input element since further picks are not allowed.\n",
              "  inputElement.disabled = true;\n",
              "\n",
              "  if (!files) {\n",
              "    return {\n",
              "      response: {\n",
              "        action: 'complete',\n",
              "      }\n",
              "    };\n",
              "  }\n",
              "\n",
              "  for (const file of files) {\n",
              "    const li = document.createElement('li');\n",
              "    li.append(span(file.name, {fontWeight: 'bold'}));\n",
              "    li.append(span(\n",
              "        `(${file.type || 'n/a'}) - ${file.size} bytes, ` +\n",
              "        `last modified: ${\n",
              "            file.lastModifiedDate ? file.lastModifiedDate.toLocaleDateString() :\n",
              "                                    'n/a'} - `));\n",
              "    const percent = span('0% done');\n",
              "    li.appendChild(percent);\n",
              "\n",
              "    outputElement.appendChild(li);\n",
              "\n",
              "    const fileDataPromise = new Promise((resolve) => {\n",
              "      const reader = new FileReader();\n",
              "      reader.onload = (e) => {\n",
              "        resolve(e.target.result);\n",
              "      };\n",
              "      reader.readAsArrayBuffer(file);\n",
              "    });\n",
              "    // Wait for the data to be ready.\n",
              "    let fileData = yield {\n",
              "      promise: fileDataPromise,\n",
              "      response: {\n",
              "        action: 'continue',\n",
              "      }\n",
              "    };\n",
              "\n",
              "    // Use a chunked sending to avoid message size limits. See b/62115660.\n",
              "    let position = 0;\n",
              "    do {\n",
              "      const length = Math.min(fileData.byteLength - position, MAX_PAYLOAD_SIZE);\n",
              "      const chunk = new Uint8Array(fileData, position, length);\n",
              "      position += length;\n",
              "\n",
              "      const base64 = btoa(String.fromCharCode.apply(null, chunk));\n",
              "      yield {\n",
              "        response: {\n",
              "          action: 'append',\n",
              "          file: file.name,\n",
              "          data: base64,\n",
              "        },\n",
              "      };\n",
              "\n",
              "      let percentDone = fileData.byteLength === 0 ?\n",
              "          100 :\n",
              "          Math.round((position / fileData.byteLength) * 100);\n",
              "      percent.textContent = `${percentDone}% done`;\n",
              "\n",
              "    } while (position < fileData.byteLength);\n",
              "  }\n",
              "\n",
              "  // All done.\n",
              "  yield {\n",
              "    response: {\n",
              "      action: 'complete',\n",
              "    }\n",
              "  };\n",
              "}\n",
              "\n",
              "scope.google = scope.google || {};\n",
              "scope.google.colab = scope.google.colab || {};\n",
              "scope.google.colab._files = {\n",
              "  _uploadFiles,\n",
              "  _uploadFilesContinue,\n",
              "};\n",
              "})(self);\n",
              "</script> "
            ]
          },
          "metadata": {}
        },
        {
          "output_type": "stream",
          "name": "stdout",
          "text": [
            "Saving Churn_Modelling.csv to Churn_Modelling (2).csv\n"
          ]
        }
      ],
      "source": [
        "from google.colab import files\n",
        "uploaded = files.upload()"
      ],
      "id": "EG9mW8wVYWQ7"
    },
    {
      "cell_type": "code",
      "execution_count": 116,
      "metadata": {
        "colab": {
          "base_uri": "https://localhost:8080/",
          "height": 226
        },
        "id": "0dd3ef6c-a50d-4d5c-8093-338b10f3bdbc",
        "outputId": "7110e1d4-ccfc-480c-f4b8-033411a8004d"
      },
      "outputs": [
        {
          "output_type": "execute_result",
          "data": {
            "text/plain": [
              "   RowNumber  CustomerId   Surname  CreditScore Geography  Gender  Age  \\\n",
              "0          1    15634602  Hargrave          619    France  Female   42   \n",
              "1          2    15647311      Hill          608     Spain  Female   41   \n",
              "2          3    15619304      Onio          502    France  Female   42   \n",
              "3          4    15701354      Boni          699    France  Female   39   \n",
              "4          5    15737888  Mitchell          850     Spain  Female   43   \n",
              "\n",
              "   Tenure    Balance  NumOfProducts  HasCrCard  IsActiveMember  \\\n",
              "0       2       0.00              1          1               1   \n",
              "1       1   83807.86              1          0               1   \n",
              "2       8  159660.80              3          1               0   \n",
              "3       1       0.00              2          0               0   \n",
              "4       2  125510.82              1          1               1   \n",
              "\n",
              "   EstimatedSalary  Exited  \n",
              "0        101348.88       1  \n",
              "1        112542.58       0  \n",
              "2        113931.57       1  \n",
              "3         93826.63       0  \n",
              "4         79084.10       0  "
            ],
            "text/html": [
              "\n",
              "  <div id=\"df-ab57a53a-8ed3-4525-ad03-57092c508063\" class=\"colab-df-container\">\n",
              "    <div>\n",
              "<style scoped>\n",
              "    .dataframe tbody tr th:only-of-type {\n",
              "        vertical-align: middle;\n",
              "    }\n",
              "\n",
              "    .dataframe tbody tr th {\n",
              "        vertical-align: top;\n",
              "    }\n",
              "\n",
              "    .dataframe thead th {\n",
              "        text-align: right;\n",
              "    }\n",
              "</style>\n",
              "<table border=\"1\" class=\"dataframe\">\n",
              "  <thead>\n",
              "    <tr style=\"text-align: right;\">\n",
              "      <th></th>\n",
              "      <th>RowNumber</th>\n",
              "      <th>CustomerId</th>\n",
              "      <th>Surname</th>\n",
              "      <th>CreditScore</th>\n",
              "      <th>Geography</th>\n",
              "      <th>Gender</th>\n",
              "      <th>Age</th>\n",
              "      <th>Tenure</th>\n",
              "      <th>Balance</th>\n",
              "      <th>NumOfProducts</th>\n",
              "      <th>HasCrCard</th>\n",
              "      <th>IsActiveMember</th>\n",
              "      <th>EstimatedSalary</th>\n",
              "      <th>Exited</th>\n",
              "    </tr>\n",
              "  </thead>\n",
              "  <tbody>\n",
              "    <tr>\n",
              "      <th>0</th>\n",
              "      <td>1</td>\n",
              "      <td>15634602</td>\n",
              "      <td>Hargrave</td>\n",
              "      <td>619</td>\n",
              "      <td>France</td>\n",
              "      <td>Female</td>\n",
              "      <td>42</td>\n",
              "      <td>2</td>\n",
              "      <td>0.00</td>\n",
              "      <td>1</td>\n",
              "      <td>1</td>\n",
              "      <td>1</td>\n",
              "      <td>101348.88</td>\n",
              "      <td>1</td>\n",
              "    </tr>\n",
              "    <tr>\n",
              "      <th>1</th>\n",
              "      <td>2</td>\n",
              "      <td>15647311</td>\n",
              "      <td>Hill</td>\n",
              "      <td>608</td>\n",
              "      <td>Spain</td>\n",
              "      <td>Female</td>\n",
              "      <td>41</td>\n",
              "      <td>1</td>\n",
              "      <td>83807.86</td>\n",
              "      <td>1</td>\n",
              "      <td>0</td>\n",
              "      <td>1</td>\n",
              "      <td>112542.58</td>\n",
              "      <td>0</td>\n",
              "    </tr>\n",
              "    <tr>\n",
              "      <th>2</th>\n",
              "      <td>3</td>\n",
              "      <td>15619304</td>\n",
              "      <td>Onio</td>\n",
              "      <td>502</td>\n",
              "      <td>France</td>\n",
              "      <td>Female</td>\n",
              "      <td>42</td>\n",
              "      <td>8</td>\n",
              "      <td>159660.80</td>\n",
              "      <td>3</td>\n",
              "      <td>1</td>\n",
              "      <td>0</td>\n",
              "      <td>113931.57</td>\n",
              "      <td>1</td>\n",
              "    </tr>\n",
              "    <tr>\n",
              "      <th>3</th>\n",
              "      <td>4</td>\n",
              "      <td>15701354</td>\n",
              "      <td>Boni</td>\n",
              "      <td>699</td>\n",
              "      <td>France</td>\n",
              "      <td>Female</td>\n",
              "      <td>39</td>\n",
              "      <td>1</td>\n",
              "      <td>0.00</td>\n",
              "      <td>2</td>\n",
              "      <td>0</td>\n",
              "      <td>0</td>\n",
              "      <td>93826.63</td>\n",
              "      <td>0</td>\n",
              "    </tr>\n",
              "    <tr>\n",
              "      <th>4</th>\n",
              "      <td>5</td>\n",
              "      <td>15737888</td>\n",
              "      <td>Mitchell</td>\n",
              "      <td>850</td>\n",
              "      <td>Spain</td>\n",
              "      <td>Female</td>\n",
              "      <td>43</td>\n",
              "      <td>2</td>\n",
              "      <td>125510.82</td>\n",
              "      <td>1</td>\n",
              "      <td>1</td>\n",
              "      <td>1</td>\n",
              "      <td>79084.10</td>\n",
              "      <td>0</td>\n",
              "    </tr>\n",
              "  </tbody>\n",
              "</table>\n",
              "</div>\n",
              "    <div class=\"colab-df-buttons\">\n",
              "\n",
              "  <div class=\"colab-df-container\">\n",
              "    <button class=\"colab-df-convert\" onclick=\"convertToInteractive('df-ab57a53a-8ed3-4525-ad03-57092c508063')\"\n",
              "            title=\"Convert this dataframe to an interactive table.\"\n",
              "            style=\"display:none;\">\n",
              "\n",
              "  <svg xmlns=\"http://www.w3.org/2000/svg\" height=\"24px\" viewBox=\"0 -960 960 960\">\n",
              "    <path d=\"M120-120v-720h720v720H120Zm60-500h600v-160H180v160Zm220 220h160v-160H400v160Zm0 220h160v-160H400v160ZM180-400h160v-160H180v160Zm440 0h160v-160H620v160ZM180-180h160v-160H180v160Zm440 0h160v-160H620v160Z\"/>\n",
              "  </svg>\n",
              "    </button>\n",
              "\n",
              "  <style>\n",
              "    .colab-df-container {\n",
              "      display:flex;\n",
              "      gap: 12px;\n",
              "    }\n",
              "\n",
              "    .colab-df-convert {\n",
              "      background-color: #E8F0FE;\n",
              "      border: none;\n",
              "      border-radius: 50%;\n",
              "      cursor: pointer;\n",
              "      display: none;\n",
              "      fill: #1967D2;\n",
              "      height: 32px;\n",
              "      padding: 0 0 0 0;\n",
              "      width: 32px;\n",
              "    }\n",
              "\n",
              "    .colab-df-convert:hover {\n",
              "      background-color: #E2EBFA;\n",
              "      box-shadow: 0px 1px 2px rgba(60, 64, 67, 0.3), 0px 1px 3px 1px rgba(60, 64, 67, 0.15);\n",
              "      fill: #174EA6;\n",
              "    }\n",
              "\n",
              "    .colab-df-buttons div {\n",
              "      margin-bottom: 4px;\n",
              "    }\n",
              "\n",
              "    [theme=dark] .colab-df-convert {\n",
              "      background-color: #3B4455;\n",
              "      fill: #D2E3FC;\n",
              "    }\n",
              "\n",
              "    [theme=dark] .colab-df-convert:hover {\n",
              "      background-color: #434B5C;\n",
              "      box-shadow: 0px 1px 3px 1px rgba(0, 0, 0, 0.15);\n",
              "      filter: drop-shadow(0px 1px 2px rgba(0, 0, 0, 0.3));\n",
              "      fill: #FFFFFF;\n",
              "    }\n",
              "  </style>\n",
              "\n",
              "    <script>\n",
              "      const buttonEl =\n",
              "        document.querySelector('#df-ab57a53a-8ed3-4525-ad03-57092c508063 button.colab-df-convert');\n",
              "      buttonEl.style.display =\n",
              "        google.colab.kernel.accessAllowed ? 'block' : 'none';\n",
              "\n",
              "      async function convertToInteractive(key) {\n",
              "        const element = document.querySelector('#df-ab57a53a-8ed3-4525-ad03-57092c508063');\n",
              "        const dataTable =\n",
              "          await google.colab.kernel.invokeFunction('convertToInteractive',\n",
              "                                                    [key], {});\n",
              "        if (!dataTable) return;\n",
              "\n",
              "        const docLinkHtml = 'Like what you see? Visit the ' +\n",
              "          '<a target=\"_blank\" href=https://colab.research.google.com/notebooks/data_table.ipynb>data table notebook</a>'\n",
              "          + ' to learn more about interactive tables.';\n",
              "        element.innerHTML = '';\n",
              "        dataTable['output_type'] = 'display_data';\n",
              "        await google.colab.output.renderOutput(dataTable, element);\n",
              "        const docLink = document.createElement('div');\n",
              "        docLink.innerHTML = docLinkHtml;\n",
              "        element.appendChild(docLink);\n",
              "      }\n",
              "    </script>\n",
              "  </div>\n",
              "\n",
              "\n",
              "<div id=\"df-79975ec0-d792-4bdd-b250-9ac0c20c47c8\">\n",
              "  <button class=\"colab-df-quickchart\" onclick=\"quickchart('df-79975ec0-d792-4bdd-b250-9ac0c20c47c8')\"\n",
              "            title=\"Suggest charts\"\n",
              "            style=\"display:none;\">\n",
              "\n",
              "<svg xmlns=\"http://www.w3.org/2000/svg\" height=\"24px\"viewBox=\"0 0 24 24\"\n",
              "     width=\"24px\">\n",
              "    <g>\n",
              "        <path d=\"M19 3H5c-1.1 0-2 .9-2 2v14c0 1.1.9 2 2 2h14c1.1 0 2-.9 2-2V5c0-1.1-.9-2-2-2zM9 17H7v-7h2v7zm4 0h-2V7h2v10zm4 0h-2v-4h2v4z\"/>\n",
              "    </g>\n",
              "</svg>\n",
              "  </button>\n",
              "\n",
              "<style>\n",
              "  .colab-df-quickchart {\n",
              "      --bg-color: #E8F0FE;\n",
              "      --fill-color: #1967D2;\n",
              "      --hover-bg-color: #E2EBFA;\n",
              "      --hover-fill-color: #174EA6;\n",
              "      --disabled-fill-color: #AAA;\n",
              "      --disabled-bg-color: #DDD;\n",
              "  }\n",
              "\n",
              "  [theme=dark] .colab-df-quickchart {\n",
              "      --bg-color: #3B4455;\n",
              "      --fill-color: #D2E3FC;\n",
              "      --hover-bg-color: #434B5C;\n",
              "      --hover-fill-color: #FFFFFF;\n",
              "      --disabled-bg-color: #3B4455;\n",
              "      --disabled-fill-color: #666;\n",
              "  }\n",
              "\n",
              "  .colab-df-quickchart {\n",
              "    background-color: var(--bg-color);\n",
              "    border: none;\n",
              "    border-radius: 50%;\n",
              "    cursor: pointer;\n",
              "    display: none;\n",
              "    fill: var(--fill-color);\n",
              "    height: 32px;\n",
              "    padding: 0;\n",
              "    width: 32px;\n",
              "  }\n",
              "\n",
              "  .colab-df-quickchart:hover {\n",
              "    background-color: var(--hover-bg-color);\n",
              "    box-shadow: 0 1px 2px rgba(60, 64, 67, 0.3), 0 1px 3px 1px rgba(60, 64, 67, 0.15);\n",
              "    fill: var(--button-hover-fill-color);\n",
              "  }\n",
              "\n",
              "  .colab-df-quickchart-complete:disabled,\n",
              "  .colab-df-quickchart-complete:disabled:hover {\n",
              "    background-color: var(--disabled-bg-color);\n",
              "    fill: var(--disabled-fill-color);\n",
              "    box-shadow: none;\n",
              "  }\n",
              "\n",
              "  .colab-df-spinner {\n",
              "    border: 2px solid var(--fill-color);\n",
              "    border-color: transparent;\n",
              "    border-bottom-color: var(--fill-color);\n",
              "    animation:\n",
              "      spin 1s steps(1) infinite;\n",
              "  }\n",
              "\n",
              "  @keyframes spin {\n",
              "    0% {\n",
              "      border-color: transparent;\n",
              "      border-bottom-color: var(--fill-color);\n",
              "      border-left-color: var(--fill-color);\n",
              "    }\n",
              "    20% {\n",
              "      border-color: transparent;\n",
              "      border-left-color: var(--fill-color);\n",
              "      border-top-color: var(--fill-color);\n",
              "    }\n",
              "    30% {\n",
              "      border-color: transparent;\n",
              "      border-left-color: var(--fill-color);\n",
              "      border-top-color: var(--fill-color);\n",
              "      border-right-color: var(--fill-color);\n",
              "    }\n",
              "    40% {\n",
              "      border-color: transparent;\n",
              "      border-right-color: var(--fill-color);\n",
              "      border-top-color: var(--fill-color);\n",
              "    }\n",
              "    60% {\n",
              "      border-color: transparent;\n",
              "      border-right-color: var(--fill-color);\n",
              "    }\n",
              "    80% {\n",
              "      border-color: transparent;\n",
              "      border-right-color: var(--fill-color);\n",
              "      border-bottom-color: var(--fill-color);\n",
              "    }\n",
              "    90% {\n",
              "      border-color: transparent;\n",
              "      border-bottom-color: var(--fill-color);\n",
              "    }\n",
              "  }\n",
              "</style>\n",
              "\n",
              "  <script>\n",
              "    async function quickchart(key) {\n",
              "      const quickchartButtonEl =\n",
              "        document.querySelector('#' + key + ' button');\n",
              "      quickchartButtonEl.disabled = true;  // To prevent multiple clicks.\n",
              "      quickchartButtonEl.classList.add('colab-df-spinner');\n",
              "      try {\n",
              "        const charts = await google.colab.kernel.invokeFunction(\n",
              "            'suggestCharts', [key], {});\n",
              "      } catch (error) {\n",
              "        console.error('Error during call to suggestCharts:', error);\n",
              "      }\n",
              "      quickchartButtonEl.classList.remove('colab-df-spinner');\n",
              "      quickchartButtonEl.classList.add('colab-df-quickchart-complete');\n",
              "    }\n",
              "    (() => {\n",
              "      let quickchartButtonEl =\n",
              "        document.querySelector('#df-79975ec0-d792-4bdd-b250-9ac0c20c47c8 button');\n",
              "      quickchartButtonEl.style.display =\n",
              "        google.colab.kernel.accessAllowed ? 'block' : 'none';\n",
              "    })();\n",
              "  </script>\n",
              "</div>\n",
              "    </div>\n",
              "  </div>\n"
            ],
            "application/vnd.google.colaboratory.intrinsic+json": {
              "type": "dataframe",
              "variable_name": "df",
              "summary": "{\n  \"name\": \"df\",\n  \"rows\": 10000,\n  \"fields\": [\n    {\n      \"column\": \"RowNumber\",\n      \"properties\": {\n        \"dtype\": \"number\",\n        \"std\": 2886,\n        \"min\": 1,\n        \"max\": 10000,\n        \"samples\": [\n          6253,\n          4685,\n          1732\n        ],\n        \"num_unique_values\": 10000,\n        \"semantic_type\": \"\",\n        \"description\": \"\"\n      }\n    },\n    {\n      \"column\": \"CustomerId\",\n      \"properties\": {\n        \"dtype\": \"number\",\n        \"std\": 71936,\n        \"min\": 15565701,\n        \"max\": 15815690,\n        \"samples\": [\n          15687492,\n          15736963,\n          15721730\n        ],\n        \"num_unique_values\": 10000,\n        \"semantic_type\": \"\",\n        \"description\": \"\"\n      }\n    },\n    {\n      \"column\": \"Surname\",\n      \"properties\": {\n        \"dtype\": \"category\",\n        \"samples\": [\n          \"McGuirk\",\n          \"Torkelson\",\n          \"Rapuluchukwu\"\n        ],\n        \"num_unique_values\": 2932,\n        \"semantic_type\": \"\",\n        \"description\": \"\"\n      }\n    },\n    {\n      \"column\": \"CreditScore\",\n      \"properties\": {\n        \"dtype\": \"number\",\n        \"std\": 96,\n        \"min\": 350,\n        \"max\": 850,\n        \"samples\": [\n          754,\n          533,\n          744\n        ],\n        \"num_unique_values\": 460,\n        \"semantic_type\": \"\",\n        \"description\": \"\"\n      }\n    },\n    {\n      \"column\": \"Geography\",\n      \"properties\": {\n        \"dtype\": \"category\",\n        \"samples\": [\n          \"France\",\n          \"Spain\",\n          \"Germany\"\n        ],\n        \"num_unique_values\": 3,\n        \"semantic_type\": \"\",\n        \"description\": \"\"\n      }\n    },\n    {\n      \"column\": \"Gender\",\n      \"properties\": {\n        \"dtype\": \"category\",\n        \"samples\": [\n          \"Male\",\n          \"Female\"\n        ],\n        \"num_unique_values\": 2,\n        \"semantic_type\": \"\",\n        \"description\": \"\"\n      }\n    },\n    {\n      \"column\": \"Age\",\n      \"properties\": {\n        \"dtype\": \"number\",\n        \"std\": 10,\n        \"min\": 18,\n        \"max\": 92,\n        \"samples\": [\n          61,\n          42\n        ],\n        \"num_unique_values\": 70,\n        \"semantic_type\": \"\",\n        \"description\": \"\"\n      }\n    },\n    {\n      \"column\": \"Tenure\",\n      \"properties\": {\n        \"dtype\": \"number\",\n        \"std\": 2,\n        \"min\": 0,\n        \"max\": 10,\n        \"samples\": [\n          6,\n          2\n        ],\n        \"num_unique_values\": 11,\n        \"semantic_type\": \"\",\n        \"description\": \"\"\n      }\n    },\n    {\n      \"column\": \"Balance\",\n      \"properties\": {\n        \"dtype\": \"number\",\n        \"std\": 62397.405202385955,\n        \"min\": 0.0,\n        \"max\": 250898.09,\n        \"samples\": [\n          117707.18,\n          133050.97\n        ],\n        \"num_unique_values\": 6382,\n        \"semantic_type\": \"\",\n        \"description\": \"\"\n      }\n    },\n    {\n      \"column\": \"NumOfProducts\",\n      \"properties\": {\n        \"dtype\": \"number\",\n        \"std\": 0,\n        \"min\": 1,\n        \"max\": 4,\n        \"samples\": [\n          3,\n          4\n        ],\n        \"num_unique_values\": 4,\n        \"semantic_type\": \"\",\n        \"description\": \"\"\n      }\n    },\n    {\n      \"column\": \"HasCrCard\",\n      \"properties\": {\n        \"dtype\": \"number\",\n        \"std\": 0,\n        \"min\": 0,\n        \"max\": 1,\n        \"samples\": [\n          0,\n          1\n        ],\n        \"num_unique_values\": 2,\n        \"semantic_type\": \"\",\n        \"description\": \"\"\n      }\n    },\n    {\n      \"column\": \"IsActiveMember\",\n      \"properties\": {\n        \"dtype\": \"number\",\n        \"std\": 0,\n        \"min\": 0,\n        \"max\": 1,\n        \"samples\": [\n          0,\n          1\n        ],\n        \"num_unique_values\": 2,\n        \"semantic_type\": \"\",\n        \"description\": \"\"\n      }\n    },\n    {\n      \"column\": \"EstimatedSalary\",\n      \"properties\": {\n        \"dtype\": \"number\",\n        \"std\": 57510.49281769816,\n        \"min\": 11.58,\n        \"max\": 199992.48,\n        \"samples\": [\n          100809.99,\n          95273.73\n        ],\n        \"num_unique_values\": 9999,\n        \"semantic_type\": \"\",\n        \"description\": \"\"\n      }\n    },\n    {\n      \"column\": \"Exited\",\n      \"properties\": {\n        \"dtype\": \"number\",\n        \"std\": 0,\n        \"min\": 0,\n        \"max\": 1,\n        \"samples\": [\n          0,\n          1\n        ],\n        \"num_unique_values\": 2,\n        \"semantic_type\": \"\",\n        \"description\": \"\"\n      }\n    }\n  ]\n}"
            }
          },
          "metadata": {},
          "execution_count": 116
        }
      ],
      "source": [
        "file_name = 'Churn_Modelling.csv'\n",
        "df = pd.read_csv(file_name)\n",
        "df.head()"
      ],
      "id": "0dd3ef6c-a50d-4d5c-8093-338b10f3bdbc"
    },
    {
      "cell_type": "code",
      "source": [
        "df = df.drop(columns=['HasCrCard'])"
      ],
      "metadata": {
        "id": "uDjgo1NKNFEO"
      },
      "id": "uDjgo1NKNFEO",
      "execution_count": 117,
      "outputs": []
    },
    {
      "cell_type": "markdown",
      "source": [
        "Kolom `HasCrCard` didrop karena berdasarkan analisis pada feature selection memiliki score paling rendah."
      ],
      "metadata": {
        "id": "p5QvYTofuG_I"
      },
      "id": "p5QvYTofuG_I"
    },
    {
      "cell_type": "code",
      "source": [
        "df.head()"
      ],
      "metadata": {
        "colab": {
          "base_uri": "https://localhost:8080/",
          "height": 226
        },
        "id": "BBPaLNF8NGV5",
        "outputId": "d4c2e66f-6437-406a-85de-9ba8d94a726b"
      },
      "id": "BBPaLNF8NGV5",
      "execution_count": 118,
      "outputs": [
        {
          "output_type": "execute_result",
          "data": {
            "text/plain": [
              "   RowNumber  CustomerId   Surname  CreditScore Geography  Gender  Age  \\\n",
              "0          1    15634602  Hargrave          619    France  Female   42   \n",
              "1          2    15647311      Hill          608     Spain  Female   41   \n",
              "2          3    15619304      Onio          502    France  Female   42   \n",
              "3          4    15701354      Boni          699    France  Female   39   \n",
              "4          5    15737888  Mitchell          850     Spain  Female   43   \n",
              "\n",
              "   Tenure    Balance  NumOfProducts  IsActiveMember  EstimatedSalary  Exited  \n",
              "0       2       0.00              1               1        101348.88       1  \n",
              "1       1   83807.86              1               1        112542.58       0  \n",
              "2       8  159660.80              3               0        113931.57       1  \n",
              "3       1       0.00              2               0         93826.63       0  \n",
              "4       2  125510.82              1               1         79084.10       0  "
            ],
            "text/html": [
              "\n",
              "  <div id=\"df-7ac53ca2-8fc5-4a44-b010-598dd4aa4c2d\" class=\"colab-df-container\">\n",
              "    <div>\n",
              "<style scoped>\n",
              "    .dataframe tbody tr th:only-of-type {\n",
              "        vertical-align: middle;\n",
              "    }\n",
              "\n",
              "    .dataframe tbody tr th {\n",
              "        vertical-align: top;\n",
              "    }\n",
              "\n",
              "    .dataframe thead th {\n",
              "        text-align: right;\n",
              "    }\n",
              "</style>\n",
              "<table border=\"1\" class=\"dataframe\">\n",
              "  <thead>\n",
              "    <tr style=\"text-align: right;\">\n",
              "      <th></th>\n",
              "      <th>RowNumber</th>\n",
              "      <th>CustomerId</th>\n",
              "      <th>Surname</th>\n",
              "      <th>CreditScore</th>\n",
              "      <th>Geography</th>\n",
              "      <th>Gender</th>\n",
              "      <th>Age</th>\n",
              "      <th>Tenure</th>\n",
              "      <th>Balance</th>\n",
              "      <th>NumOfProducts</th>\n",
              "      <th>IsActiveMember</th>\n",
              "      <th>EstimatedSalary</th>\n",
              "      <th>Exited</th>\n",
              "    </tr>\n",
              "  </thead>\n",
              "  <tbody>\n",
              "    <tr>\n",
              "      <th>0</th>\n",
              "      <td>1</td>\n",
              "      <td>15634602</td>\n",
              "      <td>Hargrave</td>\n",
              "      <td>619</td>\n",
              "      <td>France</td>\n",
              "      <td>Female</td>\n",
              "      <td>42</td>\n",
              "      <td>2</td>\n",
              "      <td>0.00</td>\n",
              "      <td>1</td>\n",
              "      <td>1</td>\n",
              "      <td>101348.88</td>\n",
              "      <td>1</td>\n",
              "    </tr>\n",
              "    <tr>\n",
              "      <th>1</th>\n",
              "      <td>2</td>\n",
              "      <td>15647311</td>\n",
              "      <td>Hill</td>\n",
              "      <td>608</td>\n",
              "      <td>Spain</td>\n",
              "      <td>Female</td>\n",
              "      <td>41</td>\n",
              "      <td>1</td>\n",
              "      <td>83807.86</td>\n",
              "      <td>1</td>\n",
              "      <td>1</td>\n",
              "      <td>112542.58</td>\n",
              "      <td>0</td>\n",
              "    </tr>\n",
              "    <tr>\n",
              "      <th>2</th>\n",
              "      <td>3</td>\n",
              "      <td>15619304</td>\n",
              "      <td>Onio</td>\n",
              "      <td>502</td>\n",
              "      <td>France</td>\n",
              "      <td>Female</td>\n",
              "      <td>42</td>\n",
              "      <td>8</td>\n",
              "      <td>159660.80</td>\n",
              "      <td>3</td>\n",
              "      <td>0</td>\n",
              "      <td>113931.57</td>\n",
              "      <td>1</td>\n",
              "    </tr>\n",
              "    <tr>\n",
              "      <th>3</th>\n",
              "      <td>4</td>\n",
              "      <td>15701354</td>\n",
              "      <td>Boni</td>\n",
              "      <td>699</td>\n",
              "      <td>France</td>\n",
              "      <td>Female</td>\n",
              "      <td>39</td>\n",
              "      <td>1</td>\n",
              "      <td>0.00</td>\n",
              "      <td>2</td>\n",
              "      <td>0</td>\n",
              "      <td>93826.63</td>\n",
              "      <td>0</td>\n",
              "    </tr>\n",
              "    <tr>\n",
              "      <th>4</th>\n",
              "      <td>5</td>\n",
              "      <td>15737888</td>\n",
              "      <td>Mitchell</td>\n",
              "      <td>850</td>\n",
              "      <td>Spain</td>\n",
              "      <td>Female</td>\n",
              "      <td>43</td>\n",
              "      <td>2</td>\n",
              "      <td>125510.82</td>\n",
              "      <td>1</td>\n",
              "      <td>1</td>\n",
              "      <td>79084.10</td>\n",
              "      <td>0</td>\n",
              "    </tr>\n",
              "  </tbody>\n",
              "</table>\n",
              "</div>\n",
              "    <div class=\"colab-df-buttons\">\n",
              "\n",
              "  <div class=\"colab-df-container\">\n",
              "    <button class=\"colab-df-convert\" onclick=\"convertToInteractive('df-7ac53ca2-8fc5-4a44-b010-598dd4aa4c2d')\"\n",
              "            title=\"Convert this dataframe to an interactive table.\"\n",
              "            style=\"display:none;\">\n",
              "\n",
              "  <svg xmlns=\"http://www.w3.org/2000/svg\" height=\"24px\" viewBox=\"0 -960 960 960\">\n",
              "    <path d=\"M120-120v-720h720v720H120Zm60-500h600v-160H180v160Zm220 220h160v-160H400v160Zm0 220h160v-160H400v160ZM180-400h160v-160H180v160Zm440 0h160v-160H620v160ZM180-180h160v-160H180v160Zm440 0h160v-160H620v160Z\"/>\n",
              "  </svg>\n",
              "    </button>\n",
              "\n",
              "  <style>\n",
              "    .colab-df-container {\n",
              "      display:flex;\n",
              "      gap: 12px;\n",
              "    }\n",
              "\n",
              "    .colab-df-convert {\n",
              "      background-color: #E8F0FE;\n",
              "      border: none;\n",
              "      border-radius: 50%;\n",
              "      cursor: pointer;\n",
              "      display: none;\n",
              "      fill: #1967D2;\n",
              "      height: 32px;\n",
              "      padding: 0 0 0 0;\n",
              "      width: 32px;\n",
              "    }\n",
              "\n",
              "    .colab-df-convert:hover {\n",
              "      background-color: #E2EBFA;\n",
              "      box-shadow: 0px 1px 2px rgba(60, 64, 67, 0.3), 0px 1px 3px 1px rgba(60, 64, 67, 0.15);\n",
              "      fill: #174EA6;\n",
              "    }\n",
              "\n",
              "    .colab-df-buttons div {\n",
              "      margin-bottom: 4px;\n",
              "    }\n",
              "\n",
              "    [theme=dark] .colab-df-convert {\n",
              "      background-color: #3B4455;\n",
              "      fill: #D2E3FC;\n",
              "    }\n",
              "\n",
              "    [theme=dark] .colab-df-convert:hover {\n",
              "      background-color: #434B5C;\n",
              "      box-shadow: 0px 1px 3px 1px rgba(0, 0, 0, 0.15);\n",
              "      filter: drop-shadow(0px 1px 2px rgba(0, 0, 0, 0.3));\n",
              "      fill: #FFFFFF;\n",
              "    }\n",
              "  </style>\n",
              "\n",
              "    <script>\n",
              "      const buttonEl =\n",
              "        document.querySelector('#df-7ac53ca2-8fc5-4a44-b010-598dd4aa4c2d button.colab-df-convert');\n",
              "      buttonEl.style.display =\n",
              "        google.colab.kernel.accessAllowed ? 'block' : 'none';\n",
              "\n",
              "      async function convertToInteractive(key) {\n",
              "        const element = document.querySelector('#df-7ac53ca2-8fc5-4a44-b010-598dd4aa4c2d');\n",
              "        const dataTable =\n",
              "          await google.colab.kernel.invokeFunction('convertToInteractive',\n",
              "                                                    [key], {});\n",
              "        if (!dataTable) return;\n",
              "\n",
              "        const docLinkHtml = 'Like what you see? Visit the ' +\n",
              "          '<a target=\"_blank\" href=https://colab.research.google.com/notebooks/data_table.ipynb>data table notebook</a>'\n",
              "          + ' to learn more about interactive tables.';\n",
              "        element.innerHTML = '';\n",
              "        dataTable['output_type'] = 'display_data';\n",
              "        await google.colab.output.renderOutput(dataTable, element);\n",
              "        const docLink = document.createElement('div');\n",
              "        docLink.innerHTML = docLinkHtml;\n",
              "        element.appendChild(docLink);\n",
              "      }\n",
              "    </script>\n",
              "  </div>\n",
              "\n",
              "\n",
              "<div id=\"df-c2a93103-1288-4cf3-a2b2-48d68a65efe6\">\n",
              "  <button class=\"colab-df-quickchart\" onclick=\"quickchart('df-c2a93103-1288-4cf3-a2b2-48d68a65efe6')\"\n",
              "            title=\"Suggest charts\"\n",
              "            style=\"display:none;\">\n",
              "\n",
              "<svg xmlns=\"http://www.w3.org/2000/svg\" height=\"24px\"viewBox=\"0 0 24 24\"\n",
              "     width=\"24px\">\n",
              "    <g>\n",
              "        <path d=\"M19 3H5c-1.1 0-2 .9-2 2v14c0 1.1.9 2 2 2h14c1.1 0 2-.9 2-2V5c0-1.1-.9-2-2-2zM9 17H7v-7h2v7zm4 0h-2V7h2v10zm4 0h-2v-4h2v4z\"/>\n",
              "    </g>\n",
              "</svg>\n",
              "  </button>\n",
              "\n",
              "<style>\n",
              "  .colab-df-quickchart {\n",
              "      --bg-color: #E8F0FE;\n",
              "      --fill-color: #1967D2;\n",
              "      --hover-bg-color: #E2EBFA;\n",
              "      --hover-fill-color: #174EA6;\n",
              "      --disabled-fill-color: #AAA;\n",
              "      --disabled-bg-color: #DDD;\n",
              "  }\n",
              "\n",
              "  [theme=dark] .colab-df-quickchart {\n",
              "      --bg-color: #3B4455;\n",
              "      --fill-color: #D2E3FC;\n",
              "      --hover-bg-color: #434B5C;\n",
              "      --hover-fill-color: #FFFFFF;\n",
              "      --disabled-bg-color: #3B4455;\n",
              "      --disabled-fill-color: #666;\n",
              "  }\n",
              "\n",
              "  .colab-df-quickchart {\n",
              "    background-color: var(--bg-color);\n",
              "    border: none;\n",
              "    border-radius: 50%;\n",
              "    cursor: pointer;\n",
              "    display: none;\n",
              "    fill: var(--fill-color);\n",
              "    height: 32px;\n",
              "    padding: 0;\n",
              "    width: 32px;\n",
              "  }\n",
              "\n",
              "  .colab-df-quickchart:hover {\n",
              "    background-color: var(--hover-bg-color);\n",
              "    box-shadow: 0 1px 2px rgba(60, 64, 67, 0.3), 0 1px 3px 1px rgba(60, 64, 67, 0.15);\n",
              "    fill: var(--button-hover-fill-color);\n",
              "  }\n",
              "\n",
              "  .colab-df-quickchart-complete:disabled,\n",
              "  .colab-df-quickchart-complete:disabled:hover {\n",
              "    background-color: var(--disabled-bg-color);\n",
              "    fill: var(--disabled-fill-color);\n",
              "    box-shadow: none;\n",
              "  }\n",
              "\n",
              "  .colab-df-spinner {\n",
              "    border: 2px solid var(--fill-color);\n",
              "    border-color: transparent;\n",
              "    border-bottom-color: var(--fill-color);\n",
              "    animation:\n",
              "      spin 1s steps(1) infinite;\n",
              "  }\n",
              "\n",
              "  @keyframes spin {\n",
              "    0% {\n",
              "      border-color: transparent;\n",
              "      border-bottom-color: var(--fill-color);\n",
              "      border-left-color: var(--fill-color);\n",
              "    }\n",
              "    20% {\n",
              "      border-color: transparent;\n",
              "      border-left-color: var(--fill-color);\n",
              "      border-top-color: var(--fill-color);\n",
              "    }\n",
              "    30% {\n",
              "      border-color: transparent;\n",
              "      border-left-color: var(--fill-color);\n",
              "      border-top-color: var(--fill-color);\n",
              "      border-right-color: var(--fill-color);\n",
              "    }\n",
              "    40% {\n",
              "      border-color: transparent;\n",
              "      border-right-color: var(--fill-color);\n",
              "      border-top-color: var(--fill-color);\n",
              "    }\n",
              "    60% {\n",
              "      border-color: transparent;\n",
              "      border-right-color: var(--fill-color);\n",
              "    }\n",
              "    80% {\n",
              "      border-color: transparent;\n",
              "      border-right-color: var(--fill-color);\n",
              "      border-bottom-color: var(--fill-color);\n",
              "    }\n",
              "    90% {\n",
              "      border-color: transparent;\n",
              "      border-bottom-color: var(--fill-color);\n",
              "    }\n",
              "  }\n",
              "</style>\n",
              "\n",
              "  <script>\n",
              "    async function quickchart(key) {\n",
              "      const quickchartButtonEl =\n",
              "        document.querySelector('#' + key + ' button');\n",
              "      quickchartButtonEl.disabled = true;  // To prevent multiple clicks.\n",
              "      quickchartButtonEl.classList.add('colab-df-spinner');\n",
              "      try {\n",
              "        const charts = await google.colab.kernel.invokeFunction(\n",
              "            'suggestCharts', [key], {});\n",
              "      } catch (error) {\n",
              "        console.error('Error during call to suggestCharts:', error);\n",
              "      }\n",
              "      quickchartButtonEl.classList.remove('colab-df-spinner');\n",
              "      quickchartButtonEl.classList.add('colab-df-quickchart-complete');\n",
              "    }\n",
              "    (() => {\n",
              "      let quickchartButtonEl =\n",
              "        document.querySelector('#df-c2a93103-1288-4cf3-a2b2-48d68a65efe6 button');\n",
              "      quickchartButtonEl.style.display =\n",
              "        google.colab.kernel.accessAllowed ? 'block' : 'none';\n",
              "    })();\n",
              "  </script>\n",
              "</div>\n",
              "    </div>\n",
              "  </div>\n"
            ],
            "application/vnd.google.colaboratory.intrinsic+json": {
              "type": "dataframe",
              "variable_name": "df",
              "summary": "{\n  \"name\": \"df\",\n  \"rows\": 10000,\n  \"fields\": [\n    {\n      \"column\": \"RowNumber\",\n      \"properties\": {\n        \"dtype\": \"number\",\n        \"std\": 2886,\n        \"min\": 1,\n        \"max\": 10000,\n        \"samples\": [\n          6253,\n          4685,\n          1732\n        ],\n        \"num_unique_values\": 10000,\n        \"semantic_type\": \"\",\n        \"description\": \"\"\n      }\n    },\n    {\n      \"column\": \"CustomerId\",\n      \"properties\": {\n        \"dtype\": \"number\",\n        \"std\": 71936,\n        \"min\": 15565701,\n        \"max\": 15815690,\n        \"samples\": [\n          15687492,\n          15736963,\n          15721730\n        ],\n        \"num_unique_values\": 10000,\n        \"semantic_type\": \"\",\n        \"description\": \"\"\n      }\n    },\n    {\n      \"column\": \"Surname\",\n      \"properties\": {\n        \"dtype\": \"category\",\n        \"samples\": [\n          \"McGuirk\",\n          \"Torkelson\",\n          \"Rapuluchukwu\"\n        ],\n        \"num_unique_values\": 2932,\n        \"semantic_type\": \"\",\n        \"description\": \"\"\n      }\n    },\n    {\n      \"column\": \"CreditScore\",\n      \"properties\": {\n        \"dtype\": \"number\",\n        \"std\": 96,\n        \"min\": 350,\n        \"max\": 850,\n        \"samples\": [\n          754,\n          533,\n          744\n        ],\n        \"num_unique_values\": 460,\n        \"semantic_type\": \"\",\n        \"description\": \"\"\n      }\n    },\n    {\n      \"column\": \"Geography\",\n      \"properties\": {\n        \"dtype\": \"category\",\n        \"samples\": [\n          \"France\",\n          \"Spain\",\n          \"Germany\"\n        ],\n        \"num_unique_values\": 3,\n        \"semantic_type\": \"\",\n        \"description\": \"\"\n      }\n    },\n    {\n      \"column\": \"Gender\",\n      \"properties\": {\n        \"dtype\": \"category\",\n        \"samples\": [\n          \"Male\",\n          \"Female\"\n        ],\n        \"num_unique_values\": 2,\n        \"semantic_type\": \"\",\n        \"description\": \"\"\n      }\n    },\n    {\n      \"column\": \"Age\",\n      \"properties\": {\n        \"dtype\": \"number\",\n        \"std\": 10,\n        \"min\": 18,\n        \"max\": 92,\n        \"samples\": [\n          61,\n          42\n        ],\n        \"num_unique_values\": 70,\n        \"semantic_type\": \"\",\n        \"description\": \"\"\n      }\n    },\n    {\n      \"column\": \"Tenure\",\n      \"properties\": {\n        \"dtype\": \"number\",\n        \"std\": 2,\n        \"min\": 0,\n        \"max\": 10,\n        \"samples\": [\n          6,\n          2\n        ],\n        \"num_unique_values\": 11,\n        \"semantic_type\": \"\",\n        \"description\": \"\"\n      }\n    },\n    {\n      \"column\": \"Balance\",\n      \"properties\": {\n        \"dtype\": \"number\",\n        \"std\": 62397.405202385955,\n        \"min\": 0.0,\n        \"max\": 250898.09,\n        \"samples\": [\n          117707.18,\n          133050.97\n        ],\n        \"num_unique_values\": 6382,\n        \"semantic_type\": \"\",\n        \"description\": \"\"\n      }\n    },\n    {\n      \"column\": \"NumOfProducts\",\n      \"properties\": {\n        \"dtype\": \"number\",\n        \"std\": 0,\n        \"min\": 1,\n        \"max\": 4,\n        \"samples\": [\n          3,\n          4\n        ],\n        \"num_unique_values\": 4,\n        \"semantic_type\": \"\",\n        \"description\": \"\"\n      }\n    },\n    {\n      \"column\": \"IsActiveMember\",\n      \"properties\": {\n        \"dtype\": \"number\",\n        \"std\": 0,\n        \"min\": 0,\n        \"max\": 1,\n        \"samples\": [\n          0,\n          1\n        ],\n        \"num_unique_values\": 2,\n        \"semantic_type\": \"\",\n        \"description\": \"\"\n      }\n    },\n    {\n      \"column\": \"EstimatedSalary\",\n      \"properties\": {\n        \"dtype\": \"number\",\n        \"std\": 57510.49281769816,\n        \"min\": 11.58,\n        \"max\": 199992.48,\n        \"samples\": [\n          100809.99,\n          95273.73\n        ],\n        \"num_unique_values\": 9999,\n        \"semantic_type\": \"\",\n        \"description\": \"\"\n      }\n    },\n    {\n      \"column\": \"Exited\",\n      \"properties\": {\n        \"dtype\": \"number\",\n        \"std\": 0,\n        \"min\": 0,\n        \"max\": 1,\n        \"samples\": [\n          0,\n          1\n        ],\n        \"num_unique_values\": 2,\n        \"semantic_type\": \"\",\n        \"description\": \"\"\n      }\n    }\n  ]\n}"
            }
          },
          "metadata": {},
          "execution_count": 118
        }
      ]
    },
    {
      "cell_type": "markdown",
      "metadata": {
        "id": "9d07ab51-3861-4c3b-978a-807d0bfca831"
      },
      "source": [
        "# **3. Data Pre-Processing**"
      ],
      "id": "9d07ab51-3861-4c3b-978a-807d0bfca831"
    },
    {
      "cell_type": "markdown",
      "metadata": {
        "id": "6c3ec0d2-ae93-4085-a689-a8adae693fca"
      },
      "source": [
        "### **Missing value**"
      ],
      "id": "6c3ec0d2-ae93-4085-a689-a8adae693fca"
    },
    {
      "cell_type": "code",
      "execution_count": 119,
      "metadata": {
        "colab": {
          "base_uri": "https://localhost:8080/"
        },
        "id": "68ae42ef-61b5-4ce1-821e-012498333697",
        "outputId": "1ec0f4bf-5ad9-4995-ee7f-9247544b9321"
      },
      "outputs": [
        {
          "output_type": "execute_result",
          "data": {
            "text/plain": [
              "RowNumber          0\n",
              "CustomerId         0\n",
              "Surname            0\n",
              "CreditScore        0\n",
              "Geography          0\n",
              "Gender             0\n",
              "Age                0\n",
              "Tenure             0\n",
              "Balance            0\n",
              "NumOfProducts      0\n",
              "IsActiveMember     0\n",
              "EstimatedSalary    0\n",
              "Exited             0\n",
              "dtype: int64"
            ]
          },
          "metadata": {},
          "execution_count": 119
        }
      ],
      "source": [
        "df.isna().sum()"
      ],
      "id": "68ae42ef-61b5-4ce1-821e-012498333697"
    },
    {
      "cell_type": "markdown",
      "metadata": {
        "id": "004q_81UZLBO"
      },
      "source": [
        "Dataset tidak\n",
        "memiliki missing value."
      ],
      "id": "004q_81UZLBO"
    },
    {
      "cell_type": "markdown",
      "metadata": {
        "id": "bIbZEp8EZTgL"
      },
      "source": [
        "### **Duplicated Data**"
      ],
      "id": "bIbZEp8EZTgL"
    },
    {
      "cell_type": "code",
      "execution_count": 120,
      "metadata": {
        "colab": {
          "base_uri": "https://localhost:8080/"
        },
        "id": "4vj_JqrsZhW5",
        "outputId": "09f7e98b-5a7d-4019-c6d4-78d655ed6e0a"
      },
      "outputs": [
        {
          "output_type": "stream",
          "name": "stdout",
          "text": [
            "Jumlah data duplikat keseluruhan =  0\n",
            "Jumlah data duplikat subset 'RowNumber' =  0\n",
            "Jumlah data duplikat subset 'CustomerId' =  0\n"
          ]
        }
      ],
      "source": [
        "print(f\"Jumlah data duplikat keseluruhan = \", df.duplicated().sum())\n",
        "print(f\"Jumlah data duplikat subset 'RowNumber' = \", df.duplicated(subset=['RowNumber']).sum())\n",
        "print(f\"Jumlah data duplikat subset 'CustomerId' = \", df.duplicated(subset=['CustomerId']).sum())"
      ],
      "id": "4vj_JqrsZhW5"
    },
    {
      "cell_type": "markdown",
      "source": [
        "Tidak terdapat data duplikat, sehingga kolom `RowNumber`, `CustomerId`, dan `Surname` dapat didrop."
      ],
      "metadata": {
        "id": "DiZCtBMWty7G"
      },
      "id": "DiZCtBMWty7G"
    },
    {
      "cell_type": "code",
      "execution_count": 121,
      "metadata": {
        "id": "7e92dca1-0824-49c5-8e99-65093fb2ec6e"
      },
      "outputs": [],
      "source": [
        "df = df.drop(columns=['RowNumber', 'CustomerId', 'Surname'])"
      ],
      "id": "7e92dca1-0824-49c5-8e99-65093fb2ec6e"
    },
    {
      "cell_type": "code",
      "source": [
        "df.info()"
      ],
      "metadata": {
        "colab": {
          "base_uri": "https://localhost:8080/"
        },
        "id": "P-_17DIaxUse",
        "outputId": "0ca46828-d905-45c7-d888-597193374204"
      },
      "id": "P-_17DIaxUse",
      "execution_count": 122,
      "outputs": [
        {
          "output_type": "stream",
          "name": "stdout",
          "text": [
            "<class 'pandas.core.frame.DataFrame'>\n",
            "RangeIndex: 10000 entries, 0 to 9999\n",
            "Data columns (total 10 columns):\n",
            " #   Column           Non-Null Count  Dtype  \n",
            "---  ------           --------------  -----  \n",
            " 0   CreditScore      10000 non-null  int64  \n",
            " 1   Geography        10000 non-null  object \n",
            " 2   Gender           10000 non-null  object \n",
            " 3   Age              10000 non-null  int64  \n",
            " 4   Tenure           10000 non-null  int64  \n",
            " 5   Balance          10000 non-null  float64\n",
            " 6   NumOfProducts    10000 non-null  int64  \n",
            " 7   IsActiveMember   10000 non-null  int64  \n",
            " 8   EstimatedSalary  10000 non-null  float64\n",
            " 9   Exited           10000 non-null  int64  \n",
            "dtypes: float64(2), int64(6), object(2)\n",
            "memory usage: 781.4+ KB\n"
          ]
        }
      ]
    },
    {
      "cell_type": "markdown",
      "metadata": {
        "id": "e4d590bd-4534-406a-9808-25b73a4c5b46"
      },
      "source": [
        "### **Label Encoding**"
      ],
      "id": "e4d590bd-4534-406a-9808-25b73a4c5b46"
    },
    {
      "cell_type": "code",
      "execution_count": 123,
      "metadata": {
        "id": "9b5a8f0b-11ad-45a9-80c1-db8cc245a465"
      },
      "outputs": [],
      "source": [
        "cats = ['Geography', 'Gender']\n",
        "nums = ['CreditScore', 'Age', 'Balance', 'Tenure', 'EstimatedSalary', 'NumOfProducts', 'IsActiveMember', 'Exited']"
      ],
      "id": "9b5a8f0b-11ad-45a9-80c1-db8cc245a465"
    },
    {
      "cell_type": "code",
      "source": [
        "# one hot encoding pada kolom gender dan geography\n",
        "for cat in cats[:]:\n",
        "  nominal_encoded = pd.get_dummies(df[cat], prefix=cat)\n",
        "  df = pd.concat([df, nominal_encoded], axis=1)\n",
        "for column in df.columns:\n",
        "  if df[column].dtype == object and column != 'Exited':\n",
        "    df.drop(column, axis = 1, inplace = True)"
      ],
      "metadata": {
        "id": "YoMfDiiJ7v5k"
      },
      "id": "YoMfDiiJ7v5k",
      "execution_count": 124,
      "outputs": []
    },
    {
      "cell_type": "code",
      "execution_count": 125,
      "metadata": {
        "colab": {
          "base_uri": "https://localhost:8080/",
          "height": 226
        },
        "id": "QOaBkWFrbag6",
        "outputId": "4899ef5d-4a44-41ad-934d-e1a46efbf82f"
      },
      "outputs": [
        {
          "output_type": "execute_result",
          "data": {
            "text/plain": [
              "   CreditScore  Age  Tenure    Balance  NumOfProducts  IsActiveMember  \\\n",
              "0          619   42       2       0.00              1               1   \n",
              "1          608   41       1   83807.86              1               1   \n",
              "2          502   42       8  159660.80              3               0   \n",
              "3          699   39       1       0.00              2               0   \n",
              "4          850   43       2  125510.82              1               1   \n",
              "\n",
              "   EstimatedSalary  Exited  Geography_France  Geography_Germany  \\\n",
              "0        101348.88       1                 1                  0   \n",
              "1        112542.58       0                 0                  0   \n",
              "2        113931.57       1                 1                  0   \n",
              "3         93826.63       0                 1                  0   \n",
              "4         79084.10       0                 0                  0   \n",
              "\n",
              "   Geography_Spain  Gender_Female  Gender_Male  \n",
              "0                0              1            0  \n",
              "1                1              1            0  \n",
              "2                0              1            0  \n",
              "3                0              1            0  \n",
              "4                1              1            0  "
            ],
            "text/html": [
              "\n",
              "  <div id=\"df-0e007335-ddcd-4e8f-b0a9-8c80ecda4418\" class=\"colab-df-container\">\n",
              "    <div>\n",
              "<style scoped>\n",
              "    .dataframe tbody tr th:only-of-type {\n",
              "        vertical-align: middle;\n",
              "    }\n",
              "\n",
              "    .dataframe tbody tr th {\n",
              "        vertical-align: top;\n",
              "    }\n",
              "\n",
              "    .dataframe thead th {\n",
              "        text-align: right;\n",
              "    }\n",
              "</style>\n",
              "<table border=\"1\" class=\"dataframe\">\n",
              "  <thead>\n",
              "    <tr style=\"text-align: right;\">\n",
              "      <th></th>\n",
              "      <th>CreditScore</th>\n",
              "      <th>Age</th>\n",
              "      <th>Tenure</th>\n",
              "      <th>Balance</th>\n",
              "      <th>NumOfProducts</th>\n",
              "      <th>IsActiveMember</th>\n",
              "      <th>EstimatedSalary</th>\n",
              "      <th>Exited</th>\n",
              "      <th>Geography_France</th>\n",
              "      <th>Geography_Germany</th>\n",
              "      <th>Geography_Spain</th>\n",
              "      <th>Gender_Female</th>\n",
              "      <th>Gender_Male</th>\n",
              "    </tr>\n",
              "  </thead>\n",
              "  <tbody>\n",
              "    <tr>\n",
              "      <th>0</th>\n",
              "      <td>619</td>\n",
              "      <td>42</td>\n",
              "      <td>2</td>\n",
              "      <td>0.00</td>\n",
              "      <td>1</td>\n",
              "      <td>1</td>\n",
              "      <td>101348.88</td>\n",
              "      <td>1</td>\n",
              "      <td>1</td>\n",
              "      <td>0</td>\n",
              "      <td>0</td>\n",
              "      <td>1</td>\n",
              "      <td>0</td>\n",
              "    </tr>\n",
              "    <tr>\n",
              "      <th>1</th>\n",
              "      <td>608</td>\n",
              "      <td>41</td>\n",
              "      <td>1</td>\n",
              "      <td>83807.86</td>\n",
              "      <td>1</td>\n",
              "      <td>1</td>\n",
              "      <td>112542.58</td>\n",
              "      <td>0</td>\n",
              "      <td>0</td>\n",
              "      <td>0</td>\n",
              "      <td>1</td>\n",
              "      <td>1</td>\n",
              "      <td>0</td>\n",
              "    </tr>\n",
              "    <tr>\n",
              "      <th>2</th>\n",
              "      <td>502</td>\n",
              "      <td>42</td>\n",
              "      <td>8</td>\n",
              "      <td>159660.80</td>\n",
              "      <td>3</td>\n",
              "      <td>0</td>\n",
              "      <td>113931.57</td>\n",
              "      <td>1</td>\n",
              "      <td>1</td>\n",
              "      <td>0</td>\n",
              "      <td>0</td>\n",
              "      <td>1</td>\n",
              "      <td>0</td>\n",
              "    </tr>\n",
              "    <tr>\n",
              "      <th>3</th>\n",
              "      <td>699</td>\n",
              "      <td>39</td>\n",
              "      <td>1</td>\n",
              "      <td>0.00</td>\n",
              "      <td>2</td>\n",
              "      <td>0</td>\n",
              "      <td>93826.63</td>\n",
              "      <td>0</td>\n",
              "      <td>1</td>\n",
              "      <td>0</td>\n",
              "      <td>0</td>\n",
              "      <td>1</td>\n",
              "      <td>0</td>\n",
              "    </tr>\n",
              "    <tr>\n",
              "      <th>4</th>\n",
              "      <td>850</td>\n",
              "      <td>43</td>\n",
              "      <td>2</td>\n",
              "      <td>125510.82</td>\n",
              "      <td>1</td>\n",
              "      <td>1</td>\n",
              "      <td>79084.10</td>\n",
              "      <td>0</td>\n",
              "      <td>0</td>\n",
              "      <td>0</td>\n",
              "      <td>1</td>\n",
              "      <td>1</td>\n",
              "      <td>0</td>\n",
              "    </tr>\n",
              "  </tbody>\n",
              "</table>\n",
              "</div>\n",
              "    <div class=\"colab-df-buttons\">\n",
              "\n",
              "  <div class=\"colab-df-container\">\n",
              "    <button class=\"colab-df-convert\" onclick=\"convertToInteractive('df-0e007335-ddcd-4e8f-b0a9-8c80ecda4418')\"\n",
              "            title=\"Convert this dataframe to an interactive table.\"\n",
              "            style=\"display:none;\">\n",
              "\n",
              "  <svg xmlns=\"http://www.w3.org/2000/svg\" height=\"24px\" viewBox=\"0 -960 960 960\">\n",
              "    <path d=\"M120-120v-720h720v720H120Zm60-500h600v-160H180v160Zm220 220h160v-160H400v160Zm0 220h160v-160H400v160ZM180-400h160v-160H180v160Zm440 0h160v-160H620v160ZM180-180h160v-160H180v160Zm440 0h160v-160H620v160Z\"/>\n",
              "  </svg>\n",
              "    </button>\n",
              "\n",
              "  <style>\n",
              "    .colab-df-container {\n",
              "      display:flex;\n",
              "      gap: 12px;\n",
              "    }\n",
              "\n",
              "    .colab-df-convert {\n",
              "      background-color: #E8F0FE;\n",
              "      border: none;\n",
              "      border-radius: 50%;\n",
              "      cursor: pointer;\n",
              "      display: none;\n",
              "      fill: #1967D2;\n",
              "      height: 32px;\n",
              "      padding: 0 0 0 0;\n",
              "      width: 32px;\n",
              "    }\n",
              "\n",
              "    .colab-df-convert:hover {\n",
              "      background-color: #E2EBFA;\n",
              "      box-shadow: 0px 1px 2px rgba(60, 64, 67, 0.3), 0px 1px 3px 1px rgba(60, 64, 67, 0.15);\n",
              "      fill: #174EA6;\n",
              "    }\n",
              "\n",
              "    .colab-df-buttons div {\n",
              "      margin-bottom: 4px;\n",
              "    }\n",
              "\n",
              "    [theme=dark] .colab-df-convert {\n",
              "      background-color: #3B4455;\n",
              "      fill: #D2E3FC;\n",
              "    }\n",
              "\n",
              "    [theme=dark] .colab-df-convert:hover {\n",
              "      background-color: #434B5C;\n",
              "      box-shadow: 0px 1px 3px 1px rgba(0, 0, 0, 0.15);\n",
              "      filter: drop-shadow(0px 1px 2px rgba(0, 0, 0, 0.3));\n",
              "      fill: #FFFFFF;\n",
              "    }\n",
              "  </style>\n",
              "\n",
              "    <script>\n",
              "      const buttonEl =\n",
              "        document.querySelector('#df-0e007335-ddcd-4e8f-b0a9-8c80ecda4418 button.colab-df-convert');\n",
              "      buttonEl.style.display =\n",
              "        google.colab.kernel.accessAllowed ? 'block' : 'none';\n",
              "\n",
              "      async function convertToInteractive(key) {\n",
              "        const element = document.querySelector('#df-0e007335-ddcd-4e8f-b0a9-8c80ecda4418');\n",
              "        const dataTable =\n",
              "          await google.colab.kernel.invokeFunction('convertToInteractive',\n",
              "                                                    [key], {});\n",
              "        if (!dataTable) return;\n",
              "\n",
              "        const docLinkHtml = 'Like what you see? Visit the ' +\n",
              "          '<a target=\"_blank\" href=https://colab.research.google.com/notebooks/data_table.ipynb>data table notebook</a>'\n",
              "          + ' to learn more about interactive tables.';\n",
              "        element.innerHTML = '';\n",
              "        dataTable['output_type'] = 'display_data';\n",
              "        await google.colab.output.renderOutput(dataTable, element);\n",
              "        const docLink = document.createElement('div');\n",
              "        docLink.innerHTML = docLinkHtml;\n",
              "        element.appendChild(docLink);\n",
              "      }\n",
              "    </script>\n",
              "  </div>\n",
              "\n",
              "\n",
              "<div id=\"df-4d73ca4e-4483-426c-af10-33e20c79631f\">\n",
              "  <button class=\"colab-df-quickchart\" onclick=\"quickchart('df-4d73ca4e-4483-426c-af10-33e20c79631f')\"\n",
              "            title=\"Suggest charts\"\n",
              "            style=\"display:none;\">\n",
              "\n",
              "<svg xmlns=\"http://www.w3.org/2000/svg\" height=\"24px\"viewBox=\"0 0 24 24\"\n",
              "     width=\"24px\">\n",
              "    <g>\n",
              "        <path d=\"M19 3H5c-1.1 0-2 .9-2 2v14c0 1.1.9 2 2 2h14c1.1 0 2-.9 2-2V5c0-1.1-.9-2-2-2zM9 17H7v-7h2v7zm4 0h-2V7h2v10zm4 0h-2v-4h2v4z\"/>\n",
              "    </g>\n",
              "</svg>\n",
              "  </button>\n",
              "\n",
              "<style>\n",
              "  .colab-df-quickchart {\n",
              "      --bg-color: #E8F0FE;\n",
              "      --fill-color: #1967D2;\n",
              "      --hover-bg-color: #E2EBFA;\n",
              "      --hover-fill-color: #174EA6;\n",
              "      --disabled-fill-color: #AAA;\n",
              "      --disabled-bg-color: #DDD;\n",
              "  }\n",
              "\n",
              "  [theme=dark] .colab-df-quickchart {\n",
              "      --bg-color: #3B4455;\n",
              "      --fill-color: #D2E3FC;\n",
              "      --hover-bg-color: #434B5C;\n",
              "      --hover-fill-color: #FFFFFF;\n",
              "      --disabled-bg-color: #3B4455;\n",
              "      --disabled-fill-color: #666;\n",
              "  }\n",
              "\n",
              "  .colab-df-quickchart {\n",
              "    background-color: var(--bg-color);\n",
              "    border: none;\n",
              "    border-radius: 50%;\n",
              "    cursor: pointer;\n",
              "    display: none;\n",
              "    fill: var(--fill-color);\n",
              "    height: 32px;\n",
              "    padding: 0;\n",
              "    width: 32px;\n",
              "  }\n",
              "\n",
              "  .colab-df-quickchart:hover {\n",
              "    background-color: var(--hover-bg-color);\n",
              "    box-shadow: 0 1px 2px rgba(60, 64, 67, 0.3), 0 1px 3px 1px rgba(60, 64, 67, 0.15);\n",
              "    fill: var(--button-hover-fill-color);\n",
              "  }\n",
              "\n",
              "  .colab-df-quickchart-complete:disabled,\n",
              "  .colab-df-quickchart-complete:disabled:hover {\n",
              "    background-color: var(--disabled-bg-color);\n",
              "    fill: var(--disabled-fill-color);\n",
              "    box-shadow: none;\n",
              "  }\n",
              "\n",
              "  .colab-df-spinner {\n",
              "    border: 2px solid var(--fill-color);\n",
              "    border-color: transparent;\n",
              "    border-bottom-color: var(--fill-color);\n",
              "    animation:\n",
              "      spin 1s steps(1) infinite;\n",
              "  }\n",
              "\n",
              "  @keyframes spin {\n",
              "    0% {\n",
              "      border-color: transparent;\n",
              "      border-bottom-color: var(--fill-color);\n",
              "      border-left-color: var(--fill-color);\n",
              "    }\n",
              "    20% {\n",
              "      border-color: transparent;\n",
              "      border-left-color: var(--fill-color);\n",
              "      border-top-color: var(--fill-color);\n",
              "    }\n",
              "    30% {\n",
              "      border-color: transparent;\n",
              "      border-left-color: var(--fill-color);\n",
              "      border-top-color: var(--fill-color);\n",
              "      border-right-color: var(--fill-color);\n",
              "    }\n",
              "    40% {\n",
              "      border-color: transparent;\n",
              "      border-right-color: var(--fill-color);\n",
              "      border-top-color: var(--fill-color);\n",
              "    }\n",
              "    60% {\n",
              "      border-color: transparent;\n",
              "      border-right-color: var(--fill-color);\n",
              "    }\n",
              "    80% {\n",
              "      border-color: transparent;\n",
              "      border-right-color: var(--fill-color);\n",
              "      border-bottom-color: var(--fill-color);\n",
              "    }\n",
              "    90% {\n",
              "      border-color: transparent;\n",
              "      border-bottom-color: var(--fill-color);\n",
              "    }\n",
              "  }\n",
              "</style>\n",
              "\n",
              "  <script>\n",
              "    async function quickchart(key) {\n",
              "      const quickchartButtonEl =\n",
              "        document.querySelector('#' + key + ' button');\n",
              "      quickchartButtonEl.disabled = true;  // To prevent multiple clicks.\n",
              "      quickchartButtonEl.classList.add('colab-df-spinner');\n",
              "      try {\n",
              "        const charts = await google.colab.kernel.invokeFunction(\n",
              "            'suggestCharts', [key], {});\n",
              "      } catch (error) {\n",
              "        console.error('Error during call to suggestCharts:', error);\n",
              "      }\n",
              "      quickchartButtonEl.classList.remove('colab-df-spinner');\n",
              "      quickchartButtonEl.classList.add('colab-df-quickchart-complete');\n",
              "    }\n",
              "    (() => {\n",
              "      let quickchartButtonEl =\n",
              "        document.querySelector('#df-4d73ca4e-4483-426c-af10-33e20c79631f button');\n",
              "      quickchartButtonEl.style.display =\n",
              "        google.colab.kernel.accessAllowed ? 'block' : 'none';\n",
              "    })();\n",
              "  </script>\n",
              "</div>\n",
              "    </div>\n",
              "  </div>\n"
            ],
            "application/vnd.google.colaboratory.intrinsic+json": {
              "type": "dataframe",
              "variable_name": "df",
              "summary": "{\n  \"name\": \"df\",\n  \"rows\": 10000,\n  \"fields\": [\n    {\n      \"column\": \"CreditScore\",\n      \"properties\": {\n        \"dtype\": \"number\",\n        \"std\": 96,\n        \"min\": 350,\n        \"max\": 850,\n        \"samples\": [\n          754,\n          533,\n          744\n        ],\n        \"num_unique_values\": 460,\n        \"semantic_type\": \"\",\n        \"description\": \"\"\n      }\n    },\n    {\n      \"column\": \"Age\",\n      \"properties\": {\n        \"dtype\": \"number\",\n        \"std\": 10,\n        \"min\": 18,\n        \"max\": 92,\n        \"samples\": [\n          61,\n          42,\n          59\n        ],\n        \"num_unique_values\": 70,\n        \"semantic_type\": \"\",\n        \"description\": \"\"\n      }\n    },\n    {\n      \"column\": \"Tenure\",\n      \"properties\": {\n        \"dtype\": \"number\",\n        \"std\": 2,\n        \"min\": 0,\n        \"max\": 10,\n        \"samples\": [\n          6,\n          2,\n          9\n        ],\n        \"num_unique_values\": 11,\n        \"semantic_type\": \"\",\n        \"description\": \"\"\n      }\n    },\n    {\n      \"column\": \"Balance\",\n      \"properties\": {\n        \"dtype\": \"number\",\n        \"std\": 62397.405202385955,\n        \"min\": 0.0,\n        \"max\": 250898.09,\n        \"samples\": [\n          117707.18,\n          133050.97,\n          124271.26\n        ],\n        \"num_unique_values\": 6382,\n        \"semantic_type\": \"\",\n        \"description\": \"\"\n      }\n    },\n    {\n      \"column\": \"NumOfProducts\",\n      \"properties\": {\n        \"dtype\": \"number\",\n        \"std\": 0,\n        \"min\": 1,\n        \"max\": 4,\n        \"samples\": [\n          3,\n          4,\n          1\n        ],\n        \"num_unique_values\": 4,\n        \"semantic_type\": \"\",\n        \"description\": \"\"\n      }\n    },\n    {\n      \"column\": \"IsActiveMember\",\n      \"properties\": {\n        \"dtype\": \"number\",\n        \"std\": 0,\n        \"min\": 0,\n        \"max\": 1,\n        \"samples\": [\n          0,\n          1\n        ],\n        \"num_unique_values\": 2,\n        \"semantic_type\": \"\",\n        \"description\": \"\"\n      }\n    },\n    {\n      \"column\": \"EstimatedSalary\",\n      \"properties\": {\n        \"dtype\": \"number\",\n        \"std\": 57510.49281769816,\n        \"min\": 11.58,\n        \"max\": 199992.48,\n        \"samples\": [\n          100809.99,\n          95273.73\n        ],\n        \"num_unique_values\": 9999,\n        \"semantic_type\": \"\",\n        \"description\": \"\"\n      }\n    },\n    {\n      \"column\": \"Exited\",\n      \"properties\": {\n        \"dtype\": \"number\",\n        \"std\": 0,\n        \"min\": 0,\n        \"max\": 1,\n        \"samples\": [\n          0,\n          1\n        ],\n        \"num_unique_values\": 2,\n        \"semantic_type\": \"\",\n        \"description\": \"\"\n      }\n    },\n    {\n      \"column\": \"Geography_France\",\n      \"properties\": {\n        \"dtype\": \"uint8\",\n        \"samples\": [\n          0,\n          1\n        ],\n        \"num_unique_values\": 2,\n        \"semantic_type\": \"\",\n        \"description\": \"\"\n      }\n    },\n    {\n      \"column\": \"Geography_Germany\",\n      \"properties\": {\n        \"dtype\": \"uint8\",\n        \"samples\": [\n          1,\n          0\n        ],\n        \"num_unique_values\": 2,\n        \"semantic_type\": \"\",\n        \"description\": \"\"\n      }\n    },\n    {\n      \"column\": \"Geography_Spain\",\n      \"properties\": {\n        \"dtype\": \"uint8\",\n        \"samples\": [\n          1,\n          0\n        ],\n        \"num_unique_values\": 2,\n        \"semantic_type\": \"\",\n        \"description\": \"\"\n      }\n    },\n    {\n      \"column\": \"Gender_Female\",\n      \"properties\": {\n        \"dtype\": \"uint8\",\n        \"samples\": [\n          0,\n          1\n        ],\n        \"num_unique_values\": 2,\n        \"semantic_type\": \"\",\n        \"description\": \"\"\n      }\n    },\n    {\n      \"column\": \"Gender_Male\",\n      \"properties\": {\n        \"dtype\": \"uint8\",\n        \"samples\": [\n          1,\n          0\n        ],\n        \"num_unique_values\": 2,\n        \"semantic_type\": \"\",\n        \"description\": \"\"\n      }\n    }\n  ]\n}"
            }
          },
          "metadata": {},
          "execution_count": 125
        }
      ],
      "source": [
        "df.head()"
      ],
      "id": "QOaBkWFrbag6"
    },
    {
      "cell_type": "markdown",
      "source": [
        "## **Train Test Split**"
      ],
      "metadata": {
        "id": "kl7-OI0oxswr"
      },
      "id": "kl7-OI0oxswr"
    },
    {
      "cell_type": "code",
      "source": [
        "df_sp = df.copy()"
      ],
      "metadata": {
        "id": "fFMv27Fdxrzj"
      },
      "id": "fFMv27Fdxrzj",
      "execution_count": 126,
      "outputs": []
    },
    {
      "cell_type": "code",
      "source": [
        "from sklearn.model_selection import train_test_split\n",
        "\n",
        "X = df_sp.drop(['Exited'],axis=1,inplace=False)\n",
        "y = df_sp['Exited']\n",
        "\n",
        "Xtrain, Xtest, ytrain, ytest = train_test_split(X, y, test_size=0.10, random_state=123, stratify = y)"
      ],
      "metadata": {
        "id": "2SE8xvCTyJ06"
      },
      "id": "2SE8xvCTyJ06",
      "execution_count": 127,
      "outputs": []
    },
    {
      "cell_type": "code",
      "source": [
        "ytrain.value_counts()"
      ],
      "metadata": {
        "colab": {
          "base_uri": "https://localhost:8080/"
        },
        "id": "3TeqZQQNbiZj",
        "outputId": "0b6a24a0-3100-404a-927f-25114c16c61f"
      },
      "id": "3TeqZQQNbiZj",
      "execution_count": 128,
      "outputs": [
        {
          "output_type": "execute_result",
          "data": {
            "text/plain": [
              "0    7167\n",
              "1    1833\n",
              "Name: Exited, dtype: int64"
            ]
          },
          "metadata": {},
          "execution_count": 128
        }
      ]
    },
    {
      "cell_type": "markdown",
      "metadata": {
        "id": "FWFt9YgLbytK"
      },
      "source": [
        "## **Handling Outliers**"
      ],
      "id": "FWFt9YgLbytK"
    },
    {
      "cell_type": "code",
      "source": [
        "# distribusi kolom Age pada data Xtrain sebelum dilakukan transformasi logaritma\n",
        "plt.figure(figsize=(4, 3))\n",
        "sns.kdeplot(Xtrain['Age'], shade=True, color='green')\n",
        "plt.title('Xtrain: Distribusi kolom Age')\n",
        "plt.xlabel('Age')\n",
        "plt.ylabel('Density')\n",
        "plt.show()"
      ],
      "metadata": {
        "colab": {
          "base_uri": "https://localhost:8080/",
          "height": 333
        },
        "id": "13-Gl8VS1GvB",
        "outputId": "4f72afb0-1a7b-4374-a245-d4175e51d255"
      },
      "id": "13-Gl8VS1GvB",
      "execution_count": 129,
      "outputs": [
        {
          "output_type": "display_data",
          "data": {
            "text/plain": [
              "<Figure size 400x300 with 1 Axes>"
            ],
            "image/png": "[encoded data removed]"
          },
          "metadata": {}
        }
      ]
    },
    {
      "cell_type": "code",
      "source": [
        "# distribusi kolom Age pada data Xtest sebelum dilakukan transformasi logaritma\n",
        "plt.figure(figsize=(4, 3))\n",
        "sns.kdeplot(Xtest['Age'], shade=True, color='green')\n",
        "plt.title('Xtest: Distribusi kolom Age')\n",
        "plt.xlabel('Age')\n",
        "plt.ylabel('Density')\n",
        "plt.show()"
      ],
      "metadata": {
        "colab": {
          "base_uri": "https://localhost:8080/",
          "height": 333
        },
        "id": "AN4NR-EHyiCB",
        "outputId": "7d3fdb09-bbf6-40b2-f163-661509d7bb97"
      },
      "id": "AN4NR-EHyiCB",
      "execution_count": 130,
      "outputs": [
        {
          "output_type": "display_data",
          "data": {
            "text/plain": [
              "<Figure size 400x300 with 1 Axes>"
            ],
            "image/png": "[encoded data removed]"
          },
          "metadata": {}
        }
      ]
    },
    {
      "cell_type": "code",
      "source": [
        "# transformasi logaritma kolom Age pada data Xtrain dan XTest\n",
        "Xtrain['Age'] = (Xtrain['Age']).apply(np.log)\n",
        "Xtest['Age'] = (Xtest['Age']).apply(np.log)"
      ],
      "metadata": {
        "id": "RsoAnUMryFpa"
      },
      "id": "RsoAnUMryFpa",
      "execution_count": 131,
      "outputs": []
    },
    {
      "cell_type": "code",
      "source": [
        "# distribusi kolom Age pada data XTrain setelah dilakukan transformasi logaritma\n",
        "plt.figure(figsize=(4, 3))\n",
        "sns.kdeplot(Xtrain['Age'], shade=True, color='green')\n",
        "plt.title('Xtrain: Distribusi kolom Age')\n",
        "plt.xlabel('Age')\n",
        "plt.ylabel('Density')\n",
        "plt.show()"
      ],
      "metadata": {
        "colab": {
          "base_uri": "https://localhost:8080/",
          "height": 333
        },
        "id": "jmqY1Yn6svuC",
        "outputId": "4d6aba76-701f-4b32-9dcb-5fa9e6afaf01"
      },
      "id": "jmqY1Yn6svuC",
      "execution_count": 132,
      "outputs": [
        {
          "output_type": "display_data",
          "data": {
            "text/plain": [
              "<Figure size 400x300 with 1 Axes>"
            ],
            "image/png": "[encoded data removed]"
          },
          "metadata": {}
        }
      ]
    },
    {
      "cell_type": "code",
      "source": [
        "# distribusi kolom Age pada data Xtest setelah dilakukan transformasi logaritma\n",
        "plt.figure(figsize=(4, 3))\n",
        "sns.kdeplot(Xtest['Age'], shade=True, color='green')\n",
        "plt.title('Xtest: Distribusi kolom Age')\n",
        "plt.xlabel('Age')\n",
        "plt.ylabel('Density')\n",
        "plt.show()"
      ],
      "metadata": {
        "colab": {
          "base_uri": "https://localhost:8080/",
          "height": 333
        },
        "id": "fxzDe5bLv_dn",
        "outputId": "64da732f-8e97-4fa9-bdc5-3b422bcb4ebd"
      },
      "id": "fxzDe5bLv_dn",
      "execution_count": 133,
      "outputs": [
        {
          "output_type": "display_data",
          "data": {
            "text/plain": [
              "<Figure size 400x300 with 1 Axes>"
            ],
            "image/png": "[encoded data removed]"
          },
          "metadata": {}
        }
      ]
    },
    {
      "cell_type": "markdown",
      "metadata": {
        "id": "MVyLb1lCctQB"
      },
      "source": [
        "## **Feature Transformation**"
      ],
      "id": "MVyLb1lCctQB"
    },
    {
      "cell_type": "code",
      "source": [
        "import math\n",
        "numerik = ['CreditScore', 'Balance', 'EstimatedSalary']\n",
        "features = numerik\n",
        "num_plots = len(features)\n",
        "num_cols = 4\n",
        "num_rows = math.ceil(num_plots / num_cols)"
      ],
      "metadata": {
        "id": "rzXmRD4ewsvd"
      },
      "id": "rzXmRD4ewsvd",
      "execution_count": 134,
      "outputs": []
    },
    {
      "cell_type": "code",
      "source": [
        "plt.figure(figsize=(15, 4))\n",
        "for i in range(num_plots):\n",
        "    plt.subplot(num_rows, num_cols, i+1)\n",
        "    sns.kdeplot(x=Xtrain[features[i]], color='green')\n",
        "    plt.xlabel(features[i])\n",
        "    plt.title(f'Xtrain: Plot {i+1}')\n",
        "plt.tight_layout()\n",
        "plt.show()"
      ],
      "metadata": {
        "colab": {
          "base_uri": "https://localhost:8080/",
          "height": 343
        },
        "id": "Y8ex3AyB21b6",
        "outputId": "f44fd2a6-f5fa-4299-eadf-6ea25aeadcbb"
      },
      "id": "Y8ex3AyB21b6",
      "execution_count": 135,
      "outputs": [
        {
          "output_type": "display_data",
          "data": {
            "text/plain": [
              "<Figure size 1500x400 with 3 Axes>"
            ],
            "image/png": "[encoded data removed]"
          },
          "metadata": {}
        }
      ]
    },
    {
      "cell_type": "code",
      "source": [
        "plt.figure(figsize=(15, 4))\n",
        "for i in range(num_plots):\n",
        "    plt.subplot(num_rows, num_cols, i+1)\n",
        "    sns.kdeplot(x=Xtest[features[i]], color='green')\n",
        "    plt.xlabel(features[i])\n",
        "    plt.title(f'Xtest: Plot {i+1}')\n",
        "plt.tight_layout()\n",
        "plt.show()"
      ],
      "metadata": {
        "colab": {
          "base_uri": "https://localhost:8080/",
          "height": 337
        },
        "id": "H_6CI3oYzPhO",
        "outputId": "5a456cbd-cb0a-4124-f7d9-9a0162c5d8cd"
      },
      "id": "H_6CI3oYzPhO",
      "execution_count": 136,
      "outputs": [
        {
          "output_type": "display_data",
          "data": {
            "text/plain": [
              "<Figure size 1500x400 with 3 Axes>"
            ],
            "image/png": "[encoded data removed]"
          },
          "metadata": {}
        }
      ]
    },
    {
      "cell_type": "code",
      "source": [
        "# fitur transformasi kolom creditscore, balance, dan estimatedsalary pada data xtrain dan xtest\n",
        "from sklearn.preprocessing import MinMaxScaler\n",
        "\n",
        "ms = MinMaxScaler()\n",
        "\n",
        "for col in numerik:\n",
        "  Xtrain[[col]] = ms.fit_transform(Xtrain[[col]])\n",
        "  Xtest[[col]] = ms.transform(Xtest[[col]])"
      ],
      "metadata": {
        "id": "k8vRCRoyjx9d"
      },
      "id": "k8vRCRoyjx9d",
      "execution_count": 137,
      "outputs": []
    },
    {
      "cell_type": "code",
      "source": [
        "from sklearn.preprocessing import MinMaxScaler\n",
        "\n",
        "ms = MinMaxScaler()\n",
        "\n",
        "for col in numerik:\n",
        "  scaler = ms.fit(Xtrain[[col]])\n",
        "\n",
        "  Xtrain[[col]] = ms.transform(Xtrain[[col]])\n",
        "  Xtest[[col]] = ms.transform(Xtest[[col]])"
      ],
      "metadata": {
        "id": "60fVJP8-iYGC"
      },
      "id": "60fVJP8-iYGC",
      "execution_count": 138,
      "outputs": []
    },
    {
      "cell_type": "code",
      "source": [
        "# distribusi kolom creditscore, balance, dan estimatedsalary pada data Xtrain setelah dilakukan transformasi fitur\n",
        "plt.figure(figsize=(15, 4))\n",
        "for i in range(num_plots):\n",
        "    plt.subplot(num_rows, num_cols, i+1)\n",
        "    sns.kdeplot(x=Xtrain[features[i]], color='green')\n",
        "    plt.xlabel(features[i])\n",
        "    plt.title(f'Xtrain: Plot {i+1}')\n",
        "plt.tight_layout()\n",
        "plt.show()"
      ],
      "metadata": {
        "colab": {
          "base_uri": "https://localhost:8080/",
          "height": 345
        },
        "id": "Lc2ARJ6W5maK",
        "outputId": "cf4b1999-40b3-4409-c10a-b2baccc24f3a"
      },
      "id": "Lc2ARJ6W5maK",
      "execution_count": 139,
      "outputs": [
        {
          "output_type": "display_data",
          "data": {
            "text/plain": [
              "<Figure size 1500x400 with 3 Axes>"
            ],
            "image/png": "[encoded data removed]"
          },
          "metadata": {}
        }
      ]
    },
    {
      "cell_type": "code",
      "source": [
        "# distribusi kolom creditscore, balance, dan estimatedsalary pada data Xtest setelah dilakukan transformasi fitur\n",
        "plt.figure(figsize=(15, 4))\n",
        "for i in range(num_plots):\n",
        "    plt.subplot(num_rows, num_cols, i+1)\n",
        "    sns.kdeplot(x=Xtest[features[i]], color='green')\n",
        "    plt.xlabel(features[i])\n",
        "    plt.title(f'Xtest: Plot {i+1}')\n",
        "plt.tight_layout()\n",
        "plt.show()"
      ],
      "metadata": {
        "colab": {
          "base_uri": "https://localhost:8080/",
          "height": 342
        },
        "id": "Ygm6us8u08E0",
        "outputId": "d25ea2d1-11ee-42ba-867c-76efae624de0"
      },
      "id": "Ygm6us8u08E0",
      "execution_count": 140,
      "outputs": [
        {
          "output_type": "display_data",
          "data": {
            "text/plain": [
              "<Figure size 1500x400 with 3 Axes>"
            ],
            "image/png": "[encoded data removed]"
          },
          "metadata": {}
        }
      ]
    },
    {
      "cell_type": "code",
      "source": [
        "Xtrain.head()"
      ],
      "metadata": {
        "colab": {
          "base_uri": "https://localhost:8080/",
          "height": 226
        },
        "id": "JWZyqa2V57i1",
        "outputId": "647fc3a3-3e70-4bbf-9b84-888e23193933"
      },
      "id": "JWZyqa2V57i1",
      "execution_count": 141,
      "outputs": [
        {
          "output_type": "execute_result",
          "data": {
            "text/plain": [
              "      CreditScore       Age  Tenure   Balance  NumOfProducts  IsActiveMember  \\\n",
              "1200        0.844  3.401197       6  0.397712              2               0   \n",
              "1181        0.602  3.178054       7  0.160323              1               1   \n",
              "4861        0.626  3.091042       9  0.000000              1               0   \n",
              "9282        0.538  3.526361       1  0.000000              1               0   \n",
              "331         0.634  3.688879       1  0.583911              1               0   \n",
              "\n",
              "      EstimatedSalary  Geography_France  Geography_Germany  Geography_Spain  \\\n",
              "1200         0.986226                 0                  1                0   \n",
              "1181         0.891734                 0                  1                0   \n",
              "4861         0.145635                 0                  0                1   \n",
              "9282         0.699606                 0                  0                1   \n",
              "331          0.095766                 0                  0                1   \n",
              "\n",
              "      Gender_Female  Gender_Male  \n",
              "1200              0            1  \n",
              "1181              1            0  \n",
              "4861              1            0  \n",
              "9282              0            1  \n",
              "331               1            0  "
            ],
            "text/html": [
              "\n",
              "  <div id=\"df-e89c31a3-1e6e-4464-998a-defb96f2c298\" class=\"colab-df-container\">\n",
              "    <div>\n",
              "<style scoped>\n",
              "    .dataframe tbody tr th:only-of-type {\n",
              "        vertical-align: middle;\n",
              "    }\n",
              "\n",
              "    .dataframe tbody tr th {\n",
              "        vertical-align: top;\n",
              "    }\n",
              "\n",
              "    .dataframe thead th {\n",
              "        text-align: right;\n",
              "    }\n",
              "</style>\n",
              "<table border=\"1\" class=\"dataframe\">\n",
              "  <thead>\n",
              "    <tr style=\"text-align: right;\">\n",
              "      <th></th>\n",
              "      <th>CreditScore</th>\n",
              "      <th>Age</th>\n",
              "      <th>Tenure</th>\n",
              "      <th>Balance</th>\n",
              "      <th>NumOfProducts</th>\n",
              "      <th>IsActiveMember</th>\n",
              "      <th>EstimatedSalary</th>\n",
              "      <th>Geography_France</th>\n",
              "      <th>Geography_Germany</th>\n",
              "      <th>Geography_Spain</th>\n",
              "      <th>Gender_Female</th>\n",
              "      <th>Gender_Male</th>\n",
              "    </tr>\n",
              "  </thead>\n",
              "  <tbody>\n",
              "    <tr>\n",
              "      <th>1200</th>\n",
              "      <td>0.844</td>\n",
              "      <td>3.401197</td>\n",
              "      <td>6</td>\n",
              "      <td>0.397712</td>\n",
              "      <td>2</td>\n",
              "      <td>0</td>\n",
              "      <td>0.986226</td>\n",
              "      <td>0</td>\n",
              "      <td>1</td>\n",
              "      <td>0</td>\n",
              "      <td>0</td>\n",
              "      <td>1</td>\n",
              "    </tr>\n",
              "    <tr>\n",
              "      <th>1181</th>\n",
              "      <td>0.602</td>\n",
              "      <td>3.178054</td>\n",
              "      <td>7</td>\n",
              "      <td>0.160323</td>\n",
              "      <td>1</td>\n",
              "      <td>1</td>\n",
              "      <td>0.891734</td>\n",
              "      <td>0</td>\n",
              "      <td>1</td>\n",
              "      <td>0</td>\n",
              "      <td>1</td>\n",
              "      <td>0</td>\n",
              "    </tr>\n",
              "    <tr>\n",
              "      <th>4861</th>\n",
              "      <td>0.626</td>\n",
              "      <td>3.091042</td>\n",
              "      <td>9</td>\n",
              "      <td>0.000000</td>\n",
              "      <td>1</td>\n",
              "      <td>0</td>\n",
              "      <td>0.145635</td>\n",
              "      <td>0</td>\n",
              "      <td>0</td>\n",
              "      <td>1</td>\n",
              "      <td>1</td>\n",
              "      <td>0</td>\n",
              "    </tr>\n",
              "    <tr>\n",
              "      <th>9282</th>\n",
              "      <td>0.538</td>\n",
              "      <td>3.526361</td>\n",
              "      <td>1</td>\n",
              "      <td>0.000000</td>\n",
              "      <td>1</td>\n",
              "      <td>0</td>\n",
              "      <td>0.699606</td>\n",
              "      <td>0</td>\n",
              "      <td>0</td>\n",
              "      <td>1</td>\n",
              "      <td>0</td>\n",
              "      <td>1</td>\n",
              "    </tr>\n",
              "    <tr>\n",
              "      <th>331</th>\n",
              "      <td>0.634</td>\n",
              "      <td>3.688879</td>\n",
              "      <td>1</td>\n",
              "      <td>0.583911</td>\n",
              "      <td>1</td>\n",
              "      <td>0</td>\n",
              "      <td>0.095766</td>\n",
              "      <td>0</td>\n",
              "      <td>0</td>\n",
              "      <td>1</td>\n",
              "      <td>1</td>\n",
              "      <td>0</td>\n",
              "    </tr>\n",
              "  </tbody>\n",
              "</table>\n",
              "</div>\n",
              "    <div class=\"colab-df-buttons\">\n",
              "\n",
              "  <div class=\"colab-df-container\">\n",
              "    <button class=\"colab-df-convert\" onclick=\"convertToInteractive('df-e89c31a3-1e6e-4464-998a-defb96f2c298')\"\n",
              "            title=\"Convert this dataframe to an interactive table.\"\n",
              "            style=\"display:none;\">\n",
              "\n",
              "  <svg xmlns=\"http://www.w3.org/2000/svg\" height=\"24px\" viewBox=\"0 -960 960 960\">\n",
              "    <path d=\"M120-120v-720h720v720H120Zm60-500h600v-160H180v160Zm220 220h160v-160H400v160Zm0 220h160v-160H400v160ZM180-400h160v-160H180v160Zm440 0h160v-160H620v160ZM180-180h160v-160H180v160Zm440 0h160v-160H620v160Z\"/>\n",
              "  </svg>\n",
              "    </button>\n",
              "\n",
              "  <style>\n",
              "    .colab-df-container {\n",
              "      display:flex;\n",
              "      gap: 12px;\n",
              "    }\n",
              "\n",
              "    .colab-df-convert {\n",
              "      background-color: #E8F0FE;\n",
              "      border: none;\n",
              "      border-radius: 50%;\n",
              "      cursor: pointer;\n",
              "      display: none;\n",
              "      fill: #1967D2;\n",
              "      height: 32px;\n",
              "      padding: 0 0 0 0;\n",
              "      width: 32px;\n",
              "    }\n",
              "\n",
              "    .colab-df-convert:hover {\n",
              "      background-color: #E2EBFA;\n",
              "      box-shadow: 0px 1px 2px rgba(60, 64, 67, 0.3), 0px 1px 3px 1px rgba(60, 64, 67, 0.15);\n",
              "      fill: #174EA6;\n",
              "    }\n",
              "\n",
              "    .colab-df-buttons div {\n",
              "      margin-bottom: 4px;\n",
              "    }\n",
              "\n",
              "    [theme=dark] .colab-df-convert {\n",
              "      background-color: #3B4455;\n",
              "      fill: #D2E3FC;\n",
              "    }\n",
              "\n",
              "    [theme=dark] .colab-df-convert:hover {\n",
              "      background-color: #434B5C;\n",
              "      box-shadow: 0px 1px 3px 1px rgba(0, 0, 0, 0.15);\n",
              "      filter: drop-shadow(0px 1px 2px rgba(0, 0, 0, 0.3));\n",
              "      fill: #FFFFFF;\n",
              "    }\n",
              "  </style>\n",
              "\n",
              "    <script>\n",
              "      const buttonEl =\n",
              "        document.querySelector('#df-e89c31a3-1e6e-4464-998a-defb96f2c298 button.colab-df-convert');\n",
              "      buttonEl.style.display =\n",
              "        google.colab.kernel.accessAllowed ? 'block' : 'none';\n",
              "\n",
              "      async function convertToInteractive(key) {\n",
              "        const element = document.querySelector('#df-e89c31a3-1e6e-4464-998a-defb96f2c298');\n",
              "        const dataTable =\n",
              "          await google.colab.kernel.invokeFunction('convertToInteractive',\n",
              "                                                    [key], {});\n",
              "        if (!dataTable) return;\n",
              "\n",
              "        const docLinkHtml = 'Like what you see? Visit the ' +\n",
              "          '<a target=\"_blank\" href=https://colab.research.google.com/notebooks/data_table.ipynb>data table notebook</a>'\n",
              "          + ' to learn more about interactive tables.';\n",
              "        element.innerHTML = '';\n",
              "        dataTable['output_type'] = 'display_data';\n",
              "        await google.colab.output.renderOutput(dataTable, element);\n",
              "        const docLink = document.createElement('div');\n",
              "        docLink.innerHTML = docLinkHtml;\n",
              "        element.appendChild(docLink);\n",
              "      }\n",
              "    </script>\n",
              "  </div>\n",
              "\n",
              "\n",
              "<div id=\"df-00b77281-a137-44b9-88aa-3f13acf990c4\">\n",
              "  <button class=\"colab-df-quickchart\" onclick=\"quickchart('df-00b77281-a137-44b9-88aa-3f13acf990c4')\"\n",
              "            title=\"Suggest charts\"\n",
              "            style=\"display:none;\">\n",
              "\n",
              "<svg xmlns=\"http://www.w3.org/2000/svg\" height=\"24px\"viewBox=\"0 0 24 24\"\n",
              "     width=\"24px\">\n",
              "    <g>\n",
              "        <path d=\"M19 3H5c-1.1 0-2 .9-2 2v14c0 1.1.9 2 2 2h14c1.1 0 2-.9 2-2V5c0-1.1-.9-2-2-2zM9 17H7v-7h2v7zm4 0h-2V7h2v10zm4 0h-2v-4h2v4z\"/>\n",
              "    </g>\n",
              "</svg>\n",
              "  </button>\n",
              "\n",
              "<style>\n",
              "  .colab-df-quickchart {\n",
              "      --bg-color: #E8F0FE;\n",
              "      --fill-color: #1967D2;\n",
              "      --hover-bg-color: #E2EBFA;\n",
              "      --hover-fill-color: #174EA6;\n",
              "      --disabled-fill-color: #AAA;\n",
              "      --disabled-bg-color: #DDD;\n",
              "  }\n",
              "\n",
              "  [theme=dark] .colab-df-quickchart {\n",
              "      --bg-color: #3B4455;\n",
              "      --fill-color: #D2E3FC;\n",
              "      --hover-bg-color: #434B5C;\n",
              "      --hover-fill-color: #FFFFFF;\n",
              "      --disabled-bg-color: #3B4455;\n",
              "      --disabled-fill-color: #666;\n",
              "  }\n",
              "\n",
              "  .colab-df-quickchart {\n",
              "    background-color: var(--bg-color);\n",
              "    border: none;\n",
              "    border-radius: 50%;\n",
              "    cursor: pointer;\n",
              "    display: none;\n",
              "    fill: var(--fill-color);\n",
              "    height: 32px;\n",
              "    padding: 0;\n",
              "    width: 32px;\n",
              "  }\n",
              "\n",
              "  .colab-df-quickchart:hover {\n",
              "    background-color: var(--hover-bg-color);\n",
              "    box-shadow: 0 1px 2px rgba(60, 64, 67, 0.3), 0 1px 3px 1px rgba(60, 64, 67, 0.15);\n",
              "    fill: var(--button-hover-fill-color);\n",
              "  }\n",
              "\n",
              "  .colab-df-quickchart-complete:disabled,\n",
              "  .colab-df-quickchart-complete:disabled:hover {\n",
              "    background-color: var(--disabled-bg-color);\n",
              "    fill: var(--disabled-fill-color);\n",
              "    box-shadow: none;\n",
              "  }\n",
              "\n",
              "  .colab-df-spinner {\n",
              "    border: 2px solid var(--fill-color);\n",
              "    border-color: transparent;\n",
              "    border-bottom-color: var(--fill-color);\n",
              "    animation:\n",
              "      spin 1s steps(1) infinite;\n",
              "  }\n",
              "\n",
              "  @keyframes spin {\n",
              "    0% {\n",
              "      border-color: transparent;\n",
              "      border-bottom-color: var(--fill-color);\n",
              "      border-left-color: var(--fill-color);\n",
              "    }\n",
              "    20% {\n",
              "      border-color: transparent;\n",
              "      border-left-color: var(--fill-color);\n",
              "      border-top-color: var(--fill-color);\n",
              "    }\n",
              "    30% {\n",
              "      border-color: transparent;\n",
              "      border-left-color: var(--fill-color);\n",
              "      border-top-color: var(--fill-color);\n",
              "      border-right-color: var(--fill-color);\n",
              "    }\n",
              "    40% {\n",
              "      border-color: transparent;\n",
              "      border-right-color: var(--fill-color);\n",
              "      border-top-color: var(--fill-color);\n",
              "    }\n",
              "    60% {\n",
              "      border-color: transparent;\n",
              "      border-right-color: var(--fill-color);\n",
              "    }\n",
              "    80% {\n",
              "      border-color: transparent;\n",
              "      border-right-color: var(--fill-color);\n",
              "      border-bottom-color: var(--fill-color);\n",
              "    }\n",
              "    90% {\n",
              "      border-color: transparent;\n",
              "      border-bottom-color: var(--fill-color);\n",
              "    }\n",
              "  }\n",
              "</style>\n",
              "\n",
              "  <script>\n",
              "    async function quickchart(key) {\n",
              "      const quickchartButtonEl =\n",
              "        document.querySelector('#' + key + ' button');\n",
              "      quickchartButtonEl.disabled = true;  // To prevent multiple clicks.\n",
              "      quickchartButtonEl.classList.add('colab-df-spinner');\n",
              "      try {\n",
              "        const charts = await google.colab.kernel.invokeFunction(\n",
              "            'suggestCharts', [key], {});\n",
              "      } catch (error) {\n",
              "        console.error('Error during call to suggestCharts:', error);\n",
              "      }\n",
              "      quickchartButtonEl.classList.remove('colab-df-spinner');\n",
              "      quickchartButtonEl.classList.add('colab-df-quickchart-complete');\n",
              "    }\n",
              "    (() => {\n",
              "      let quickchartButtonEl =\n",
              "        document.querySelector('#df-00b77281-a137-44b9-88aa-3f13acf990c4 button');\n",
              "      quickchartButtonEl.style.display =\n",
              "        google.colab.kernel.accessAllowed ? 'block' : 'none';\n",
              "    })();\n",
              "  </script>\n",
              "</div>\n",
              "    </div>\n",
              "  </div>\n"
            ],
            "application/vnd.google.colaboratory.intrinsic+json": {
              "type": "dataframe",
              "variable_name": "Xtrain",
              "summary": "{\n  \"name\": \"Xtrain\",\n  \"rows\": 9000,\n  \"fields\": [\n    {\n      \"column\": \"CreditScore\",\n      \"properties\": {\n        \"dtype\": \"number\",\n        \"std\": 0.19321660260167714,\n        \"min\": 0.0,\n        \"max\": 1.0,\n        \"samples\": [\n          0.742,\n          0.36800000000000005,\n          0.5980000000000001\n        ],\n        \"num_unique_values\": 458,\n        \"semantic_type\": \"\",\n        \"description\": \"\"\n      }\n    },\n    {\n      \"column\": \"Age\",\n      \"properties\": {\n        \"dtype\": \"number\",\n        \"std\": 0.2562753906508342,\n        \"min\": 2.8903717578961645,\n        \"max\": 4.5217885770490405,\n        \"samples\": [\n          3.58351893845611,\n          3.4011973816621555,\n          3.332204510175204\n        ],\n        \"num_unique_values\": 69,\n        \"semantic_type\": \"\",\n        \"description\": \"\"\n      }\n    },\n    {\n      \"column\": \"Tenure\",\n      \"properties\": {\n        \"dtype\": \"number\",\n        \"std\": 2,\n        \"min\": 0,\n        \"max\": 10,\n        \"samples\": [\n          4,\n          6,\n          0\n        ],\n        \"num_unique_values\": 11,\n        \"semantic_type\": \"\",\n        \"description\": \"\"\n      }\n    },\n    {\n      \"column\": \"Balance\",\n      \"properties\": {\n        \"dtype\": \"number\",\n        \"std\": 0.24836775206987538,\n        \"min\": 0.0,\n        \"max\": 1.0,\n        \"samples\": [\n          0.35700387356476093,\n          0.48047113471449704,\n          0.49183885776093395\n        ],\n        \"num_unique_values\": 5748,\n        \"semantic_type\": \"\",\n        \"description\": \"\"\n      }\n    },\n    {\n      \"column\": \"NumOfProducts\",\n      \"properties\": {\n        \"dtype\": \"number\",\n        \"std\": 0,\n        \"min\": 1,\n        \"max\": 4,\n        \"samples\": [\n          1,\n          3,\n          2\n        ],\n        \"num_unique_values\": 4,\n        \"semantic_type\": \"\",\n        \"description\": \"\"\n      }\n    },\n    {\n      \"column\": \"IsActiveMember\",\n      \"properties\": {\n        \"dtype\": \"number\",\n        \"std\": 0,\n        \"min\": 0,\n        \"max\": 1,\n        \"samples\": [\n          1,\n          0\n        ],\n        \"num_unique_values\": 2,\n        \"semantic_type\": \"\",\n        \"description\": \"\"\n      }\n    },\n    {\n      \"column\": \"EstimatedSalary\",\n      \"properties\": {\n        \"dtype\": \"number\",\n        \"std\": 0.28715419635307976,\n        \"min\": 0.0,\n        \"max\": 1.0,\n        \"samples\": [\n          0.22079238567283171,\n          0.4792737706450966\n        ],\n        \"num_unique_values\": 8999,\n        \"semantic_type\": \"\",\n        \"description\": \"\"\n      }\n    },\n    {\n      \"column\": \"Geography_France\",\n      \"properties\": {\n        \"dtype\": \"uint8\",\n        \"samples\": [\n          1,\n          0\n        ],\n        \"num_unique_values\": 2,\n        \"semantic_type\": \"\",\n        \"description\": \"\"\n      }\n    },\n    {\n      \"column\": \"Geography_Germany\",\n      \"properties\": {\n        \"dtype\": \"uint8\",\n        \"samples\": [\n          0,\n          1\n        ],\n        \"num_unique_values\": 2,\n        \"semantic_type\": \"\",\n        \"description\": \"\"\n      }\n    },\n    {\n      \"column\": \"Geography_Spain\",\n      \"properties\": {\n        \"dtype\": \"uint8\",\n        \"samples\": [\n          1,\n          0\n        ],\n        \"num_unique_values\": 2,\n        \"semantic_type\": \"\",\n        \"description\": \"\"\n      }\n    },\n    {\n      \"column\": \"Gender_Female\",\n      \"properties\": {\n        \"dtype\": \"uint8\",\n        \"samples\": [\n          1,\n          0\n        ],\n        \"num_unique_values\": 2,\n        \"semantic_type\": \"\",\n        \"description\": \"\"\n      }\n    },\n    {\n      \"column\": \"Gender_Male\",\n      \"properties\": {\n        \"dtype\": \"uint8\",\n        \"samples\": [\n          0,\n          1\n        ],\n        \"num_unique_values\": 2,\n        \"semantic_type\": \"\",\n        \"description\": \"\"\n      }\n    }\n  ]\n}"
            }
          },
          "metadata": {},
          "execution_count": 141
        }
      ]
    },
    {
      "cell_type": "code",
      "source": [
        "Xtest.head()"
      ],
      "metadata": {
        "colab": {
          "base_uri": "https://localhost:8080/",
          "height": 226
        },
        "id": "4TwvXaMu1FFv",
        "outputId": "e1005ee0-bc14-4fe8-fb04-f5374d9f7805"
      },
      "id": "4TwvXaMu1FFv",
      "execution_count": 142,
      "outputs": [
        {
          "output_type": "execute_result",
          "data": {
            "text/plain": [
              "      CreditScore       Age  Tenure   Balance  NumOfProducts  IsActiveMember  \\\n",
              "8163        0.836  3.871201       3  0.489568              1               1   \n",
              "4588        0.144  3.713572       6  0.610761              1               0   \n",
              "9586        0.392  2.995732       6  0.000000              1               1   \n",
              "118         0.348  3.433987       8  0.429731              1               0   \n",
              "2109        0.492  3.713572       5  0.000000              2               1   \n",
              "\n",
              "      EstimatedSalary  Geography_France  Geography_Germany  Geography_Spain  \\\n",
              "8163         0.122623                 0                  1                0   \n",
              "4588         0.058263                 1                  0                0   \n",
              "9586         0.102496                 1                  0                0   \n",
              "118          0.998664                 0                  1                0   \n",
              "2109         0.705279                 0                  0                1   \n",
              "\n",
              "      Gender_Female  Gender_Male  \n",
              "8163              0            1  \n",
              "4588              0            1  \n",
              "9586              1            0  \n",
              "118               1            0  \n",
              "2109              0            1  "
            ],
            "text/html": [
              "\n",
              "  <div id=\"df-63822f2f-e37f-4f14-906b-06e55f978e28\" class=\"colab-df-container\">\n",
              "    <div>\n",
              "<style scoped>\n",
              "    .dataframe tbody tr th:only-of-type {\n",
              "        vertical-align: middle;\n",
              "    }\n",
              "\n",
              "    .dataframe tbody tr th {\n",
              "        vertical-align: top;\n",
              "    }\n",
              "\n",
              "    .dataframe thead th {\n",
              "        text-align: right;\n",
              "    }\n",
              "</style>\n",
              "<table border=\"1\" class=\"dataframe\">\n",
              "  <thead>\n",
              "    <tr style=\"text-align: right;\">\n",
              "      <th></th>\n",
              "      <th>CreditScore</th>\n",
              "      <th>Age</th>\n",
              "      <th>Tenure</th>\n",
              "      <th>Balance</th>\n",
              "      <th>NumOfProducts</th>\n",
              "      <th>IsActiveMember</th>\n",
              "      <th>EstimatedSalary</th>\n",
              "      <th>Geography_France</th>\n",
              "      <th>Geography_Germany</th>\n",
              "      <th>Geography_Spain</th>\n",
              "      <th>Gender_Female</th>\n",
              "      <th>Gender_Male</th>\n",
              "    </tr>\n",
              "  </thead>\n",
              "  <tbody>\n",
              "    <tr>\n",
              "      <th>8163</th>\n",
              "      <td>0.836</td>\n",
              "      <td>3.871201</td>\n",
              "      <td>3</td>\n",
              "      <td>0.489568</td>\n",
              "      <td>1</td>\n",
              "      <td>1</td>\n",
              "      <td>0.122623</td>\n",
              "      <td>0</td>\n",
              "      <td>1</td>\n",
              "      <td>0</td>\n",
              "      <td>0</td>\n",
              "      <td>1</td>\n",
              "    </tr>\n",
              "    <tr>\n",
              "      <th>4588</th>\n",
              "      <td>0.144</td>\n",
              "      <td>3.713572</td>\n",
              "      <td>6</td>\n",
              "      <td>0.610761</td>\n",
              "      <td>1</td>\n",
              "      <td>0</td>\n",
              "      <td>0.058263</td>\n",
              "      <td>1</td>\n",
              "      <td>0</td>\n",
              "      <td>0</td>\n",
              "      <td>0</td>\n",
              "      <td>1</td>\n",
              "    </tr>\n",
              "    <tr>\n",
              "      <th>9586</th>\n",
              "      <td>0.392</td>\n",
              "      <td>2.995732</td>\n",
              "      <td>6</td>\n",
              "      <td>0.000000</td>\n",
              "      <td>1</td>\n",
              "      <td>1</td>\n",
              "      <td>0.102496</td>\n",
              "      <td>1</td>\n",
              "      <td>0</td>\n",
              "      <td>0</td>\n",
              "      <td>1</td>\n",
              "      <td>0</td>\n",
              "    </tr>\n",
              "    <tr>\n",
              "      <th>118</th>\n",
              "      <td>0.348</td>\n",
              "      <td>3.433987</td>\n",
              "      <td>8</td>\n",
              "      <td>0.429731</td>\n",
              "      <td>1</td>\n",
              "      <td>0</td>\n",
              "      <td>0.998664</td>\n",
              "      <td>0</td>\n",
              "      <td>1</td>\n",
              "      <td>0</td>\n",
              "      <td>1</td>\n",
              "      <td>0</td>\n",
              "    </tr>\n",
              "    <tr>\n",
              "      <th>2109</th>\n",
              "      <td>0.492</td>\n",
              "      <td>3.713572</td>\n",
              "      <td>5</td>\n",
              "      <td>0.000000</td>\n",
              "      <td>2</td>\n",
              "      <td>1</td>\n",
              "      <td>0.705279</td>\n",
              "      <td>0</td>\n",
              "      <td>0</td>\n",
              "      <td>1</td>\n",
              "      <td>0</td>\n",
              "      <td>1</td>\n",
              "    </tr>\n",
              "  </tbody>\n",
              "</table>\n",
              "</div>\n",
              "    <div class=\"colab-df-buttons\">\n",
              "\n",
              "  <div class=\"colab-df-container\">\n",
              "    <button class=\"colab-df-convert\" onclick=\"convertToInteractive('df-63822f2f-e37f-4f14-906b-06e55f978e28')\"\n",
              "            title=\"Convert this dataframe to an interactive table.\"\n",
              "            style=\"display:none;\">\n",
              "\n",
              "  <svg xmlns=\"http://www.w3.org/2000/svg\" height=\"24px\" viewBox=\"0 -960 960 960\">\n",
              "    <path d=\"M120-120v-720h720v720H120Zm60-500h600v-160H180v160Zm220 220h160v-160H400v160Zm0 220h160v-160H400v160ZM180-400h160v-160H180v160Zm440 0h160v-160H620v160ZM180-180h160v-160H180v160Zm440 0h160v-160H620v160Z\"/>\n",
              "  </svg>\n",
              "    </button>\n",
              "\n",
              "  <style>\n",
              "    .colab-df-container {\n",
              "      display:flex;\n",
              "      gap: 12px;\n",
              "    }\n",
              "\n",
              "    .colab-df-convert {\n",
              "      background-color: #E8F0FE;\n",
              "      border: none;\n",
              "      border-radius: 50%;\n",
              "      cursor: pointer;\n",
              "      display: none;\n",
              "      fill: #1967D2;\n",
              "      height: 32px;\n",
              "      padding: 0 0 0 0;\n",
              "      width: 32px;\n",
              "    }\n",
              "\n",
              "    .colab-df-convert:hover {\n",
              "      background-color: #E2EBFA;\n",
              "      box-shadow: 0px 1px 2px rgba(60, 64, 67, 0.3), 0px 1px 3px 1px rgba(60, 64, 67, 0.15);\n",
              "      fill: #174EA6;\n",
              "    }\n",
              "\n",
              "    .colab-df-buttons div {\n",
              "      margin-bottom: 4px;\n",
              "    }\n",
              "\n",
              "    [theme=dark] .colab-df-convert {\n",
              "      background-color: #3B4455;\n",
              "      fill: #D2E3FC;\n",
              "    }\n",
              "\n",
              "    [theme=dark] .colab-df-convert:hover {\n",
              "      background-color: #434B5C;\n",
              "      box-shadow: 0px 1px 3px 1px rgba(0, 0, 0, 0.15);\n",
              "      filter: drop-shadow(0px 1px 2px rgba(0, 0, 0, 0.3));\n",
              "      fill: #FFFFFF;\n",
              "    }\n",
              "  </style>\n",
              "\n",
              "    <script>\n",
              "      const buttonEl =\n",
              "        document.querySelector('#df-63822f2f-e37f-4f14-906b-06e55f978e28 button.colab-df-convert');\n",
              "      buttonEl.style.display =\n",
              "        google.colab.kernel.accessAllowed ? 'block' : 'none';\n",
              "\n",
              "      async function convertToInteractive(key) {\n",
              "        const element = document.querySelector('#df-63822f2f-e37f-4f14-906b-06e55f978e28');\n",
              "        const dataTable =\n",
              "          await google.colab.kernel.invokeFunction('convertToInteractive',\n",
              "                                                    [key], {});\n",
              "        if (!dataTable) return;\n",
              "\n",
              "        const docLinkHtml = 'Like what you see? Visit the ' +\n",
              "          '<a target=\"_blank\" href=https://colab.research.google.com/notebooks/data_table.ipynb>data table notebook</a>'\n",
              "          + ' to learn more about interactive tables.';\n",
              "        element.innerHTML = '';\n",
              "        dataTable['output_type'] = 'display_data';\n",
              "        await google.colab.output.renderOutput(dataTable, element);\n",
              "        const docLink = document.createElement('div');\n",
              "        docLink.innerHTML = docLinkHtml;\n",
              "        element.appendChild(docLink);\n",
              "      }\n",
              "    </script>\n",
              "  </div>\n",
              "\n",
              "\n",
              "<div id=\"df-fcd12ecf-93d9-4ffe-b32c-510d6a37bca2\">\n",
              "  <button class=\"colab-df-quickchart\" onclick=\"quickchart('df-fcd12ecf-93d9-4ffe-b32c-510d6a37bca2')\"\n",
              "            title=\"Suggest charts\"\n",
              "            style=\"display:none;\">\n",
              "\n",
              "<svg xmlns=\"http://www.w3.org/2000/svg\" height=\"24px\"viewBox=\"0 0 24 24\"\n",
              "     width=\"24px\">\n",
              "    <g>\n",
              "        <path d=\"M19 3H5c-1.1 0-2 .9-2 2v14c0 1.1.9 2 2 2h14c1.1 0 2-.9 2-2V5c0-1.1-.9-2-2-2zM9 17H7v-7h2v7zm4 0h-2V7h2v10zm4 0h-2v-4h2v4z\"/>\n",
              "    </g>\n",
              "</svg>\n",
              "  </button>\n",
              "\n",
              "<style>\n",
              "  .colab-df-quickchart {\n",
              "      --bg-color: #E8F0FE;\n",
              "      --fill-color: #1967D2;\n",
              "      --hover-bg-color: #E2EBFA;\n",
              "      --hover-fill-color: #174EA6;\n",
              "      --disabled-fill-color: #AAA;\n",
              "      --disabled-bg-color: #DDD;\n",
              "  }\n",
              "\n",
              "  [theme=dark] .colab-df-quickchart {\n",
              "      --bg-color: #3B4455;\n",
              "      --fill-color: #D2E3FC;\n",
              "      --hover-bg-color: #434B5C;\n",
              "      --hover-fill-color: #FFFFFF;\n",
              "      --disabled-bg-color: #3B4455;\n",
              "      --disabled-fill-color: #666;\n",
              "  }\n",
              "\n",
              "  .colab-df-quickchart {\n",
              "    background-color: var(--bg-color);\n",
              "    border: none;\n",
              "    border-radius: 50%;\n",
              "    cursor: pointer;\n",
              "    display: none;\n",
              "    fill: var(--fill-color);\n",
              "    height: 32px;\n",
              "    padding: 0;\n",
              "    width: 32px;\n",
              "  }\n",
              "\n",
              "  .colab-df-quickchart:hover {\n",
              "    background-color: var(--hover-bg-color);\n",
              "    box-shadow: 0 1px 2px rgba(60, 64, 67, 0.3), 0 1px 3px 1px rgba(60, 64, 67, 0.15);\n",
              "    fill: var(--button-hover-fill-color);\n",
              "  }\n",
              "\n",
              "  .colab-df-quickchart-complete:disabled,\n",
              "  .colab-df-quickchart-complete:disabled:hover {\n",
              "    background-color: var(--disabled-bg-color);\n",
              "    fill: var(--disabled-fill-color);\n",
              "    box-shadow: none;\n",
              "  }\n",
              "\n",
              "  .colab-df-spinner {\n",
              "    border: 2px solid var(--fill-color);\n",
              "    border-color: transparent;\n",
              "    border-bottom-color: var(--fill-color);\n",
              "    animation:\n",
              "      spin 1s steps(1) infinite;\n",
              "  }\n",
              "\n",
              "  @keyframes spin {\n",
              "    0% {\n",
              "      border-color: transparent;\n",
              "      border-bottom-color: var(--fill-color);\n",
              "      border-left-color: var(--fill-color);\n",
              "    }\n",
              "    20% {\n",
              "      border-color: transparent;\n",
              "      border-left-color: var(--fill-color);\n",
              "      border-top-color: var(--fill-color);\n",
              "    }\n",
              "    30% {\n",
              "      border-color: transparent;\n",
              "      border-left-color: var(--fill-color);\n",
              "      border-top-color: var(--fill-color);\n",
              "      border-right-color: var(--fill-color);\n",
              "    }\n",
              "    40% {\n",
              "      border-color: transparent;\n",
              "      border-right-color: var(--fill-color);\n",
              "      border-top-color: var(--fill-color);\n",
              "    }\n",
              "    60% {\n",
              "      border-color: transparent;\n",
              "      border-right-color: var(--fill-color);\n",
              "    }\n",
              "    80% {\n",
              "      border-color: transparent;\n",
              "      border-right-color: var(--fill-color);\n",
              "      border-bottom-color: var(--fill-color);\n",
              "    }\n",
              "    90% {\n",
              "      border-color: transparent;\n",
              "      border-bottom-color: var(--fill-color);\n",
              "    }\n",
              "  }\n",
              "</style>\n",
              "\n",
              "  <script>\n",
              "    async function quickchart(key) {\n",
              "      const quickchartButtonEl =\n",
              "        document.querySelector('#' + key + ' button');\n",
              "      quickchartButtonEl.disabled = true;  // To prevent multiple clicks.\n",
              "      quickchartButtonEl.classList.add('colab-df-spinner');\n",
              "      try {\n",
              "        const charts = await google.colab.kernel.invokeFunction(\n",
              "            'suggestCharts', [key], {});\n",
              "      } catch (error) {\n",
              "        console.error('Error during call to suggestCharts:', error);\n",
              "      }\n",
              "      quickchartButtonEl.classList.remove('colab-df-spinner');\n",
              "      quickchartButtonEl.classList.add('colab-df-quickchart-complete');\n",
              "    }\n",
              "    (() => {\n",
              "      let quickchartButtonEl =\n",
              "        document.querySelector('#df-fcd12ecf-93d9-4ffe-b32c-510d6a37bca2 button');\n",
              "      quickchartButtonEl.style.display =\n",
              "        google.colab.kernel.accessAllowed ? 'block' : 'none';\n",
              "    })();\n",
              "  </script>\n",
              "</div>\n",
              "    </div>\n",
              "  </div>\n"
            ],
            "application/vnd.google.colaboratory.intrinsic+json": {
              "type": "dataframe",
              "variable_name": "Xtest",
              "summary": "{\n  \"name\": \"Xtest\",\n  \"rows\": 1000,\n  \"fields\": [\n    {\n      \"column\": \"CreditScore\",\n      \"properties\": {\n        \"dtype\": \"number\",\n        \"std\": 0.19410616894066202,\n        \"min\": 0.06399999999999996,\n        \"max\": 1.0,\n        \"samples\": [\n          0.41800000000000015,\n          0.8680000000000002,\n          0.6280000000000001\n        ],\n        \"num_unique_values\": 362,\n        \"semantic_type\": \"\",\n        \"description\": \"\"\n      }\n    },\n    {\n      \"column\": \"Age\",\n      \"properties\": {\n        \"dtype\": \"number\",\n        \"std\": 0.2767906929107115,\n        \"min\": 2.8903717578961645,\n        \"max\": 4.442651256490317,\n        \"samples\": [\n          3.871201010907891,\n          3.367295829986474,\n          2.8903717578961645\n        ],\n        \"num_unique_values\": 61,\n        \"semantic_type\": \"\",\n        \"description\": \"\"\n      }\n    },\n    {\n      \"column\": \"Tenure\",\n      \"properties\": {\n        \"dtype\": \"number\",\n        \"std\": 2,\n        \"min\": 0,\n        \"max\": 10,\n        \"samples\": [\n          4,\n          3,\n          1\n        ],\n        \"num_unique_values\": 11,\n        \"semantic_type\": \"\",\n        \"description\": \"\"\n      }\n    },\n    {\n      \"column\": \"Balance\",\n      \"properties\": {\n        \"dtype\": \"number\",\n        \"std\": 0.2517480977617546,\n        \"min\": 0.0,\n        \"max\": 0.8477398931175604,\n        \"samples\": [\n          0.5813554818213245,\n          0.29140496844754776,\n          0.5065286068937392\n        ],\n        \"num_unique_values\": 635,\n        \"semantic_type\": \"\",\n        \"description\": \"\"\n      }\n    },\n    {\n      \"column\": \"NumOfProducts\",\n      \"properties\": {\n        \"dtype\": \"number\",\n        \"std\": 0,\n        \"min\": 1,\n        \"max\": 4,\n        \"samples\": [\n          2,\n          4,\n          1\n        ],\n        \"num_unique_values\": 4,\n        \"semantic_type\": \"\",\n        \"description\": \"\"\n      }\n    },\n    {\n      \"column\": \"IsActiveMember\",\n      \"properties\": {\n        \"dtype\": \"number\",\n        \"std\": 0,\n        \"min\": 0,\n        \"max\": 1,\n        \"samples\": [\n          0,\n          1\n        ],\n        \"num_unique_values\": 2,\n        \"semantic_type\": \"\",\n        \"description\": \"\"\n      }\n    },\n    {\n      \"column\": \"EstimatedSalary\",\n      \"properties\": {\n        \"dtype\": \"number\",\n        \"std\": 0.2914932477791424,\n        \"min\": 0.0005575032415595688,\n        \"max\": 0.9996834197665877,\n        \"samples\": [\n          0.029780394027629636,\n          0.30659572989220474\n        ],\n        \"num_unique_values\": 1000,\n        \"semantic_type\": \"\",\n        \"description\": \"\"\n      }\n    },\n    {\n      \"column\": \"Geography_France\",\n      \"properties\": {\n        \"dtype\": \"uint8\",\n        \"samples\": [\n          1,\n          0\n        ],\n        \"num_unique_values\": 2,\n        \"semantic_type\": \"\",\n        \"description\": \"\"\n      }\n    },\n    {\n      \"column\": \"Geography_Germany\",\n      \"properties\": {\n        \"dtype\": \"uint8\",\n        \"samples\": [\n          0,\n          1\n        ],\n        \"num_unique_values\": 2,\n        \"semantic_type\": \"\",\n        \"description\": \"\"\n      }\n    },\n    {\n      \"column\": \"Geography_Spain\",\n      \"properties\": {\n        \"dtype\": \"uint8\",\n        \"samples\": [\n          1,\n          0\n        ],\n        \"num_unique_values\": 2,\n        \"semantic_type\": \"\",\n        \"description\": \"\"\n      }\n    },\n    {\n      \"column\": \"Gender_Female\",\n      \"properties\": {\n        \"dtype\": \"uint8\",\n        \"samples\": [\n          1,\n          0\n        ],\n        \"num_unique_values\": 2,\n        \"semantic_type\": \"\",\n        \"description\": \"\"\n      }\n    },\n    {\n      \"column\": \"Gender_Male\",\n      \"properties\": {\n        \"dtype\": \"uint8\",\n        \"samples\": [\n          0,\n          1\n        ],\n        \"num_unique_values\": 2,\n        \"semantic_type\": \"\",\n        \"description\": \"\"\n      }\n    }\n  ]\n}"
            }
          },
          "metadata": {},
          "execution_count": 142
        }
      ]
    },
    {
      "cell_type": "code",
      "source": [
        "Xtrain.info()"
      ],
      "metadata": {
        "colab": {
          "base_uri": "https://localhost:8080/"
        },
        "id": "-1O3HOuox9BC",
        "outputId": "81aebcac-642b-4996-eede-3eecacdb8c37"
      },
      "id": "-1O3HOuox9BC",
      "execution_count": 143,
      "outputs": [
        {
          "output_type": "stream",
          "name": "stdout",
          "text": [
            "<class 'pandas.core.frame.DataFrame'>\n",
            "Int64Index: 9000 entries, 1200 to 4834\n",
            "Data columns (total 12 columns):\n",
            " #   Column             Non-Null Count  Dtype  \n",
            "---  ------             --------------  -----  \n",
            " 0   CreditScore        9000 non-null   float64\n",
            " 1   Age                9000 non-null   float64\n",
            " 2   Tenure             9000 non-null   int64  \n",
            " 3   Balance            9000 non-null   float64\n",
            " 4   NumOfProducts      9000 non-null   int64  \n",
            " 5   IsActiveMember     9000 non-null   int64  \n",
            " 6   EstimatedSalary    9000 non-null   float64\n",
            " 7   Geography_France   9000 non-null   uint8  \n",
            " 8   Geography_Germany  9000 non-null   uint8  \n",
            " 9   Geography_Spain    9000 non-null   uint8  \n",
            " 10  Gender_Female      9000 non-null   uint8  \n",
            " 11  Gender_Male        9000 non-null   uint8  \n",
            "dtypes: float64(4), int64(3), uint8(5)\n",
            "memory usage: 606.4 KB\n"
          ]
        }
      ]
    },
    {
      "cell_type": "code",
      "source": [
        "Xtest.info()"
      ],
      "metadata": {
        "colab": {
          "base_uri": "https://localhost:8080/"
        },
        "id": "pubOu48yx_NE",
        "outputId": "889dd137-b5a4-4b5c-821b-c8b4072760a6"
      },
      "id": "pubOu48yx_NE",
      "execution_count": 144,
      "outputs": [
        {
          "output_type": "stream",
          "name": "stdout",
          "text": [
            "<class 'pandas.core.frame.DataFrame'>\n",
            "Int64Index: 1000 entries, 8163 to 8501\n",
            "Data columns (total 12 columns):\n",
            " #   Column             Non-Null Count  Dtype  \n",
            "---  ------             --------------  -----  \n",
            " 0   CreditScore        1000 non-null   float64\n",
            " 1   Age                1000 non-null   float64\n",
            " 2   Tenure             1000 non-null   int64  \n",
            " 3   Balance            1000 non-null   float64\n",
            " 4   NumOfProducts      1000 non-null   int64  \n",
            " 5   IsActiveMember     1000 non-null   int64  \n",
            " 6   EstimatedSalary    1000 non-null   float64\n",
            " 7   Geography_France   1000 non-null   uint8  \n",
            " 8   Geography_Germany  1000 non-null   uint8  \n",
            " 9   Geography_Spain    1000 non-null   uint8  \n",
            " 10  Gender_Female      1000 non-null   uint8  \n",
            " 11  Gender_Male        1000 non-null   uint8  \n",
            "dtypes: float64(4), int64(3), uint8(5)\n",
            "memory usage: 67.4 KB\n"
          ]
        }
      ]
    },
    {
      "cell_type": "markdown",
      "metadata": {
        "id": "7ed0e6dd-8d96-4872-8cb7-8b906631d66c"
      },
      "source": [
        "## **Imbalanced Data**"
      ],
      "id": "7ed0e6dd-8d96-4872-8cb7-8b906631d66c"
    },
    {
      "cell_type": "code",
      "execution_count": 145,
      "metadata": {
        "colab": {
          "base_uri": "https://localhost:8080/"
        },
        "id": "46a16a21-9909-4ae6-b8a6-854189fa7b9d",
        "outputId": "bfb3666a-ef5c-4127-cd23-d5c01afbd143"
      },
      "outputs": [
        {
          "output_type": "execute_result",
          "data": {
            "text/plain": [
              "0    7167\n",
              "1    1833\n",
              "Name: Exited, dtype: int64"
            ]
          },
          "metadata": {},
          "execution_count": 145
        }
      ],
      "source": [
        "ytrain.value_counts()"
      ],
      "id": "46a16a21-9909-4ae6-b8a6-854189fa7b9d"
    },
    {
      "cell_type": "code",
      "source": [
        "from imblearn.over_sampling import SMOTE\n",
        "\n",
        "smote = SMOTE(sampling_strategy=1, random_state=123)\n",
        "Xtrain_over, ytrain_over = smote.fit_resample(Xtrain, ytrain)\n",
        "\n",
        "print('SMOTE')\n",
        "print(pd.Series(ytrain_over).value_counts())"
      ],
      "metadata": {
        "colab": {
          "base_uri": "https://localhost:8080/"
        },
        "id": "K4MjOnkXmlPc",
        "outputId": "b7da6e52-79d7-4d59-bd3a-62b112ee6582"
      },
      "id": "K4MjOnkXmlPc",
      "execution_count": 146,
      "outputs": [
        {
          "output_type": "stream",
          "name": "stdout",
          "text": [
            "SMOTE\n",
            "0    7167\n",
            "1    7167\n",
            "Name: Exited, dtype: int64\n"
          ]
        }
      ]
    },
    {
      "cell_type": "markdown",
      "source": [
        "Dilakukan oversampling karena data yang dimiliki berjumlah sedikit"
      ],
      "metadata": {
        "id": "HIUYb-0Rh2gF"
      },
      "id": "HIUYb-0Rh2gF"
    },
    {
      "cell_type": "code",
      "source": [
        "ytest.value_counts()"
      ],
      "metadata": {
        "colab": {
          "base_uri": "https://localhost:8080/"
        },
        "id": "jkGV3Hc6pJ3m",
        "outputId": "f3541c96-c6e2-4375-df96-ef688d9e57db"
      },
      "id": "jkGV3Hc6pJ3m",
      "execution_count": 147,
      "outputs": [
        {
          "output_type": "execute_result",
          "data": {
            "text/plain": [
              "0    796\n",
              "1    204\n",
              "Name: Exited, dtype: int64"
            ]
          },
          "metadata": {},
          "execution_count": 147
        }
      ]
    },
    {
      "cell_type": "markdown",
      "source": [
        "## **Feature Engineering**"
      ],
      "metadata": {
        "id": "PiEchdUGcAdu"
      },
      "id": "PiEchdUGcAdu"
    },
    {
      "cell_type": "markdown",
      "metadata": {
        "id": "vxbQPy_mesRZ"
      },
      "source": [
        "### **Feature Selection**"
      ],
      "id": "vxbQPy_mesRZ"
    },
    {
      "cell_type": "code",
      "execution_count": 148,
      "metadata": {
        "id": "81l0tREuelj9",
        "colab": {
          "base_uri": "https://localhost:8080/"
        },
        "outputId": "9314cac4-1dc4-4a61-a216-72c5d5a817d3"
      },
      "outputs": [
        {
          "output_type": "stream",
          "name": "stdout",
          "text": [
            "<class 'pandas.core.frame.DataFrame'>\n",
            "RangeIndex: 10000 entries, 0 to 9999\n",
            "Data columns (total 13 columns):\n",
            " #   Column             Non-Null Count  Dtype  \n",
            "---  ------             --------------  -----  \n",
            " 0   CreditScore        10000 non-null  int64  \n",
            " 1   Age                10000 non-null  int64  \n",
            " 2   Tenure             10000 non-null  int64  \n",
            " 3   Balance            10000 non-null  float64\n",
            " 4   NumOfProducts      10000 non-null  int64  \n",
            " 5   IsActiveMember     10000 non-null  int64  \n",
            " 6   EstimatedSalary    10000 non-null  float64\n",
            " 7   Exited             10000 non-null  int64  \n",
            " 8   Geography_France   10000 non-null  uint8  \n",
            " 9   Geography_Germany  10000 non-null  uint8  \n",
            " 10  Geography_Spain    10000 non-null  uint8  \n",
            " 11  Gender_Female      10000 non-null  uint8  \n",
            " 12  Gender_Male        10000 non-null  uint8  \n",
            "dtypes: float64(2), int64(6), uint8(5)\n",
            "memory usage: 674.0 KB\n"
          ]
        }
      ],
      "source": [
        "df.info()"
      ],
      "id": "81l0tREuelj9"
    },
    {
      "cell_type": "code",
      "source": [
        "# Membuat heatmap\n",
        "numeric_df = df.select_dtypes(include=['float64', 'int64'])\n",
        "sns.heatmap(numeric_df.corr(), cmap='Blues', annot=True, fmt='.2f')"
      ],
      "metadata": {
        "colab": {
          "base_uri": "https://localhost:8080/",
          "height": 0
        },
        "id": "tCBYaYyHo_np",
        "outputId": "8ab6a7b4-6f44-4e8f-aa37-ad1590c90b04"
      },
      "id": "tCBYaYyHo_np",
      "execution_count": 149,
      "outputs": [
        {
          "output_type": "execute_result",
          "data": {
            "text/plain": [
              "<Axes: >"
            ]
          },
          "metadata": {},
          "execution_count": 149
        },
        {
          "output_type": "display_data",
          "data": {
            "text/plain": [
              "<Figure size 640x480 with 2 Axes>"
            ],
            "image/png": "[encoded data removed]"
          },
          "metadata": {}
        }
      ]
    },
    {
      "cell_type": "markdown",
      "source": [
        "- Tidak ada multikolinearitas antar fitur (tidak ada fitur\n",
        "redundan)\n",
        "- Berdasarkan linear corelation, fitur `HasCrCard`, `Tenure`, `EstimatedSalary` memiliki skor paling rendah terhadap fitur target\n",
        "- Diperlukan analisis fitur lebih lanjut karena heatmap corr hanya melihat hubungan linear corr. Sedangkan, fitur yang ada merupakan campuran numerik dan kategorik"
      ],
      "metadata": {
        "id": "vYRtQLXNh_tO"
      },
      "id": "vYRtQLXNh_tO"
    },
    {
      "cell_type": "markdown",
      "source": [
        "### **Mutual Information Classification**"
      ],
      "metadata": {
        "id": "34mded5PpSRK"
      },
      "id": "34mded5PpSRK"
    },
    {
      "cell_type": "code",
      "source": [
        "from sklearn.feature_selection import mutual_info_classif\n",
        "\n",
        "\n",
        "X = df.drop(columns=['Exited'])\n",
        "y= df['Exited']\n",
        "\n",
        "mi_scores = mutual_info_classif(X, y,random_state=123)\n",
        "mi_scores = pd.Series(mi_scores, name=\"MI Scores\", index=X.columns)\n",
        "mi_scores = mi_scores.sort_values(ascending=False)\n",
        "print(mi_scores)"
      ],
      "metadata": {
        "colab": {
          "base_uri": "https://localhost:8080/"
        },
        "id": "UXrven4xpYVx",
        "outputId": "152b0233-cfd5-41b5-ae36-5522e1caaf2a"
      },
      "id": "UXrven4xpYVx",
      "execution_count": 150,
      "outputs": [
        {
          "output_type": "stream",
          "name": "stdout",
          "text": [
            "NumOfProducts        0.071122\n",
            "Age                  0.066554\n",
            "IsActiveMember       0.017493\n",
            "Geography_Germany    0.013773\n",
            "Balance              0.008551\n",
            "Geography_France     0.004503\n",
            "EstimatedSalary      0.002704\n",
            "CreditScore          0.002301\n",
            "Gender_Male          0.001974\n",
            "Gender_Female        0.001872\n",
            "Tenure               0.001230\n",
            "Geography_Spain      0.000000\n",
            "Name: MI Scores, dtype: float64\n"
          ]
        }
      ]
    },
    {
      "cell_type": "markdown",
      "source": [
        "- Terdapat 7 fitur paling berpengaruh yaitu `log_age`, `NumOfProducts`, `Segment Age`, `Geography_Germany`, `IsActiveMember`, `Norm_Balance`, `Gender_Male`\n",
        "- Fitur dengan nilai mutual information paling rendah adalah `HasCrCard`\n",
        "- Fitur yang memiliki score paling rendah dapat dipertimbangkan untuk dihilangkan dari pemodelan"
      ],
      "metadata": {
        "id": "KEPhBJ3JiznM"
      },
      "id": "KEPhBJ3JiznM"
    },
    {
      "cell_type": "markdown",
      "source": [
        "### **Chi_square Test**"
      ],
      "metadata": {
        "id": "RHI0skvjpkSE"
      },
      "id": "RHI0skvjpkSE"
    },
    {
      "cell_type": "code",
      "source": [
        "from sklearn.feature_selection import chi2\n",
        "\n",
        "X = df.drop(columns=['Exited'])\n",
        "y= df['Exited']\n",
        "\n",
        "chi2_stats, p_values = chi2(X, y)\n",
        "chi2_stats = pd.Series(chi2_stats, name=\"Chi2 Scores\", index=X.columns)\n",
        "chi2_stats = chi2_stats.sort_values(ascending=False)\n",
        "print(chi2_stats)"
      ],
      "metadata": {
        "colab": {
          "base_uri": "https://localhost:8080/"
        },
        "id": "_6EnSd8YplRE",
        "outputId": "a27afb0d-2ab5-40d4-dade-483c5eef0de1"
      },
      "id": "_6EnSd8YplRE",
      "execution_count": 151,
      "outputs": [
        {
          "output_type": "stream",
          "name": "stdout",
          "text": [
            "Balance              7.151303e+06\n",
            "EstimatedSalary      4.835088e+04\n",
            "Age                  2.300417e+03\n",
            "Geography_Germany    2.254644e+02\n",
            "IsActiveMember       1.181994e+02\n",
            "CreditScore          1.054035e+02\n",
            "Gender_Female        6.190917e+01\n",
            "Geography_France     5.492371e+01\n",
            "Gender_Male          5.153993e+01\n",
            "Geography_Spain      2.086721e+01\n",
            "NumOfProducts        5.055394e+00\n",
            "Tenure               3.270538e+00\n",
            "Name: Chi2 Scores, dtype: float64\n"
          ]
        }
      ]
    },
    {
      "cell_type": "code",
      "source": [
        "p_values = pd.Series(p_values, name=\"p_value\", index=X.columns)\n",
        "p_values = p_values.sort_values(ascending=False)\n",
        "print(p_values)"
      ],
      "metadata": {
        "colab": {
          "base_uri": "https://localhost:8080/"
        },
        "id": "TTGdtUpTqAMM",
        "outputId": "d378ecd2-d83d-4828-d134-765769d74811"
      },
      "id": "TTGdtUpTqAMM",
      "execution_count": 152,
      "outputs": [
        {
          "output_type": "stream",
          "name": "stdout",
          "text": [
            "Tenure               7.053449e-02\n",
            "NumOfProducts        2.454940e-02\n",
            "Geography_Spain      4.922505e-06\n",
            "Gender_Male          7.015575e-13\n",
            "Geography_France     1.253006e-13\n",
            "Gender_Female        3.596700e-15\n",
            "CreditScore          9.963536e-25\n",
            "IsActiveMember       1.568036e-27\n",
            "Geography_Germany    5.814572e-51\n",
            "Age                  0.000000e+00\n",
            "Balance              0.000000e+00\n",
            "EstimatedSalary      0.000000e+00\n",
            "Name: p_value, dtype: float64\n"
          ]
        }
      ]
    },
    {
      "cell_type": "markdown",
      "source": [
        "- Terdapat 7 fitur paling berpengaruh yaitu `Geography_Germany`, `Segment Age`, `IsActiveMember`, `Segment Balance`, `Gender_Female`, `Geography_France`, `Gender_Male`\n",
        "- Fitur dengan nilai mutual information paling rendah adalah `HasCrCard`\n",
        "- Fitur yang memiliki score paling rendah dapat dipertimbangkan untuk dihilangkan dari pemodelan"
      ],
      "metadata": {
        "id": "t6c_TGxxmB0L"
      },
      "id": "t6c_TGxxmB0L"
    },
    {
      "cell_type": "markdown",
      "source": [
        "### **ANOVA**"
      ],
      "metadata": {
        "id": "p0oNZBubplfd"
      },
      "id": "p0oNZBubplfd"
    },
    {
      "cell_type": "code",
      "source": [
        "from sklearn.feature_selection import f_classif\n",
        "\n",
        "X = df.drop(columns=['Exited'])\n",
        "y= df['Exited']\n",
        "\n",
        "f_statistic, p_values = f_classif(X, y)\n",
        "f_statistic = pd.Series(f_statistic, name=\"f Scores\", index=X.columns)\n",
        "f_statistic = f_statistic.sort_values(ascending=False)\n",
        "print(f_statistic)"
      ],
      "metadata": {
        "colab": {
          "base_uri": "https://localhost:8080/"
        },
        "id": "ZohYD8ZXplvv",
        "outputId": "1300e91c-da5e-449f-a88f-d7ee56492887"
      },
      "id": "ZohYD8ZXplvv",
      "execution_count": 153,
      "outputs": [
        {
          "output_type": "stream",
          "name": "stdout",
          "text": [
            "Age                  886.063275\n",
            "Geography_Germany    310.258384\n",
            "IsActiveMember       249.800794\n",
            "Balance              142.473832\n",
            "Gender_Female        114.727989\n",
            "Gender_Male          114.727989\n",
            "Geography_France     111.360517\n",
            "Geography_Spain       27.809468\n",
            "NumOfProducts         22.915223\n",
            "CreditScore            7.344522\n",
            "Tenure                 1.960164\n",
            "EstimatedSalary        1.463262\n",
            "Name: f Scores, dtype: float64\n"
          ]
        }
      ]
    },
    {
      "cell_type": "code",
      "source": [
        "p_values = pd.Series(p_values, name=\"p_value\", index=X.columns)\n",
        "p_values = p_values.sort_values(ascending=False)\n",
        "print(p_values)"
      ],
      "metadata": {
        "colab": {
          "base_uri": "https://localhost:8080/"
        },
        "id": "p-b5WX-_qWGn",
        "outputId": "c971a41b-0d4f-454d-b392-bf2e25b8adb2"
      },
      "id": "p-b5WX-_qWGn",
      "execution_count": 154,
      "outputs": [
        {
          "output_type": "stream",
          "name": "stdout",
          "text": [
            "EstimatedSalary       2.264404e-01\n",
            "Tenure                1.615268e-01\n",
            "CreditScore           6.738214e-03\n",
            "NumOfProducts         1.717333e-06\n",
            "Geography_Spain       1.366655e-07\n",
            "Geography_France      6.748446e-26\n",
            "Gender_Male           1.258505e-26\n",
            "Gender_Female         1.258505e-26\n",
            "Balance               1.275563e-32\n",
            "IsActiveMember        1.348269e-55\n",
            "Geography_Germany     2.059537e-68\n",
            "Age                  1.239931e-186\n",
            "Name: p_value, dtype: float64\n"
          ]
        }
      ]
    },
    {
      "cell_type": "markdown",
      "source": [
        "- Terdapat 7 fitur paling berpengaruh yaitu `log_age`, `Segment Age`, `Geography_Germany`, `IsActiveMember`, `Norm_Balance`, `Segment Balance`, `Gender_Female`\n",
        "- Fitur dengan nilai mutual information paling rendah adalah `HasCrCard`\n",
        "- Fitur yang memiliki score paling rendah dapat dipertimbangkan untuk dihilangkan dari pemodelan"
      ],
      "metadata": {
        "id": "QjhpP6iesm2c"
      },
      "id": "QjhpP6iesm2c"
    },
    {
      "cell_type": "markdown",
      "source": [
        "### **Feature Importance**"
      ],
      "metadata": {
        "id": "zNFQp0lRtTfD"
      },
      "id": "zNFQp0lRtTfD"
    },
    {
      "cell_type": "code",
      "execution_count": 155,
      "metadata": {
        "id": "TQq7PAauT9B-",
        "colab": {
          "base_uri": "https://localhost:8080/"
        },
        "outputId": "7312b23b-826b-47f4-e7de-d7e6a9c6b18c"
      },
      "outputs": [
        {
          "output_type": "stream",
          "name": "stdout",
          "text": [
            "Age: 0.04380560351974026\n",
            "CreditScore: -0.00503524933136823\n",
            "Tenure: -0.0015909721882907241\n",
            "IsActiveMember: -0.0014176240568898658\n",
            "Gender_Male: -0.0010386800611553893\n",
            "Geography_Germany: 0.0009484133604965154\n",
            "Gender_Female: 0.0008464146909834104\n",
            "Geography_France: -0.0008062500584273772\n",
            "NumOfProducts: -0.0004459470605139449\n",
            "Geography_Spain: -0.000334428672243049\n",
            "Balance: 3.621614099722113e-06\n",
            "EstimatedSalary: -1.3615994674904917e-06\n"
          ]
        }
      ],
      "source": [
        "from sklearn.linear_model import LogisticRegression\n",
        "\n",
        "# Inisialisasi model\n",
        "lr = LogisticRegression()\n",
        "\n",
        "# Fit model\n",
        "X = df.drop(columns=['Exited'])\n",
        "Y = df['Exited']\n",
        "lr.fit(X, Y)\n",
        "\n",
        "# Mendapatkan koefisien dan nama kolom\n",
        "coef_list = lr.coef_[0]\n",
        "col_names = X.columns\n",
        "\n",
        "# Menggabungkan nama kolom dan koefisien\n",
        "coef_names = list(zip(col_names, coef_list))\n",
        "\n",
        "# Mengurutkan berdasarkan nilai koefisien\n",
        "coef_names_sorted = sorted(coef_names, key=lambda x: abs(x[1]), reverse=True)\n",
        "\n",
        "# Menampilkan koefisien model\n",
        "for coef_name in coef_names_sorted:\n",
        "    print(f\"{coef_name[0]}: {coef_name[1]}\")"
      ],
      "id": "TQq7PAauT9B-"
    },
    {
      "cell_type": "markdown",
      "metadata": {
        "id": "5hClOQR_e0H2"
      },
      "source": [
        "\n",
        "\n",
        "Fitur yang dibuang:\n",
        "- `RowNumber`, `CustomerId`, `Surname` = fitur ini dibuang di awal karena tidak digunakan dalam pembuatan model ML\n",
        "- `Geography`, `Gender` = kolom ini di drop karena sudah dilakukan one hot encoding\n",
        "- `Age` = kolom ini di drop karena sudah dilakukan transformasi logaritma dan dibuat kolom baru\n",
        "- `CreditScore`, `Balance`, `EstimatedSalary` = kolom ini di drop karena dilakukan fiture transformasi dan dibuat kolom baru"
      ],
      "id": "5hClOQR_e0H2"
    },
    {
      "cell_type": "code",
      "execution_count": 156,
      "metadata": {
        "id": "DFC_BTQCT9Km",
        "colab": {
          "base_uri": "https://localhost:8080/"
        },
        "outputId": "53c16451-472d-4fe8-b3de-7b0be3f3d522"
      },
      "outputs": [
        {
          "output_type": "execute_result",
          "data": {
            "text/plain": [
              "Index(['CreditScore', 'Age', 'Tenure', 'Balance', 'NumOfProducts',\n",
              "       'IsActiveMember', 'EstimatedSalary', 'Geography_France',\n",
              "       'Geography_Germany', 'Geography_Spain', 'Gender_Female', 'Gender_Male'],\n",
              "      dtype='object')"
            ]
          },
          "metadata": {},
          "execution_count": 156
        }
      ],
      "source": [
        "X.columns"
      ],
      "id": "DFC_BTQCT9Km"
    },
    {
      "cell_type": "code",
      "source": [
        "Xtrain.head()"
      ],
      "metadata": {
        "colab": {
          "base_uri": "https://localhost:8080/",
          "height": 0
        },
        "id": "f7rHa_HuMlA-",
        "outputId": "71289840-970e-47a2-e465-2c5aeaa7cc43"
      },
      "id": "f7rHa_HuMlA-",
      "execution_count": 157,
      "outputs": [
        {
          "output_type": "execute_result",
          "data": {
            "text/plain": [
              "      CreditScore       Age  Tenure   Balance  NumOfProducts  IsActiveMember  \\\n",
              "1200        0.844  3.401197       6  0.397712              2               0   \n",
              "1181        0.602  3.178054       7  0.160323              1               1   \n",
              "4861        0.626  3.091042       9  0.000000              1               0   \n",
              "9282        0.538  3.526361       1  0.000000              1               0   \n",
              "331         0.634  3.688879       1  0.583911              1               0   \n",
              "\n",
              "      EstimatedSalary  Geography_France  Geography_Germany  Geography_Spain  \\\n",
              "1200         0.986226                 0                  1                0   \n",
              "1181         0.891734                 0                  1                0   \n",
              "4861         0.145635                 0                  0                1   \n",
              "9282         0.699606                 0                  0                1   \n",
              "331          0.095766                 0                  0                1   \n",
              "\n",
              "      Gender_Female  Gender_Male  \n",
              "1200              0            1  \n",
              "1181              1            0  \n",
              "4861              1            0  \n",
              "9282              0            1  \n",
              "331               1            0  "
            ],
            "text/html": [
              "\n",
              "  <div id=\"df-f8a9a91f-b0a6-4ef5-8d39-4c43434116e4\" class=\"colab-df-container\">\n",
              "    <div>\n",
              "<style scoped>\n",
              "    .dataframe tbody tr th:only-of-type {\n",
              "        vertical-align: middle;\n",
              "    }\n",
              "\n",
              "    .dataframe tbody tr th {\n",
              "        vertical-align: top;\n",
              "    }\n",
              "\n",
              "    .dataframe thead th {\n",
              "        text-align: right;\n",
              "    }\n",
              "</style>\n",
              "<table border=\"1\" class=\"dataframe\">\n",
              "  <thead>\n",
              "    <tr style=\"text-align: right;\">\n",
              "      <th></th>\n",
              "      <th>CreditScore</th>\n",
              "      <th>Age</th>\n",
              "      <th>Tenure</th>\n",
              "      <th>Balance</th>\n",
              "      <th>NumOfProducts</th>\n",
              "      <th>IsActiveMember</th>\n",
              "      <th>EstimatedSalary</th>\n",
              "      <th>Geography_France</th>\n",
              "      <th>Geography_Germany</th>\n",
              "      <th>Geography_Spain</th>\n",
              "      <th>Gender_Female</th>\n",
              "      <th>Gender_Male</th>\n",
              "    </tr>\n",
              "  </thead>\n",
              "  <tbody>\n",
              "    <tr>\n",
              "      <th>1200</th>\n",
              "      <td>0.844</td>\n",
              "      <td>3.401197</td>\n",
              "      <td>6</td>\n",
              "      <td>0.397712</td>\n",
              "      <td>2</td>\n",
              "      <td>0</td>\n",
              "      <td>0.986226</td>\n",
              "      <td>0</td>\n",
              "      <td>1</td>\n",
              "      <td>0</td>\n",
              "      <td>0</td>\n",
              "      <td>1</td>\n",
              "    </tr>\n",
              "    <tr>\n",
              "      <th>1181</th>\n",
              "      <td>0.602</td>\n",
              "      <td>3.178054</td>\n",
              "      <td>7</td>\n",
              "      <td>0.160323</td>\n",
              "      <td>1</td>\n",
              "      <td>1</td>\n",
              "      <td>0.891734</td>\n",
              "      <td>0</td>\n",
              "      <td>1</td>\n",
              "      <td>0</td>\n",
              "      <td>1</td>\n",
              "      <td>0</td>\n",
              "    </tr>\n",
              "    <tr>\n",
              "      <th>4861</th>\n",
              "      <td>0.626</td>\n",
              "      <td>3.091042</td>\n",
              "      <td>9</td>\n",
              "      <td>0.000000</td>\n",
              "      <td>1</td>\n",
              "      <td>0</td>\n",
              "      <td>0.145635</td>\n",
              "      <td>0</td>\n",
              "      <td>0</td>\n",
              "      <td>1</td>\n",
              "      <td>1</td>\n",
              "      <td>0</td>\n",
              "    </tr>\n",
              "    <tr>\n",
              "      <th>9282</th>\n",
              "      <td>0.538</td>\n",
              "      <td>3.526361</td>\n",
              "      <td>1</td>\n",
              "      <td>0.000000</td>\n",
              "      <td>1</td>\n",
              "      <td>0</td>\n",
              "      <td>0.699606</td>\n",
              "      <td>0</td>\n",
              "      <td>0</td>\n",
              "      <td>1</td>\n",
              "      <td>0</td>\n",
              "      <td>1</td>\n",
              "    </tr>\n",
              "    <tr>\n",
              "      <th>331</th>\n",
              "      <td>0.634</td>\n",
              "      <td>3.688879</td>\n",
              "      <td>1</td>\n",
              "      <td>0.583911</td>\n",
              "      <td>1</td>\n",
              "      <td>0</td>\n",
              "      <td>0.095766</td>\n",
              "      <td>0</td>\n",
              "      <td>0</td>\n",
              "      <td>1</td>\n",
              "      <td>1</td>\n",
              "      <td>0</td>\n",
              "    </tr>\n",
              "  </tbody>\n",
              "</table>\n",
              "</div>\n",
              "    <div class=\"colab-df-buttons\">\n",
              "\n",
              "  <div class=\"colab-df-container\">\n",
              "    <button class=\"colab-df-convert\" onclick=\"convertToInteractive('df-f8a9a91f-b0a6-4ef5-8d39-4c43434116e4')\"\n",
              "            title=\"Convert this dataframe to an interactive table.\"\n",
              "            style=\"display:none;\">\n",
              "\n",
              "  <svg xmlns=\"http://www.w3.org/2000/svg\" height=\"24px\" viewBox=\"0 -960 960 960\">\n",
              "    <path d=\"M120-120v-720h720v720H120Zm60-500h600v-160H180v160Zm220 220h160v-160H400v160Zm0 220h160v-160H400v160ZM180-400h160v-160H180v160Zm440 0h160v-160H620v160ZM180-180h160v-160H180v160Zm440 0h160v-160H620v160Z\"/>\n",
              "  </svg>\n",
              "    </button>\n",
              "\n",
              "  <style>\n",
              "    .colab-df-container {\n",
              "      display:flex;\n",
              "      gap: 12px;\n",
              "    }\n",
              "\n",
              "    .colab-df-convert {\n",
              "      background-color: #E8F0FE;\n",
              "      border: none;\n",
              "      border-radius: 50%;\n",
              "      cursor: pointer;\n",
              "      display: none;\n",
              "      fill: #1967D2;\n",
              "      height: 32px;\n",
              "      padding: 0 0 0 0;\n",
              "      width: 32px;\n",
              "    }\n",
              "\n",
              "    .colab-df-convert:hover {\n",
              "      background-color: #E2EBFA;\n",
              "      box-shadow: 0px 1px 2px rgba(60, 64, 67, 0.3), 0px 1px 3px 1px rgba(60, 64, 67, 0.15);\n",
              "      fill: #174EA6;\n",
              "    }\n",
              "\n",
              "    .colab-df-buttons div {\n",
              "      margin-bottom: 4px;\n",
              "    }\n",
              "\n",
              "    [theme=dark] .colab-df-convert {\n",
              "      background-color: #3B4455;\n",
              "      fill: #D2E3FC;\n",
              "    }\n",
              "\n",
              "    [theme=dark] .colab-df-convert:hover {\n",
              "      background-color: #434B5C;\n",
              "      box-shadow: 0px 1px 3px 1px rgba(0, 0, 0, 0.15);\n",
              "      filter: drop-shadow(0px 1px 2px rgba(0, 0, 0, 0.3));\n",
              "      fill: #FFFFFF;\n",
              "    }\n",
              "  </style>\n",
              "\n",
              "    <script>\n",
              "      const buttonEl =\n",
              "        document.querySelector('#df-f8a9a91f-b0a6-4ef5-8d39-4c43434116e4 button.colab-df-convert');\n",
              "      buttonEl.style.display =\n",
              "        google.colab.kernel.accessAllowed ? 'block' : 'none';\n",
              "\n",
              "      async function convertToInteractive(key) {\n",
              "        const element = document.querySelector('#df-f8a9a91f-b0a6-4ef5-8d39-4c43434116e4');\n",
              "        const dataTable =\n",
              "          await google.colab.kernel.invokeFunction('convertToInteractive',\n",
              "                                                    [key], {});\n",
              "        if (!dataTable) return;\n",
              "\n",
              "        const docLinkHtml = 'Like what you see? Visit the ' +\n",
              "          '<a target=\"_blank\" href=https://colab.research.google.com/notebooks/data_table.ipynb>data table notebook</a>'\n",
              "          + ' to learn more about interactive tables.';\n",
              "        element.innerHTML = '';\n",
              "        dataTable['output_type'] = 'display_data';\n",
              "        await google.colab.output.renderOutput(dataTable, element);\n",
              "        const docLink = document.createElement('div');\n",
              "        docLink.innerHTML = docLinkHtml;\n",
              "        element.appendChild(docLink);\n",
              "      }\n",
              "    </script>\n",
              "  </div>\n",
              "\n",
              "\n",
              "<div id=\"df-7fc77a5d-9929-4bde-926b-c360e53afa1e\">\n",
              "  <button class=\"colab-df-quickchart\" onclick=\"quickchart('df-7fc77a5d-9929-4bde-926b-c360e53afa1e')\"\n",
              "            title=\"Suggest charts\"\n",
              "            style=\"display:none;\">\n",
              "\n",
              "<svg xmlns=\"http://www.w3.org/2000/svg\" height=\"24px\"viewBox=\"0 0 24 24\"\n",
              "     width=\"24px\">\n",
              "    <g>\n",
              "        <path d=\"M19 3H5c-1.1 0-2 .9-2 2v14c0 1.1.9 2 2 2h14c1.1 0 2-.9 2-2V5c0-1.1-.9-2-2-2zM9 17H7v-7h2v7zm4 0h-2V7h2v10zm4 0h-2v-4h2v4z\"/>\n",
              "    </g>\n",
              "</svg>\n",
              "  </button>\n",
              "\n",
              "<style>\n",
              "  .colab-df-quickchart {\n",
              "      --bg-color: #E8F0FE;\n",
              "      --fill-color: #1967D2;\n",
              "      --hover-bg-color: #E2EBFA;\n",
              "      --hover-fill-color: #174EA6;\n",
              "      --disabled-fill-color: #AAA;\n",
              "      --disabled-bg-color: #DDD;\n",
              "  }\n",
              "\n",
              "  [theme=dark] .colab-df-quickchart {\n",
              "      --bg-color: #3B4455;\n",
              "      --fill-color: #D2E3FC;\n",
              "      --hover-bg-color: #434B5C;\n",
              "      --hover-fill-color: #FFFFFF;\n",
              "      --disabled-bg-color: #3B4455;\n",
              "      --disabled-fill-color: #666;\n",
              "  }\n",
              "\n",
              "  .colab-df-quickchart {\n",
              "    background-color: var(--bg-color);\n",
              "    border: none;\n",
              "    border-radius: 50%;\n",
              "    cursor: pointer;\n",
              "    display: none;\n",
              "    fill: var(--fill-color);\n",
              "    height: 32px;\n",
              "    padding: 0;\n",
              "    width: 32px;\n",
              "  }\n",
              "\n",
              "  .colab-df-quickchart:hover {\n",
              "    background-color: var(--hover-bg-color);\n",
              "    box-shadow: 0 1px 2px rgba(60, 64, 67, 0.3), 0 1px 3px 1px rgba(60, 64, 67, 0.15);\n",
              "    fill: var(--button-hover-fill-color);\n",
              "  }\n",
              "\n",
              "  .colab-df-quickchart-complete:disabled,\n",
              "  .colab-df-quickchart-complete:disabled:hover {\n",
              "    background-color: var(--disabled-bg-color);\n",
              "    fill: var(--disabled-fill-color);\n",
              "    box-shadow: none;\n",
              "  }\n",
              "\n",
              "  .colab-df-spinner {\n",
              "    border: 2px solid var(--fill-color);\n",
              "    border-color: transparent;\n",
              "    border-bottom-color: var(--fill-color);\n",
              "    animation:\n",
              "      spin 1s steps(1) infinite;\n",
              "  }\n",
              "\n",
              "  @keyframes spin {\n",
              "    0% {\n",
              "      border-color: transparent;\n",
              "      border-bottom-color: var(--fill-color);\n",
              "      border-left-color: var(--fill-color);\n",
              "    }\n",
              "    20% {\n",
              "      border-color: transparent;\n",
              "      border-left-color: var(--fill-color);\n",
              "      border-top-color: var(--fill-color);\n",
              "    }\n",
              "    30% {\n",
              "      border-color: transparent;\n",
              "      border-left-color: var(--fill-color);\n",
              "      border-top-color: var(--fill-color);\n",
              "      border-right-color: var(--fill-color);\n",
              "    }\n",
              "    40% {\n",
              "      border-color: transparent;\n",
              "      border-right-color: var(--fill-color);\n",
              "      border-top-color: var(--fill-color);\n",
              "    }\n",
              "    60% {\n",
              "      border-color: transparent;\n",
              "      border-right-color: var(--fill-color);\n",
              "    }\n",
              "    80% {\n",
              "      border-color: transparent;\n",
              "      border-right-color: var(--fill-color);\n",
              "      border-bottom-color: var(--fill-color);\n",
              "    }\n",
              "    90% {\n",
              "      border-color: transparent;\n",
              "      border-bottom-color: var(--fill-color);\n",
              "    }\n",
              "  }\n",
              "</style>\n",
              "\n",
              "  <script>\n",
              "    async function quickchart(key) {\n",
              "      const quickchartButtonEl =\n",
              "        document.querySelector('#' + key + ' button');\n",
              "      quickchartButtonEl.disabled = true;  // To prevent multiple clicks.\n",
              "      quickchartButtonEl.classList.add('colab-df-spinner');\n",
              "      try {\n",
              "        const charts = await google.colab.kernel.invokeFunction(\n",
              "            'suggestCharts', [key], {});\n",
              "      } catch (error) {\n",
              "        console.error('Error during call to suggestCharts:', error);\n",
              "      }\n",
              "      quickchartButtonEl.classList.remove('colab-df-spinner');\n",
              "      quickchartButtonEl.classList.add('colab-df-quickchart-complete');\n",
              "    }\n",
              "    (() => {\n",
              "      let quickchartButtonEl =\n",
              "        document.querySelector('#df-7fc77a5d-9929-4bde-926b-c360e53afa1e button');\n",
              "      quickchartButtonEl.style.display =\n",
              "        google.colab.kernel.accessAllowed ? 'block' : 'none';\n",
              "    })();\n",
              "  </script>\n",
              "</div>\n",
              "    </div>\n",
              "  </div>\n"
            ],
            "application/vnd.google.colaboratory.intrinsic+json": {
              "type": "dataframe",
              "variable_name": "Xtrain",
              "summary": "{\n  \"name\": \"Xtrain\",\n  \"rows\": 9000,\n  \"fields\": [\n    {\n      \"column\": \"CreditScore\",\n      \"properties\": {\n        \"dtype\": \"number\",\n        \"std\": 0.19321660260167714,\n        \"min\": 0.0,\n        \"max\": 1.0,\n        \"samples\": [\n          0.742,\n          0.36800000000000005,\n          0.5980000000000001\n        ],\n        \"num_unique_values\": 458,\n        \"semantic_type\": \"\",\n        \"description\": \"\"\n      }\n    },\n    {\n      \"column\": \"Age\",\n      \"properties\": {\n        \"dtype\": \"number\",\n        \"std\": 0.2562753906508342,\n        \"min\": 2.8903717578961645,\n        \"max\": 4.5217885770490405,\n        \"samples\": [\n          3.58351893845611,\n          3.4011973816621555,\n          3.332204510175204\n        ],\n        \"num_unique_values\": 69,\n        \"semantic_type\": \"\",\n        \"description\": \"\"\n      }\n    },\n    {\n      \"column\": \"Tenure\",\n      \"properties\": {\n        \"dtype\": \"number\",\n        \"std\": 2,\n        \"min\": 0,\n        \"max\": 10,\n        \"samples\": [\n          4,\n          6,\n          0\n        ],\n        \"num_unique_values\": 11,\n        \"semantic_type\": \"\",\n        \"description\": \"\"\n      }\n    },\n    {\n      \"column\": \"Balance\",\n      \"properties\": {\n        \"dtype\": \"number\",\n        \"std\": 0.24836775206987538,\n        \"min\": 0.0,\n        \"max\": 1.0,\n        \"samples\": [\n          0.35700387356476093,\n          0.48047113471449704,\n          0.49183885776093395\n        ],\n        \"num_unique_values\": 5748,\n        \"semantic_type\": \"\",\n        \"description\": \"\"\n      }\n    },\n    {\n      \"column\": \"NumOfProducts\",\n      \"properties\": {\n        \"dtype\": \"number\",\n        \"std\": 0,\n        \"min\": 1,\n        \"max\": 4,\n        \"samples\": [\n          1,\n          3,\n          2\n        ],\n        \"num_unique_values\": 4,\n        \"semantic_type\": \"\",\n        \"description\": \"\"\n      }\n    },\n    {\n      \"column\": \"IsActiveMember\",\n      \"properties\": {\n        \"dtype\": \"number\",\n        \"std\": 0,\n        \"min\": 0,\n        \"max\": 1,\n        \"samples\": [\n          1,\n          0\n        ],\n        \"num_unique_values\": 2,\n        \"semantic_type\": \"\",\n        \"description\": \"\"\n      }\n    },\n    {\n      \"column\": \"EstimatedSalary\",\n      \"properties\": {\n        \"dtype\": \"number\",\n        \"std\": 0.28715419635307976,\n        \"min\": 0.0,\n        \"max\": 1.0,\n        \"samples\": [\n          0.22079238567283171,\n          0.4792737706450966\n        ],\n        \"num_unique_values\": 8999,\n        \"semantic_type\": \"\",\n        \"description\": \"\"\n      }\n    },\n    {\n      \"column\": \"Geography_France\",\n      \"properties\": {\n        \"dtype\": \"uint8\",\n        \"samples\": [\n          1,\n          0\n        ],\n        \"num_unique_values\": 2,\n        \"semantic_type\": \"\",\n        \"description\": \"\"\n      }\n    },\n    {\n      \"column\": \"Geography_Germany\",\n      \"properties\": {\n        \"dtype\": \"uint8\",\n        \"samples\": [\n          0,\n          1\n        ],\n        \"num_unique_values\": 2,\n        \"semantic_type\": \"\",\n        \"description\": \"\"\n      }\n    },\n    {\n      \"column\": \"Geography_Spain\",\n      \"properties\": {\n        \"dtype\": \"uint8\",\n        \"samples\": [\n          1,\n          0\n        ],\n        \"num_unique_values\": 2,\n        \"semantic_type\": \"\",\n        \"description\": \"\"\n      }\n    },\n    {\n      \"column\": \"Gender_Female\",\n      \"properties\": {\n        \"dtype\": \"uint8\",\n        \"samples\": [\n          1,\n          0\n        ],\n        \"num_unique_values\": 2,\n        \"semantic_type\": \"\",\n        \"description\": \"\"\n      }\n    },\n    {\n      \"column\": \"Gender_Male\",\n      \"properties\": {\n        \"dtype\": \"uint8\",\n        \"samples\": [\n          0,\n          1\n        ],\n        \"num_unique_values\": 2,\n        \"semantic_type\": \"\",\n        \"description\": \"\"\n      }\n    }\n  ]\n}"
            }
          },
          "metadata": {},
          "execution_count": 157
        }
      ]
    },
    {
      "cell_type": "code",
      "source": [
        "Xtest.head()"
      ],
      "metadata": {
        "colab": {
          "base_uri": "https://localhost:8080/",
          "height": 0
        },
        "id": "OHrDlLe3MuYe",
        "outputId": "a5273cef-1c64-4578-e4ea-274c2722139a"
      },
      "id": "OHrDlLe3MuYe",
      "execution_count": 158,
      "outputs": [
        {
          "output_type": "execute_result",
          "data": {
            "text/plain": [
              "      CreditScore       Age  Tenure   Balance  NumOfProducts  IsActiveMember  \\\n",
              "8163        0.836  3.871201       3  0.489568              1               1   \n",
              "4588        0.144  3.713572       6  0.610761              1               0   \n",
              "9586        0.392  2.995732       6  0.000000              1               1   \n",
              "118         0.348  3.433987       8  0.429731              1               0   \n",
              "2109        0.492  3.713572       5  0.000000              2               1   \n",
              "\n",
              "      EstimatedSalary  Geography_France  Geography_Germany  Geography_Spain  \\\n",
              "8163         0.122623                 0                  1                0   \n",
              "4588         0.058263                 1                  0                0   \n",
              "9586         0.102496                 1                  0                0   \n",
              "118          0.998664                 0                  1                0   \n",
              "2109         0.705279                 0                  0                1   \n",
              "\n",
              "      Gender_Female  Gender_Male  \n",
              "8163              0            1  \n",
              "4588              0            1  \n",
              "9586              1            0  \n",
              "118               1            0  \n",
              "2109              0            1  "
            ],
            "text/html": [
              "\n",
              "  <div id=\"df-23c5e58c-71b9-4b5b-b5d4-121c0a81464d\" class=\"colab-df-container\">\n",
              "    <div>\n",
              "<style scoped>\n",
              "    .dataframe tbody tr th:only-of-type {\n",
              "        vertical-align: middle;\n",
              "    }\n",
              "\n",
              "    .dataframe tbody tr th {\n",
              "        vertical-align: top;\n",
              "    }\n",
              "\n",
              "    .dataframe thead th {\n",
              "        text-align: right;\n",
              "    }\n",
              "</style>\n",
              "<table border=\"1\" class=\"dataframe\">\n",
              "  <thead>\n",
              "    <tr style=\"text-align: right;\">\n",
              "      <th></th>\n",
              "      <th>CreditScore</th>\n",
              "      <th>Age</th>\n",
              "      <th>Tenure</th>\n",
              "      <th>Balance</th>\n",
              "      <th>NumOfProducts</th>\n",
              "      <th>IsActiveMember</th>\n",
              "      <th>EstimatedSalary</th>\n",
              "      <th>Geography_France</th>\n",
              "      <th>Geography_Germany</th>\n",
              "      <th>Geography_Spain</th>\n",
              "      <th>Gender_Female</th>\n",
              "      <th>Gender_Male</th>\n",
              "    </tr>\n",
              "  </thead>\n",
              "  <tbody>\n",
              "    <tr>\n",
              "      <th>8163</th>\n",
              "      <td>0.836</td>\n",
              "      <td>3.871201</td>\n",
              "      <td>3</td>\n",
              "      <td>0.489568</td>\n",
              "      <td>1</td>\n",
              "      <td>1</td>\n",
              "      <td>0.122623</td>\n",
              "      <td>0</td>\n",
              "      <td>1</td>\n",
              "      <td>0</td>\n",
              "      <td>0</td>\n",
              "      <td>1</td>\n",
              "    </tr>\n",
              "    <tr>\n",
              "      <th>4588</th>\n",
              "      <td>0.144</td>\n",
              "      <td>3.713572</td>\n",
              "      <td>6</td>\n",
              "      <td>0.610761</td>\n",
              "      <td>1</td>\n",
              "      <td>0</td>\n",
              "      <td>0.058263</td>\n",
              "      <td>1</td>\n",
              "      <td>0</td>\n",
              "      <td>0</td>\n",
              "      <td>0</td>\n",
              "      <td>1</td>\n",
              "    </tr>\n",
              "    <tr>\n",
              "      <th>9586</th>\n",
              "      <td>0.392</td>\n",
              "      <td>2.995732</td>\n",
              "      <td>6</td>\n",
              "      <td>0.000000</td>\n",
              "      <td>1</td>\n",
              "      <td>1</td>\n",
              "      <td>0.102496</td>\n",
              "      <td>1</td>\n",
              "      <td>0</td>\n",
              "      <td>0</td>\n",
              "      <td>1</td>\n",
              "      <td>0</td>\n",
              "    </tr>\n",
              "    <tr>\n",
              "      <th>118</th>\n",
              "      <td>0.348</td>\n",
              "      <td>3.433987</td>\n",
              "      <td>8</td>\n",
              "      <td>0.429731</td>\n",
              "      <td>1</td>\n",
              "      <td>0</td>\n",
              "      <td>0.998664</td>\n",
              "      <td>0</td>\n",
              "      <td>1</td>\n",
              "      <td>0</td>\n",
              "      <td>1</td>\n",
              "      <td>0</td>\n",
              "    </tr>\n",
              "    <tr>\n",
              "      <th>2109</th>\n",
              "      <td>0.492</td>\n",
              "      <td>3.713572</td>\n",
              "      <td>5</td>\n",
              "      <td>0.000000</td>\n",
              "      <td>2</td>\n",
              "      <td>1</td>\n",
              "      <td>0.705279</td>\n",
              "      <td>0</td>\n",
              "      <td>0</td>\n",
              "      <td>1</td>\n",
              "      <td>0</td>\n",
              "      <td>1</td>\n",
              "    </tr>\n",
              "  </tbody>\n",
              "</table>\n",
              "</div>\n",
              "    <div class=\"colab-df-buttons\">\n",
              "\n",
              "  <div class=\"colab-df-container\">\n",
              "    <button class=\"colab-df-convert\" onclick=\"convertToInteractive('df-23c5e58c-71b9-4b5b-b5d4-121c0a81464d')\"\n",
              "            title=\"Convert this dataframe to an interactive table.\"\n",
              "            style=\"display:none;\">\n",
              "\n",
              "  <svg xmlns=\"http://www.w3.org/2000/svg\" height=\"24px\" viewBox=\"0 -960 960 960\">\n",
              "    <path d=\"M120-120v-720h720v720H120Zm60-500h600v-160H180v160Zm220 220h160v-160H400v160Zm0 220h160v-160H400v160ZM180-400h160v-160H180v160Zm440 0h160v-160H620v160ZM180-180h160v-160H180v160Zm440 0h160v-160H620v160Z\"/>\n",
              "  </svg>\n",
              "    </button>\n",
              "\n",
              "  <style>\n",
              "    .colab-df-container {\n",
              "      display:flex;\n",
              "      gap: 12px;\n",
              "    }\n",
              "\n",
              "    .colab-df-convert {\n",
              "      background-color: #E8F0FE;\n",
              "      border: none;\n",
              "      border-radius: 50%;\n",
              "      cursor: pointer;\n",
              "      display: none;\n",
              "      fill: #1967D2;\n",
              "      height: 32px;\n",
              "      padding: 0 0 0 0;\n",
              "      width: 32px;\n",
              "    }\n",
              "\n",
              "    .colab-df-convert:hover {\n",
              "      background-color: #E2EBFA;\n",
              "      box-shadow: 0px 1px 2px rgba(60, 64, 67, 0.3), 0px 1px 3px 1px rgba(60, 64, 67, 0.15);\n",
              "      fill: #174EA6;\n",
              "    }\n",
              "\n",
              "    .colab-df-buttons div {\n",
              "      margin-bottom: 4px;\n",
              "    }\n",
              "\n",
              "    [theme=dark] .colab-df-convert {\n",
              "      background-color: #3B4455;\n",
              "      fill: #D2E3FC;\n",
              "    }\n",
              "\n",
              "    [theme=dark] .colab-df-convert:hover {\n",
              "      background-color: #434B5C;\n",
              "      box-shadow: 0px 1px 3px 1px rgba(0, 0, 0, 0.15);\n",
              "      filter: drop-shadow(0px 1px 2px rgba(0, 0, 0, 0.3));\n",
              "      fill: #FFFFFF;\n",
              "    }\n",
              "  </style>\n",
              "\n",
              "    <script>\n",
              "      const buttonEl =\n",
              "        document.querySelector('#df-23c5e58c-71b9-4b5b-b5d4-121c0a81464d button.colab-df-convert');\n",
              "      buttonEl.style.display =\n",
              "        google.colab.kernel.accessAllowed ? 'block' : 'none';\n",
              "\n",
              "      async function convertToInteractive(key) {\n",
              "        const element = document.querySelector('#df-23c5e58c-71b9-4b5b-b5d4-121c0a81464d');\n",
              "        const dataTable =\n",
              "          await google.colab.kernel.invokeFunction('convertToInteractive',\n",
              "                                                    [key], {});\n",
              "        if (!dataTable) return;\n",
              "\n",
              "        const docLinkHtml = 'Like what you see? Visit the ' +\n",
              "          '<a target=\"_blank\" href=https://colab.research.google.com/notebooks/data_table.ipynb>data table notebook</a>'\n",
              "          + ' to learn more about interactive tables.';\n",
              "        element.innerHTML = '';\n",
              "        dataTable['output_type'] = 'display_data';\n",
              "        await google.colab.output.renderOutput(dataTable, element);\n",
              "        const docLink = document.createElement('div');\n",
              "        docLink.innerHTML = docLinkHtml;\n",
              "        element.appendChild(docLink);\n",
              "      }\n",
              "    </script>\n",
              "  </div>\n",
              "\n",
              "\n",
              "<div id=\"df-ef2d3a07-c51b-406e-9c08-b57c4bea18c5\">\n",
              "  <button class=\"colab-df-quickchart\" onclick=\"quickchart('df-ef2d3a07-c51b-406e-9c08-b57c4bea18c5')\"\n",
              "            title=\"Suggest charts\"\n",
              "            style=\"display:none;\">\n",
              "\n",
              "<svg xmlns=\"http://www.w3.org/2000/svg\" height=\"24px\"viewBox=\"0 0 24 24\"\n",
              "     width=\"24px\">\n",
              "    <g>\n",
              "        <path d=\"M19 3H5c-1.1 0-2 .9-2 2v14c0 1.1.9 2 2 2h14c1.1 0 2-.9 2-2V5c0-1.1-.9-2-2-2zM9 17H7v-7h2v7zm4 0h-2V7h2v10zm4 0h-2v-4h2v4z\"/>\n",
              "    </g>\n",
              "</svg>\n",
              "  </button>\n",
              "\n",
              "<style>\n",
              "  .colab-df-quickchart {\n",
              "      --bg-color: #E8F0FE;\n",
              "      --fill-color: #1967D2;\n",
              "      --hover-bg-color: #E2EBFA;\n",
              "      --hover-fill-color: #174EA6;\n",
              "      --disabled-fill-color: #AAA;\n",
              "      --disabled-bg-color: #DDD;\n",
              "  }\n",
              "\n",
              "  [theme=dark] .colab-df-quickchart {\n",
              "      --bg-color: #3B4455;\n",
              "      --fill-color: #D2E3FC;\n",
              "      --hover-bg-color: #434B5C;\n",
              "      --hover-fill-color: #FFFFFF;\n",
              "      --disabled-bg-color: #3B4455;\n",
              "      --disabled-fill-color: #666;\n",
              "  }\n",
              "\n",
              "  .colab-df-quickchart {\n",
              "    background-color: var(--bg-color);\n",
              "    border: none;\n",
              "    border-radius: 50%;\n",
              "    cursor: pointer;\n",
              "    display: none;\n",
              "    fill: var(--fill-color);\n",
              "    height: 32px;\n",
              "    padding: 0;\n",
              "    width: 32px;\n",
              "  }\n",
              "\n",
              "  .colab-df-quickchart:hover {\n",
              "    background-color: var(--hover-bg-color);\n",
              "    box-shadow: 0 1px 2px rgba(60, 64, 67, 0.3), 0 1px 3px 1px rgba(60, 64, 67, 0.15);\n",
              "    fill: var(--button-hover-fill-color);\n",
              "  }\n",
              "\n",
              "  .colab-df-quickchart-complete:disabled,\n",
              "  .colab-df-quickchart-complete:disabled:hover {\n",
              "    background-color: var(--disabled-bg-color);\n",
              "    fill: var(--disabled-fill-color);\n",
              "    box-shadow: none;\n",
              "  }\n",
              "\n",
              "  .colab-df-spinner {\n",
              "    border: 2px solid var(--fill-color);\n",
              "    border-color: transparent;\n",
              "    border-bottom-color: var(--fill-color);\n",
              "    animation:\n",
              "      spin 1s steps(1) infinite;\n",
              "  }\n",
              "\n",
              "  @keyframes spin {\n",
              "    0% {\n",
              "      border-color: transparent;\n",
              "      border-bottom-color: var(--fill-color);\n",
              "      border-left-color: var(--fill-color);\n",
              "    }\n",
              "    20% {\n",
              "      border-color: transparent;\n",
              "      border-left-color: var(--fill-color);\n",
              "      border-top-color: var(--fill-color);\n",
              "    }\n",
              "    30% {\n",
              "      border-color: transparent;\n",
              "      border-left-color: var(--fill-color);\n",
              "      border-top-color: var(--fill-color);\n",
              "      border-right-color: var(--fill-color);\n",
              "    }\n",
              "    40% {\n",
              "      border-color: transparent;\n",
              "      border-right-color: var(--fill-color);\n",
              "      border-top-color: var(--fill-color);\n",
              "    }\n",
              "    60% {\n",
              "      border-color: transparent;\n",
              "      border-right-color: var(--fill-color);\n",
              "    }\n",
              "    80% {\n",
              "      border-color: transparent;\n",
              "      border-right-color: var(--fill-color);\n",
              "      border-bottom-color: var(--fill-color);\n",
              "    }\n",
              "    90% {\n",
              "      border-color: transparent;\n",
              "      border-bottom-color: var(--fill-color);\n",
              "    }\n",
              "  }\n",
              "</style>\n",
              "\n",
              "  <script>\n",
              "    async function quickchart(key) {\n",
              "      const quickchartButtonEl =\n",
              "        document.querySelector('#' + key + ' button');\n",
              "      quickchartButtonEl.disabled = true;  // To prevent multiple clicks.\n",
              "      quickchartButtonEl.classList.add('colab-df-spinner');\n",
              "      try {\n",
              "        const charts = await google.colab.kernel.invokeFunction(\n",
              "            'suggestCharts', [key], {});\n",
              "      } catch (error) {\n",
              "        console.error('Error during call to suggestCharts:', error);\n",
              "      }\n",
              "      quickchartButtonEl.classList.remove('colab-df-spinner');\n",
              "      quickchartButtonEl.classList.add('colab-df-quickchart-complete');\n",
              "    }\n",
              "    (() => {\n",
              "      let quickchartButtonEl =\n",
              "        document.querySelector('#df-ef2d3a07-c51b-406e-9c08-b57c4bea18c5 button');\n",
              "      quickchartButtonEl.style.display =\n",
              "        google.colab.kernel.accessAllowed ? 'block' : 'none';\n",
              "    })();\n",
              "  </script>\n",
              "</div>\n",
              "    </div>\n",
              "  </div>\n"
            ],
            "application/vnd.google.colaboratory.intrinsic+json": {
              "type": "dataframe",
              "variable_name": "Xtest",
              "summary": "{\n  \"name\": \"Xtest\",\n  \"rows\": 1000,\n  \"fields\": [\n    {\n      \"column\": \"CreditScore\",\n      \"properties\": {\n        \"dtype\": \"number\",\n        \"std\": 0.19410616894066202,\n        \"min\": 0.06399999999999996,\n        \"max\": 1.0,\n        \"samples\": [\n          0.41800000000000015,\n          0.8680000000000002,\n          0.6280000000000001\n        ],\n        \"num_unique_values\": 362,\n        \"semantic_type\": \"\",\n        \"description\": \"\"\n      }\n    },\n    {\n      \"column\": \"Age\",\n      \"properties\": {\n        \"dtype\": \"number\",\n        \"std\": 0.2767906929107115,\n        \"min\": 2.8903717578961645,\n        \"max\": 4.442651256490317,\n        \"samples\": [\n          3.871201010907891,\n          3.367295829986474,\n          2.8903717578961645\n        ],\n        \"num_unique_values\": 61,\n        \"semantic_type\": \"\",\n        \"description\": \"\"\n      }\n    },\n    {\n      \"column\": \"Tenure\",\n      \"properties\": {\n        \"dtype\": \"number\",\n        \"std\": 2,\n        \"min\": 0,\n        \"max\": 10,\n        \"samples\": [\n          4,\n          3,\n          1\n        ],\n        \"num_unique_values\": 11,\n        \"semantic_type\": \"\",\n        \"description\": \"\"\n      }\n    },\n    {\n      \"column\": \"Balance\",\n      \"properties\": {\n        \"dtype\": \"number\",\n        \"std\": 0.2517480977617546,\n        \"min\": 0.0,\n        \"max\": 0.8477398931175604,\n        \"samples\": [\n          0.5813554818213245,\n          0.29140496844754776,\n          0.5065286068937392\n        ],\n        \"num_unique_values\": 635,\n        \"semantic_type\": \"\",\n        \"description\": \"\"\n      }\n    },\n    {\n      \"column\": \"NumOfProducts\",\n      \"properties\": {\n        \"dtype\": \"number\",\n        \"std\": 0,\n        \"min\": 1,\n        \"max\": 4,\n        \"samples\": [\n          2,\n          4,\n          1\n        ],\n        \"num_unique_values\": 4,\n        \"semantic_type\": \"\",\n        \"description\": \"\"\n      }\n    },\n    {\n      \"column\": \"IsActiveMember\",\n      \"properties\": {\n        \"dtype\": \"number\",\n        \"std\": 0,\n        \"min\": 0,\n        \"max\": 1,\n        \"samples\": [\n          0,\n          1\n        ],\n        \"num_unique_values\": 2,\n        \"semantic_type\": \"\",\n        \"description\": \"\"\n      }\n    },\n    {\n      \"column\": \"EstimatedSalary\",\n      \"properties\": {\n        \"dtype\": \"number\",\n        \"std\": 0.2914932477791424,\n        \"min\": 0.0005575032415595688,\n        \"max\": 0.9996834197665877,\n        \"samples\": [\n          0.029780394027629636,\n          0.30659572989220474\n        ],\n        \"num_unique_values\": 1000,\n        \"semantic_type\": \"\",\n        \"description\": \"\"\n      }\n    },\n    {\n      \"column\": \"Geography_France\",\n      \"properties\": {\n        \"dtype\": \"uint8\",\n        \"samples\": [\n          1,\n          0\n        ],\n        \"num_unique_values\": 2,\n        \"semantic_type\": \"\",\n        \"description\": \"\"\n      }\n    },\n    {\n      \"column\": \"Geography_Germany\",\n      \"properties\": {\n        \"dtype\": \"uint8\",\n        \"samples\": [\n          0,\n          1\n        ],\n        \"num_unique_values\": 2,\n        \"semantic_type\": \"\",\n        \"description\": \"\"\n      }\n    },\n    {\n      \"column\": \"Geography_Spain\",\n      \"properties\": {\n        \"dtype\": \"uint8\",\n        \"samples\": [\n          1,\n          0\n        ],\n        \"num_unique_values\": 2,\n        \"semantic_type\": \"\",\n        \"description\": \"\"\n      }\n    },\n    {\n      \"column\": \"Gender_Female\",\n      \"properties\": {\n        \"dtype\": \"uint8\",\n        \"samples\": [\n          1,\n          0\n        ],\n        \"num_unique_values\": 2,\n        \"semantic_type\": \"\",\n        \"description\": \"\"\n      }\n    },\n    {\n      \"column\": \"Gender_Male\",\n      \"properties\": {\n        \"dtype\": \"uint8\",\n        \"samples\": [\n          0,\n          1\n        ],\n        \"num_unique_values\": 2,\n        \"semantic_type\": \"\",\n        \"description\": \"\"\n      }\n    }\n  ]\n}"
            }
          },
          "metadata": {},
          "execution_count": 158
        }
      ]
    },
    {
      "cell_type": "markdown",
      "source": [
        "# **4. Modeling**"
      ],
      "metadata": {
        "id": "eFUelKBbtcvS"
      },
      "id": "eFUelKBbtcvS"
    },
    {
      "cell_type": "code",
      "source": [
        "df.info()"
      ],
      "metadata": {
        "colab": {
          "base_uri": "https://localhost:8080/"
        },
        "id": "uMQkMzfP5lXG",
        "outputId": "872b0360-5b5c-40e9-de48-67661c4153d7"
      },
      "id": "uMQkMzfP5lXG",
      "execution_count": 159,
      "outputs": [
        {
          "output_type": "stream",
          "name": "stdout",
          "text": [
            "<class 'pandas.core.frame.DataFrame'>\n",
            "RangeIndex: 10000 entries, 0 to 9999\n",
            "Data columns (total 13 columns):\n",
            " #   Column             Non-Null Count  Dtype  \n",
            "---  ------             --------------  -----  \n",
            " 0   CreditScore        10000 non-null  int64  \n",
            " 1   Age                10000 non-null  int64  \n",
            " 2   Tenure             10000 non-null  int64  \n",
            " 3   Balance            10000 non-null  float64\n",
            " 4   NumOfProducts      10000 non-null  int64  \n",
            " 5   IsActiveMember     10000 non-null  int64  \n",
            " 6   EstimatedSalary    10000 non-null  float64\n",
            " 7   Exited             10000 non-null  int64  \n",
            " 8   Geography_France   10000 non-null  uint8  \n",
            " 9   Geography_Germany  10000 non-null  uint8  \n",
            " 10  Geography_Spain    10000 non-null  uint8  \n",
            " 11  Gender_Female      10000 non-null  uint8  \n",
            " 12  Gender_Male        10000 non-null  uint8  \n",
            "dtypes: float64(2), int64(6), uint8(5)\n",
            "memory usage: 674.0 KB\n"
          ]
        }
      ]
    },
    {
      "cell_type": "markdown",
      "source": [
        "**Helper Function**"
      ],
      "metadata": {
        "id": "rwfD5Vw8vC4G"
      },
      "id": "rwfD5Vw8vC4G"
    },
    {
      "cell_type": "code",
      "source": [
        "from sklearn.metrics import accuracy_score, precision_score, recall_score, f1_score, roc_auc_score, confusion_matrix\n",
        "from sklearn.model_selection import RandomizedSearchCV, GridSearchCV\n",
        "from sklearn.model_selection import RepeatedStratifiedKFold\n",
        "from sklearn.model_selection import cross_validate\n",
        "from imblearn.pipeline import Pipeline\n",
        "import time\n",
        "\n",
        "def eval_classification(model, smote=True):\n",
        "    y_pred = model.predict(Xtest)\n",
        "    y_pred_train = model.predict(Xtrain)\n",
        "    y_pred_proba = model.predict_proba(Xtest)\n",
        "    y_pred_proba_train = model.predict_proba(Xtrain)\n",
        "\n",
        "    model1 = Pipeline([\n",
        "        ('sampling', SMOTE(sampling_strategy=1, random_state=123)),\n",
        "        ('classification', model)\n",
        "    ])\n",
        "\n",
        "    print(\"Accuracy (Train): %.2f\" % accuracy_score(ytrain, y_pred_train))\n",
        "    print(\"Accuracy (Test): %.2f\" % accuracy_score(ytest, y_pred))\n",
        "\n",
        "    print(\"Precision (Train): %.2f\" % precision_score(ytrain, y_pred_train))\n",
        "    print(\"Precision (Test): %.2f\" % precision_score(ytest, y_pred))\n",
        "\n",
        "    print(\"Recall (Train): %.2f\" % recall_score(ytrain, y_pred_train))\n",
        "    print(\"Recall (Test): %.2f\" % recall_score(ytest, y_pred))\n",
        "\n",
        "    print(\"F1-Score (Test): %.2f\" % f1_score(ytest, y_pred))\n",
        "\n",
        "    print(\"roc_auc (train-proba): %.2f\" % roc_auc_score(ytrain, y_pred_proba_train[:, 1]))\n",
        "    print(\"roc_auc (test-proba): %.2f\" % roc_auc_score(ytest, y_pred_proba[:, 1]))\n",
        "\n",
        "    if smote==True:\n",
        "      cv = RepeatedStratifiedKFold(random_state=123, n_repeats = 3)\n",
        "      score = cross_validate(model1, X=Xtrain, y=ytrain, cv=cv, scoring='roc_auc', return_train_score=True)\n",
        "      print('roc_auc (crossval train): '+ str(score['train_score'].mean()))\n",
        "      print('roc_auc (crossval test): '+ str(score['test_score'].mean()))\n",
        "\n",
        "\n",
        "def grid_pipe(pipedict, hyperdict, scoring='recall', display=True):\n",
        "    fitted_models={}\n",
        "    for name, pipeline in pipedict.items():\n",
        "        # membangun grid search\n",
        "        model = GridSearchCV(estimator= pipeline,\n",
        "                             param_grid= hyperdict[name],\n",
        "                             scoring= scoring,\n",
        "                             cv= 5, verbose= 2, n_jobs= -1,\n",
        "                             return_train_score = True)\n",
        "\n",
        "        # fit menggunakan grid search\n",
        "        start = time.time()\n",
        "        model.fit(Xtrain, ytrain)\n",
        "        end = time.time()\n",
        "\n",
        "        # menambahkan model\n",
        "        fitted_models[name]=model\n",
        "        if display:\n",
        "            print(f'The {name} model has been fitted.') # print ketika model telah fit\n",
        "            print('Total Fit Time: %.3fs' % (end-start)) # print fit time\n",
        "            print('Best params:\\n', model.best_params_,'\\n') # print parameter terbaik\n",
        "\n",
        "    return fitted_models\n",
        "\n",
        "def confusion(model):\n",
        "    y_pred_proba = model.predict_proba(Xtest)\n",
        "    y_predict = model.predict(Xtest)\n",
        "    print('Accuracy: %.2f%%' % (accuracy_score(ytest, y_predict) * 100 ))\n",
        "    print('Precision: %.2f%%' % (precision_score(ytest, y_predict) * 100))\n",
        "    print('Recall: %.2f%%' % (recall_score(ytest, y_predict) * 100))\n",
        "    print('F1_Score: %.2f%%' % (f1_score(ytest, y_predict) * 100))\n",
        "    print('ROC_AUC: %.2f%%' % (roc_auc_score(ytest, y_pred_proba[:,1]) * 100))\n",
        "    confusion_matrix_model = confusion_matrix(ytest, y_predict)\n",
        "\n",
        "    plt.figure(figsize=(12,8))\n",
        "    ax = plt.subplot()\n",
        "    sns.heatmap(confusion_matrix_model, annot=True, fmt='g', ax = ax)\n",
        "    ax.set_xlabel('Predicted Label')\n",
        "    ax.set_ylabel('Actual Label')\n",
        "    ax.set_title(f'Confusion Matrix - {model}')\n",
        "    ax.xaxis.set_ticklabels(['0','1'])\n",
        "    ax.yaxis.set_ticklabels(['0','1'])"
      ],
      "metadata": {
        "id": "IVdFgeUitiE4"
      },
      "id": "IVdFgeUitiE4",
      "execution_count": 160,
      "outputs": []
    },
    {
      "cell_type": "markdown",
      "source": [
        "**Fit Model**"
      ],
      "metadata": {
        "id": "rXeVbOd31NlO"
      },
      "id": "rXeVbOd31NlO"
    },
    {
      "cell_type": "markdown",
      "source": [
        "Metrics evaluasi akan berfokus pada nilai *Recall* untuk mengurangi False Negative rate sebanyak-banyaknya."
      ],
      "metadata": {
        "id": "tv8npZGe0l1f"
      },
      "id": "tv8npZGe0l1f"
    },
    {
      "cell_type": "markdown",
      "source": [
        "**Logistic Regression**"
      ],
      "metadata": {
        "id": "7A8GfKI3zK18"
      },
      "id": "7A8GfKI3zK18"
    },
    {
      "cell_type": "code",
      "source": [
        "from sklearn.linear_model import LogisticRegression\n",
        "\n",
        "logreg = LogisticRegression()\n",
        "logreg.fit(Xtrain_over, ytrain_over)\n",
        "\n",
        "eval_classification(logreg)"
      ],
      "metadata": {
        "colab": {
          "base_uri": "https://localhost:8080/"
        },
        "id": "kUYrFmId1pp-",
        "outputId": "745daf3e-3b54-4a55-f98d-7cbb6546212d"
      },
      "id": "kUYrFmId1pp-",
      "execution_count": 161,
      "outputs": [
        {
          "output_type": "stream",
          "name": "stdout",
          "text": [
            "Accuracy (Train): 0.71\n",
            "Accuracy (Test): 0.70\n",
            "Precision (Train): 0.38\n",
            "Precision (Test): 0.37\n",
            "Recall (Train): 0.70\n",
            "Recall (Test): 0.64\n",
            "F1-Score (Test): 0.47\n",
            "roc_auc (train-proba): 0.78\n",
            "roc_auc (test-proba): 0.75\n",
            "roc_auc (crossval train): 0.7747422221635383\n",
            "roc_auc (crossval test): 0.772947671879752\n"
          ]
        }
      ]
    },
    {
      "cell_type": "markdown",
      "source": [
        "**Decision Tree**"
      ],
      "metadata": {
        "id": "geXvuwkHHDUw"
      },
      "id": "geXvuwkHHDUw"
    },
    {
      "cell_type": "code",
      "source": [
        "from sklearn.tree import DecisionTreeClassifier\n",
        "\n",
        "dt = DecisionTreeClassifier()\n",
        "dt.fit(Xtrain_over, ytrain_over)\n",
        "\n",
        "eval_classification(dt)"
      ],
      "metadata": {
        "colab": {
          "base_uri": "https://localhost:8080/"
        },
        "id": "g8FO_9Xm1uXp",
        "outputId": "2c699d9e-cf16-44cf-92ab-6b9a9e0ba9c2"
      },
      "id": "g8FO_9Xm1uXp",
      "execution_count": 162,
      "outputs": [
        {
          "output_type": "stream",
          "name": "stdout",
          "text": [
            "Accuracy (Train): 1.00\n",
            "Accuracy (Test): 0.76\n",
            "Precision (Train): 1.00\n",
            "Precision (Test): 0.43\n",
            "Recall (Train): 1.00\n",
            "Recall (Test): 0.52\n",
            "F1-Score (Test): 0.47\n",
            "roc_auc (train-proba): 1.00\n",
            "roc_auc (test-proba): 0.67\n",
            "roc_auc (crossval train): 1.0\n",
            "roc_auc (crossval test): 0.6898755845700666\n"
          ]
        }
      ]
    },
    {
      "cell_type": "markdown",
      "source": [
        "**AdaBoost**"
      ],
      "metadata": {
        "id": "IwXBp0Lw8ZdS"
      },
      "id": "IwXBp0Lw8ZdS"
    },
    {
      "cell_type": "code",
      "source": [
        "from sklearn.ensemble import AdaBoostClassifier\n",
        "\n",
        "ada = AdaBoostClassifier()\n",
        "ada.fit(Xtrain_over, ytrain_over)\n",
        "\n",
        "eval_classification(ada)"
      ],
      "metadata": {
        "colab": {
          "base_uri": "https://localhost:8080/"
        },
        "id": "207GwVc51yH-",
        "outputId": "d14063ad-8771-40ad-80cd-4c40d37f320f"
      },
      "id": "207GwVc51yH-",
      "execution_count": 163,
      "outputs": [
        {
          "output_type": "stream",
          "name": "stdout",
          "text": [
            "Accuracy (Train): 0.79\n",
            "Accuracy (Test): 0.82\n",
            "Precision (Train): 0.50\n",
            "Precision (Test): 0.55\n",
            "Recall (Train): 0.71\n",
            "Recall (Test): 0.75\n",
            "F1-Score (Test): 0.63\n",
            "roc_auc (train-proba): 0.85\n",
            "roc_auc (test-proba): 0.86\n",
            "roc_auc (crossval train): 0.8500197416870571\n",
            "roc_auc (crossval test): 0.8410014169595527\n"
          ]
        }
      ]
    },
    {
      "cell_type": "markdown",
      "source": [
        "**KNN**"
      ],
      "metadata": {
        "id": "O3xRgIcSIIgB"
      },
      "id": "O3xRgIcSIIgB"
    },
    {
      "cell_type": "code",
      "source": [
        "from sklearn.neighbors import KNeighborsClassifier\n",
        "\n",
        "knn = KNeighborsClassifier()\n",
        "knn.fit(Xtrain_over, ytrain_over)\n",
        "\n",
        "eval_classification(knn)"
      ],
      "metadata": {
        "colab": {
          "base_uri": "https://localhost:8080/"
        },
        "id": "UDHvVGinYQlp",
        "outputId": "1d797cdc-a453-4bd7-ee39-7b41ee595c79"
      },
      "id": "UDHvVGinYQlp",
      "execution_count": 164,
      "outputs": [
        {
          "output_type": "stream",
          "name": "stdout",
          "text": [
            "Accuracy (Train): 0.84\n",
            "Accuracy (Test): 0.74\n",
            "Precision (Train): 0.57\n",
            "Precision (Test): 0.41\n",
            "Recall (Train): 0.91\n",
            "Recall (Test): 0.64\n",
            "F1-Score (Test): 0.50\n",
            "roc_auc (train-proba): 0.95\n",
            "roc_auc (test-proba): 0.76\n",
            "roc_auc (crossval train): 0.9537505152374272\n",
            "roc_auc (crossval test): 0.7529107938859337\n"
          ]
        }
      ]
    },
    {
      "cell_type": "markdown",
      "source": [
        "**Random Forest**"
      ],
      "metadata": {
        "id": "sneKJSZ-8d8c"
      },
      "id": "sneKJSZ-8d8c"
    },
    {
      "cell_type": "code",
      "source": [
        "from sklearn.ensemble import RandomForestClassifier\n",
        "\n",
        "rf = RandomForestClassifier(random_state = 123)\n",
        "rf.fit(Xtrain_over, ytrain_over)\n",
        "\n",
        "eval_classification(rf)"
      ],
      "metadata": {
        "colab": {
          "base_uri": "https://localhost:8080/"
        },
        "id": "gdP-3Pkf17j1",
        "outputId": "e43874d7-9a75-4eba-aa72-664160ac37f1"
      },
      "id": "gdP-3Pkf17j1",
      "execution_count": 165,
      "outputs": [
        {
          "output_type": "stream",
          "name": "stdout",
          "text": [
            "Accuracy (Train): 1.00\n",
            "Accuracy (Test): 0.84\n",
            "Precision (Train): 1.00\n",
            "Precision (Test): 0.60\n",
            "Recall (Train): 1.00\n",
            "Recall (Test): 0.62\n",
            "F1-Score (Test): 0.61\n",
            "roc_auc (train-proba): 1.00\n",
            "roc_auc (test-proba): 0.85\n",
            "roc_auc (crossval train): 1.0\n",
            "roc_auc (crossval test): 0.84572811256796\n"
          ]
        }
      ]
    },
    {
      "cell_type": "markdown",
      "source": [
        "**XGBoost**"
      ],
      "metadata": {
        "id": "jWG-ixtI8jCe"
      },
      "id": "jWG-ixtI8jCe"
    },
    {
      "cell_type": "code",
      "source": [
        "from xgboost import XGBClassifier\n",
        "\n",
        "xg = XGBClassifier()\n",
        "xg.fit(Xtrain_over, ytrain_over)\n",
        "\n",
        "eval_classification(xg)"
      ],
      "metadata": {
        "colab": {
          "base_uri": "https://localhost:8080/"
        },
        "id": "3_ynggmG1_vg",
        "outputId": "e65b89c7-8449-4ae9-c16b-b1886e49551a"
      },
      "id": "3_ynggmG1_vg",
      "execution_count": 166,
      "outputs": [
        {
          "output_type": "stream",
          "name": "stdout",
          "text": [
            "Accuracy (Train): 0.94\n",
            "Accuracy (Test): 0.85\n",
            "Precision (Train): 0.85\n",
            "Precision (Test): 0.65\n",
            "Recall (Train): 0.84\n",
            "Recall (Test): 0.59\n",
            "F1-Score (Test): 0.62\n",
            "roc_auc (train-proba): 0.97\n",
            "roc_auc (test-proba): 0.84\n",
            "roc_auc (crossval train): 0.9813094114806004\n",
            "roc_auc (crossval test): 0.8429895349195355\n"
          ]
        }
      ]
    },
    {
      "cell_type": "markdown",
      "source": [
        "Berdasarkan nilai cross validation dapat dilihat bahwa beberapa model masih overfitting sehingga akan dilakukan Hyperparameter Tuning."
      ],
      "metadata": {
        "id": "PMRG2UTL1boH"
      },
      "id": "PMRG2UTL1boH"
    },
    {
      "cell_type": "markdown",
      "source": [
        "**Hyperparameter Tuning**"
      ],
      "metadata": {
        "id": "YzMw54ZP8stN"
      },
      "id": "YzMw54ZP8stN"
    },
    {
      "cell_type": "code",
      "source": [
        "# membuat alur untuk setiap classifiers\n",
        "pipelines = {'logisticregression': Pipeline([('sampling', SMOTE(sampling_strategy=1, random_state=123)),\n",
        "                                             ('clf', LogisticRegression())]),\n",
        "             'decisiontree'      : Pipeline([('sampling', SMOTE(sampling_strategy=1, random_state=123)),\n",
        "                                             ('clf', DecisionTreeClassifier())]),\n",
        "             'adaboost'          : Pipeline([('sampling', SMOTE(sampling_strategy=1, random_state=123)),\n",
        "                                             ('clf', AdaBoostClassifier())]),\n",
        "             'knn'               : Pipeline([('sampling', SMOTE(sampling_strategy=1, random_state=123)),\n",
        "                                             ('clf', KNeighborsClassifier())]),\n",
        "             'randomforest'      : Pipeline([('sampling', SMOTE(sampling_strategy=1, random_state=123)),\n",
        "                                             ('clf', RandomForestClassifier(random_state = 123))]),\n",
        "             'xgboost'           : Pipeline([('sampling', SMOTE(sampling_strategy=1, random_state=123)),\n",
        "                                             ('clf', XGBClassifier(nthread=6, tree_method='hist',  predictor='cpu_predictor'))])}\n",
        "\n",
        "# menentukan Hyperparameters untuk setiap pipeline\n",
        "hyperparameters_lr = {'clf__C': [0.1, 0.2, 0.3]}\n",
        "\n",
        "hyperparameters_dt = {'clf__max_depth'        : [3, 5, 7], # kedalaman maksimum pohon\n",
        "                      'clf__min_samples_split': [1, 2, 5], # jumlah sampel minimum yang diperlukan untuk memisahkan sebuah node\n",
        "                      'clf__min_samples_leaf' : [0.5, 1, 2], # jumlah minimum sampel yang diperlukan di setiap leaf node\n",
        "                      'clf__criterion'        : ['gini','entropy']} # mengukur kualitas pemisahan\n",
        "\n",
        "hyperparameters_ada = {'clf__learning_rate' : [0.28, 0.30, 0.32], # laju pembelajaran untuk mengontrol setiap estimator\n",
        "                      'clf__n_estimators'   : [30, 40, 50]} # jumlah estimator dalam ensemble\n",
        "\n",
        "hyperparameters_knn = {'clf__n_neighbors': [11, 13, 15], # jumlah tetangga\n",
        "                       'clf__weights'    : ['uniform', 'distance'], # bobot tetangga\n",
        "                       'clf__leaf_size'  : [0.05, 1, 3], # ukuran leaf dalam poho\n",
        "                       'clf__algorithm'  : ['auto']} # algoritma untuk menghitung tetangga terdekat\n",
        "\n",
        "hyperparameters_rf = {'clf__n_estimators'     : [100, 110, 120], # jumlah pohon dalam ensemble\n",
        "                      'clf__criterion'        : ['entropy', 'gini'], # kriteria untuk membuat pohon\n",
        "                      'clf__max_features'     : ['auto'], # fitur untuk mencari pemisahan terbaik\n",
        "                      'clf__min_samples_leaf' : [0.1, 0.2, 0.3]} # jumlah minimum sampel\n",
        "\n",
        "hyperparameters_xgb = {'clf__eta'             : [0.35, 0.50, 0.75],\n",
        "                       'clf__max_depth'       : [1, 2, 3], # kedalaman maksimum setiap pohon dalam ensemble\n",
        "                       'clf__scale_pos_weight': [2, 4, 6]}\n",
        "\n",
        "# inisiasi hyperparameter\n",
        "hyperparameters = {'logisticregression':hyperparameters_lr,\n",
        "                   'decisiontree': hyperparameters_dt,\n",
        "                   'adaboost': hyperparameters_ada,\n",
        "                   'knn': hyperparameters_knn,\n",
        "                   'randomforest':hyperparameters_rf,\n",
        "                   'xgboost': hyperparameters_xgb}"
      ],
      "metadata": {
        "id": "8NcbFYjd8wE0"
      },
      "id": "8NcbFYjd8wE0",
      "execution_count": 167,
      "outputs": []
    },
    {
      "cell_type": "code",
      "source": [
        "fitted_models = grid_pipe(pipelines, hyperparameters, scoring='recall')"
      ],
      "metadata": {
        "colab": {
          "base_uri": "https://localhost:8080/"
        },
        "id": "10q3U4KdbdNo",
        "outputId": "3dd34baf-6e2a-45f4-9b41-e79176947622"
      },
      "id": "10q3U4KdbdNo",
      "execution_count": 168,
      "outputs": [
        {
          "output_type": "stream",
          "name": "stdout",
          "text": [
            "Fitting 5 folds for each of 3 candidates, totalling 15 fits\n",
            "The logisticregression model has been fitted.\n",
            "Total Fit Time: 5.982s\n",
            "Best params:\n",
            " {'clf__C': 0.2} \n",
            "\n",
            "Fitting 5 folds for each of 54 candidates, totalling 270 fits\n",
            "The decisiontree model has been fitted.\n",
            "Total Fit Time: 19.001s\n",
            "Best params:\n",
            " {'clf__criterion': 'entropy', 'clf__max_depth': 5, 'clf__min_samples_leaf': 1, 'clf__min_samples_split': 2} \n",
            "\n",
            "Fitting 5 folds for each of 9 candidates, totalling 45 fits\n",
            "The adaboost model has been fitted.\n",
            "Total Fit Time: 20.805s\n",
            "Best params:\n",
            " {'clf__learning_rate': 0.3, 'clf__n_estimators': 40} \n",
            "\n",
            "Fitting 5 folds for each of 18 candidates, totalling 90 fits\n",
            "The knn model has been fitted.\n",
            "Total Fit Time: 76.975s\n",
            "Best params:\n",
            " {'clf__algorithm': 'auto', 'clf__leaf_size': 1, 'clf__n_neighbors': 13, 'clf__weights': 'uniform'} \n",
            "\n",
            "Fitting 5 folds for each of 18 candidates, totalling 90 fits\n",
            "The randomforest model has been fitted.\n",
            "Total Fit Time: 44.360s\n",
            "Best params:\n",
            " {'clf__criterion': 'entropy', 'clf__max_features': 'auto', 'clf__min_samples_leaf': 0.2, 'clf__n_estimators': 110} \n",
            "\n",
            "Fitting 5 folds for each of 27 candidates, totalling 135 fits\n",
            "The xgboost model has been fitted.\n",
            "Total Fit Time: 29.993s\n",
            "Best params:\n",
            " {'clf__eta': 0.35, 'clf__max_depth': 1, 'clf__scale_pos_weight': 6} \n",
            "\n"
          ]
        }
      ]
    },
    {
      "cell_type": "markdown",
      "source": [
        "**Logistic Regression**"
      ],
      "metadata": {
        "id": "jvo-eN119aSE"
      },
      "id": "jvo-eN119aSE"
    },
    {
      "cell_type": "code",
      "source": [
        "logreg = LogisticRegression(C=0.2)\n",
        "logreg.fit(Xtrain_over, ytrain_over)\n",
        "\n",
        "eval_classification(logreg)"
      ],
      "metadata": {
        "colab": {
          "base_uri": "https://localhost:8080/"
        },
        "id": "UjpHunTh4c_O",
        "outputId": "9c3aba42-4454-476a-c448-5f4362da39c9"
      },
      "id": "UjpHunTh4c_O",
      "execution_count": 169,
      "outputs": [
        {
          "output_type": "stream",
          "name": "stdout",
          "text": [
            "Accuracy (Train): 0.71\n",
            "Accuracy (Test): 0.70\n",
            "Precision (Train): 0.38\n",
            "Precision (Test): 0.37\n",
            "Recall (Train): 0.70\n",
            "Recall (Test): 0.64\n",
            "F1-Score (Test): 0.47\n",
            "roc_auc (train-proba): 0.78\n",
            "roc_auc (test-proba): 0.75\n",
            "roc_auc (crossval train): 0.7746691869413166\n",
            "roc_auc (crossval test): 0.7728708999300781\n"
          ]
        }
      ]
    },
    {
      "cell_type": "markdown",
      "source": [
        "**Decision Tree**"
      ],
      "metadata": {
        "id": "SEpRNhzseKPd"
      },
      "id": "SEpRNhzseKPd"
    },
    {
      "cell_type": "code",
      "source": [
        "dt = DecisionTreeClassifier(criterion='entropy', max_depth=5, min_samples_leaf= 1, min_samples_split= 2)\n",
        "dt.fit(Xtrain_over, ytrain_over)\n",
        "\n",
        "eval_classification(dt)"
      ],
      "metadata": {
        "colab": {
          "base_uri": "https://localhost:8080/"
        },
        "id": "xBlxg4dK4mS3",
        "outputId": "1d0d32d8-eb73-4484-a298-9bd91127204d"
      },
      "id": "xBlxg4dK4mS3",
      "execution_count": 170,
      "outputs": [
        {
          "output_type": "stream",
          "name": "stdout",
          "text": [
            "Accuracy (Train): 0.75\n",
            "Accuracy (Test): 0.74\n",
            "Precision (Train): 0.43\n",
            "Precision (Test): 0.42\n",
            "Recall (Train): 0.81\n",
            "Recall (Test): 0.77\n",
            "F1-Score (Test): 0.54\n",
            "roc_auc (train-proba): 0.85\n",
            "roc_auc (test-proba): 0.84\n",
            "roc_auc (crossval train): 0.8411915077513044\n",
            "roc_auc (crossval test): 0.8260616451668285\n"
          ]
        }
      ]
    },
    {
      "cell_type": "markdown",
      "source": [
        "**Adaboost**"
      ],
      "metadata": {
        "id": "xWK0cnZT-f_K"
      },
      "id": "xWK0cnZT-f_K"
    },
    {
      "cell_type": "code",
      "source": [
        "ada = AdaBoostClassifier(learning_rate= 0.30, n_estimators= 40)\n",
        "ada.fit(Xtrain_over, ytrain_over)\n",
        "eval_classification(ada)"
      ],
      "metadata": {
        "colab": {
          "base_uri": "https://localhost:8080/"
        },
        "id": "21LWc3VPf1vl",
        "outputId": "f86eee47-05c8-43b4-9f15-2b267e521af4"
      },
      "id": "21LWc3VPf1vl",
      "execution_count": 171,
      "outputs": [
        {
          "output_type": "stream",
          "name": "stdout",
          "text": [
            "Accuracy (Train): 0.78\n",
            "Accuracy (Test): 0.80\n",
            "Precision (Train): 0.48\n",
            "Precision (Test): 0.50\n",
            "Recall (Train): 0.73\n",
            "Recall (Test): 0.76\n",
            "F1-Score (Test): 0.61\n",
            "roc_auc (train-proba): 0.85\n",
            "roc_auc (test-proba): 0.85\n",
            "roc_auc (crossval train): 0.846321942769701\n",
            "roc_auc (crossval test): 0.8426093982894522\n"
          ]
        }
      ]
    },
    {
      "cell_type": "markdown",
      "source": [
        "**KNN**"
      ],
      "metadata": {
        "id": "Nh7ZfhG3NztJ"
      },
      "id": "Nh7ZfhG3NztJ"
    },
    {
      "cell_type": "code",
      "source": [
        "from sklearn.neighbors import KNeighborsClassifier\n",
        "\n",
        "knn = KNeighborsClassifier(algorithm = 'auto', leaf_size = 1, n_neighbors = 13, weights = 'uniform')\n",
        "knn.fit(Xtrain_over, ytrain_over)\n",
        "\n",
        "eval_classification(knn)"
      ],
      "metadata": {
        "colab": {
          "base_uri": "https://localhost:8080/"
        },
        "id": "RLBeBouu48Kr",
        "outputId": "02ce72a6-ad37-440a-944a-bc455d176846"
      },
      "id": "RLBeBouu48Kr",
      "execution_count": 172,
      "outputs": [
        {
          "output_type": "stream",
          "name": "stdout",
          "text": [
            "Accuracy (Train): 0.79\n",
            "Accuracy (Test): 0.74\n",
            "Precision (Train): 0.49\n",
            "Precision (Test): 0.41\n",
            "Recall (Train): 0.82\n",
            "Recall (Test): 0.64\n",
            "F1-Score (Test): 0.50\n",
            "roc_auc (train-proba): 0.89\n",
            "roc_auc (test-proba): 0.77\n",
            "roc_auc (crossval train): 0.889969707179421\n",
            "roc_auc (crossval test): 0.7735745625774666\n"
          ]
        }
      ]
    },
    {
      "cell_type": "markdown",
      "source": [
        "**Random Forest**"
      ],
      "metadata": {
        "id": "AImluvHx-jh7"
      },
      "id": "AImluvHx-jh7"
    },
    {
      "cell_type": "code",
      "source": [
        "rf = RandomForestClassifier(criterion='entropy', max_features='auto', min_samples_leaf=0.2, n_estimators = 110, random_state=123)\n",
        "rf.fit(Xtrain_over, ytrain_over)\n",
        "\n",
        "eval_classification(rf)"
      ],
      "metadata": {
        "colab": {
          "base_uri": "https://localhost:8080/"
        },
        "id": "zc_zS5OK5NBq",
        "outputId": "a13faaa3-de86-4b58-caaf-21b7fa2d0a87"
      },
      "id": "zc_zS5OK5NBq",
      "execution_count": 173,
      "outputs": [
        {
          "output_type": "stream",
          "name": "stdout",
          "text": [
            "Accuracy (Train): 0.73\n",
            "Accuracy (Test): 0.73\n",
            "Precision (Train): 0.41\n",
            "Precision (Test): 0.41\n",
            "Recall (Train): 0.70\n",
            "Recall (Test): 0.65\n",
            "F1-Score (Test): 0.50\n",
            "roc_auc (train-proba): 0.78\n",
            "roc_auc (test-proba): 0.77\n",
            "roc_auc (crossval train): 0.7834127361247668\n",
            "roc_auc (crossval test): 0.7813794950043089\n"
          ]
        }
      ]
    },
    {
      "cell_type": "markdown",
      "source": [
        "**XGBoost**"
      ],
      "metadata": {
        "id": "bHjBsBGH-nYR"
      },
      "id": "bHjBsBGH-nYR"
    },
    {
      "cell_type": "code",
      "source": [
        "xg = XGBClassifier(eta = 0.35, max_depth = 1, scale_pos_weight = 2, nthread=6, tree_method='hist',  predictor='cpu_predictor')\n",
        "xg.fit(Xtrain_over, ytrain_over)\n",
        "\n",
        "eval_classification(xg)"
      ],
      "metadata": {
        "colab": {
          "base_uri": "https://localhost:8080/"
        },
        "id": "M0sLNKaC5VAe",
        "outputId": "d6e51f6f-b5ef-45ea-8a07-ccc763ddd808"
      },
      "id": "M0sLNKaC5VAe",
      "execution_count": 174,
      "outputs": [
        {
          "output_type": "stream",
          "name": "stdout",
          "text": [
            "Accuracy (Train): 0.69\n",
            "Accuracy (Test): 0.70\n",
            "Precision (Train): 0.38\n",
            "Precision (Test): 0.39\n",
            "Recall (Train): 0.86\n",
            "Recall (Test): 0.84\n",
            "F1-Score (Test): 0.53\n",
            "roc_auc (train-proba): 0.85\n",
            "roc_auc (test-proba): 0.85\n",
            "roc_auc (crossval train): 0.8486816914315475\n",
            "roc_auc (crossval test): 0.842790155876512\n"
          ]
        }
      ]
    },
    {
      "cell_type": "markdown",
      "source": [
        "- Nilai cross validation sudah jauh lebih baik dan tidak overfitting, sehingga semua model sudah best fit.\n",
        "- Model yang dipilih adalah Adaboost karena memiliki nilai *accuracy* dan *recall* yang tertinggi dan cukup seimbang."
      ],
      "metadata": {
        "id": "wRvijfR32XST"
      },
      "id": "wRvijfR32XST"
    },
    {
      "cell_type": "markdown",
      "source": [
        "**Confusion Matrix**"
      ],
      "metadata": {
        "id": "Hv6niLbNorRN"
      },
      "id": "Hv6niLbNorRN"
    },
    {
      "cell_type": "code",
      "source": [
        "confusion(ada)"
      ],
      "metadata": {
        "colab": {
          "base_uri": "https://localhost:8080/",
          "height": 805
        },
        "id": "q3YO5JvjwqAi",
        "outputId": "413bf903-d4d4-4efa-b9e5-9529b547b1bd"
      },
      "id": "q3YO5JvjwqAi",
      "execution_count": 175,
      "outputs": [
        {
          "output_type": "stream",
          "name": "stdout",
          "text": [
            "Accuracy: 79.90%\n",
            "Precision: 50.49%\n",
            "Recall: 75.98%\n",
            "F1_Score: 60.67%\n",
            "ROC_AUC: 85.27%\n"
          ]
        },
        {
          "output_type": "display_data",
          "data": {
            "text/plain": [
              "<Figure size 1200x800 with 2 Axes>"
            ],
            "image/png": "[encoded data removed]"
          },
          "metadata": {}
        }
      ]
    },
    {
      "cell_type": "code",
      "source": [
        "confusion(xg)"
      ],
      "metadata": {
        "colab": {
          "base_uri": "https://localhost:8080/",
          "height": 1000
        },
        "id": "pFR7YpHrmaUh",
        "outputId": "8edfa06e-0173-4425-b65b-2cecf3683e04"
      },
      "id": "pFR7YpHrmaUh",
      "execution_count": 176,
      "outputs": [
        {
          "output_type": "stream",
          "name": "stdout",
          "text": [
            "Accuracy: 70.00%\n",
            "Precision: 39.04%\n",
            "Recall: 83.82%\n",
            "F1_Score: 53.27%\n",
            "ROC_AUC: 85.48%\n"
          ]
        },
        {
          "output_type": "display_data",
          "data": {
            "text/plain": [
              "<Figure size 1200x800 with 2 Axes>"
            ],
            "image/png": "[encoded data removed]"
          },
          "metadata": {}
        }
      ]
    },
    {
      "cell_type": "markdown",
      "source": [
        "**Feature Importance**"
      ],
      "metadata": {
        "id": "A5Evdt4fovzt"
      },
      "id": "A5Evdt4fovzt"
    },
    {
      "cell_type": "markdown",
      "source": [
        "Plot permutation importance digunakan untuk mengevaluasi kepentingan relatif dari setiap fitur dalam model prediktif. Metode ini mengukur pengurangan dalam kinerja model ketika nilai fitur diacak secara acak, yang memberikan gambaran tentang seberapa pentingnya fitur tersebut dalam membuat prediksi yang akurat."
      ],
      "metadata": {
        "id": "OGktR7mFy4Ry"
      },
      "id": "OGktR7mFy4Ry"
    },
    {
      "cell_type": "code",
      "source": [
        "from sklearn.inspection import permutation_importance\n",
        "\n",
        "perm_importance = permutation_importance(ada, Xtest, ytest, n_repeats = 10, random_state= 123, scoring = 'recall')\n",
        "sorted_idx = perm_importance.importances_mean.argsort()[-8:]\n",
        "plt.barh(range(len(sorted_idx)), perm_importance.importances_mean[sorted_idx], align='center')\n",
        "plt.yticks(range(len(sorted_idx)), np.array(Xtest.columns)[sorted_idx])\n",
        "plt.title('Permutation Feature Importance')"
      ],
      "metadata": {
        "colab": {
          "base_uri": "https://localhost:8080/",
          "height": 469
        },
        "id": "1lRfTXnqozVs",
        "outputId": "ed10339b-1d9a-43e2-ce8d-6d7890a6bbd4"
      },
      "id": "1lRfTXnqozVs",
      "execution_count": 177,
      "outputs": [
        {
          "output_type": "execute_result",
          "data": {
            "text/plain": [
              "Text(0.5, 1.0, 'Permutation Feature Importance')"
            ]
          },
          "metadata": {},
          "execution_count": 177
        },
        {
          "output_type": "display_data",
          "data": {
            "text/plain": [
              "<Figure size 640x480 with 1 Axes>"
            ],
            "image/png": "[encoded data removed]"
          },
          "metadata": {}
        }
      ]
    },
    {
      "cell_type": "code",
      "source": [
        "from sklearn.ensemble import AdaBoostClassifier\n",
        "\n",
        "adaboost_clf = AdaBoostClassifier(n_estimators=40, random_state=123)\n",
        "adaboost_clf.fit(Xtrain_over, ytrain_over)\n",
        "\n",
        "feature_importance = adaboost_clf.feature_importances_\n",
        "\n",
        "sorted_idx = np.argsort(feature_importance)\n",
        "sorted_features = Xtrain.columns[sorted_idx]\n",
        "sorted_importance = feature_importance[sorted_idx]\n",
        "\n",
        "top_features = sorted_features[-8:]\n",
        "top_importance = sorted_importance[-8:]\n",
        "\n",
        "plt.figure(figsize=(10, 6))\n",
        "plt.barh(top_features, top_importance)\n",
        "plt.xlabel('Feature Importance')\n",
        "plt.ylabel('Features')\n",
        "plt.title('Feature Importance Plot for Adaboost Model')\n",
        "plt.show()"
      ],
      "metadata": {
        "colab": {
          "base_uri": "https://localhost:8080/",
          "height": 584
        },
        "id": "Gy_N4EQLNsEL",
        "outputId": "57d74d79-c270-4206-8182-c5cfeb2ad98c"
      },
      "id": "Gy_N4EQLNsEL",
      "execution_count": 178,
      "outputs": [
        {
          "output_type": "display_data",
          "data": {
            "text/plain": [
              "<Figure size 1000x600 with 1 Axes>"
            ],
            "image/png": "[encoded data removed]"
          },
          "metadata": {}
        }
      ]
    },
    {
      "cell_type": "code",
      "source": [
        "pip install shap"
      ],
      "metadata": {
        "colab": {
          "base_uri": "https://localhost:8080/"
        },
        "id": "6bRGpFOAvmXp",
        "outputId": "05b6dadb-73c1-4009-9bac-d7a873ca4936"
      },
      "id": "6bRGpFOAvmXp",
      "execution_count": 180,
      "outputs": [
        {
          "output_type": "stream",
          "name": "stdout",
          "text": [
            "Collecting shap\n",
            "  Downloading shap-0.44.1-cp310-cp310-manylinux_2_12_x86_64.manylinux2010_x86_64.manylinux_2_17_x86_64.manylinux2014_x86_64.whl (535 kB)\n",
            "\u001b[?25l     \u001b[90m━━━━━━━━━━━━━━━━━━━━━━━━━━━━━━━━━━━━━━━━\u001b[0m \u001b[32m0.0/535.7 kB\u001b[0m \u001b[31m?\u001b[0m eta \u001b[36m-:--:--\u001b[0m\r\u001b[2K     \u001b[91m━━━━━━━━━━━━━━━━\u001b[0m\u001b[91m╸\u001b[0m\u001b[90m━━━━━━━━━━━━━━━━━━━━━━━\u001b[0m \u001b[32m225.3/535.7 kB\u001b[0m \u001b[31m6.6 MB/s\u001b[0m eta \u001b[36m0:00:01\u001b[0m\r\u001b[2K     \u001b[90m━━━━━━━━━━━━━━━━━━━━━━━━━━━━━━━━━━━━━━━━\u001b[0m \u001b[32m535.7/535.7 kB\u001b[0m \u001b[31m8.5 MB/s\u001b[0m eta \u001b[36m0:00:00\u001b[0m\n",
            "\u001b[?25hRequirement already satisfied: numpy in /usr/local/lib/python3.10/dist-packages (from shap) (1.25.2)\n",
            "Requirement already satisfied: scipy in /usr/local/lib/python3.10/dist-packages (from shap) (1.11.4)\n",
            "Requirement already satisfied: scikit-learn in /usr/local/lib/python3.10/dist-packages (from shap) (1.2.2)\n",
            "Requirement already satisfied: pandas in /usr/local/lib/python3.10/dist-packages (from shap) (1.5.3)\n",
            "Requirement already satisfied: tqdm>=4.27.0 in /usr/local/lib/python3.10/dist-packages (from shap) (4.66.2)\n",
            "Requirement already satisfied: packaging>20.9 in /usr/local/lib/python3.10/dist-packages (from shap) (23.2)\n",
            "Collecting slicer==0.0.7 (from shap)\n",
            "  Downloading slicer-0.0.7-py3-none-any.whl (14 kB)\n",
            "Requirement already satisfied: numba in /usr/local/lib/python3.10/dist-packages (from shap) (0.58.1)\n",
            "Requirement already satisfied: cloudpickle in /usr/local/lib/python3.10/dist-packages (from shap) (2.2.1)\n",
            "Requirement already satisfied: llvmlite<0.42,>=0.41.0dev0 in /usr/local/lib/python3.10/dist-packages (from numba->shap) (0.41.1)\n",
            "Requirement already satisfied: python-dateutil>=2.8.1 in /usr/local/lib/python3.10/dist-packages (from pandas->shap) (2.8.2)\n",
            "Requirement already satisfied: pytz>=2020.1 in /usr/local/lib/python3.10/dist-packages (from pandas->shap) (2023.4)\n",
            "Requirement already satisfied: joblib>=1.1.1 in /usr/local/lib/python3.10/dist-packages (from scikit-learn->shap) (1.3.2)\n",
            "Requirement already satisfied: threadpoolctl>=2.0.0 in /usr/local/lib/python3.10/dist-packages (from scikit-learn->shap) (3.2.0)\n",
            "Requirement already satisfied: six>=1.5 in /usr/local/lib/python3.10/dist-packages (from python-dateutil>=2.8.1->pandas->shap) (1.16.0)\n",
            "Installing collected packages: slicer, shap\n",
            "Successfully installed shap-0.44.1 slicer-0.0.7\n"
          ]
        }
      ]
    },
    {
      "cell_type": "code",
      "source": [
        "import shap\n",
        "\n",
        "# Inisialisasi SHAP explainer dengan model AdaBoost dan data pelatihan\n",
        "explainer = shap.Explainer(ada, Xtrain_over)\n",
        "\n",
        "# Hitung SHAP values\n",
        "shap_values = explainer.shap_values(Xtrain_over)\n",
        "\n",
        "# Visualisasikan SHAP values\n",
        "shap.summary_plot(shap_values, Xtrain_over, plot_type=\"bar\")"
      ],
      "metadata": {
        "colab": {
          "base_uri": "https://localhost:8080/",
          "height": 384
        },
        "id": "9VvgoOOUvaJa",
        "outputId": "325d2038-6434-49df-8fbd-8786f180047c"
      },
      "id": "9VvgoOOUvaJa",
      "execution_count": 181,
      "outputs": [
        {
          "output_type": "error",
          "ename": "TypeError",
          "evalue": "The passed model is not callable and cannot be analyzed directly with the given masker! Model: AdaBoostClassifier(learning_rate=0.3, n_estimators=40)",
          "traceback": [
            "\u001b[0;31m---------------------------------------------------------------------------\u001b[0m",
            "\u001b[0;31mTypeError\u001b[0m                                 Traceback (most recent call last)",
            "\u001b[0;32m<ipython-input-181-eab69ee777cd>\u001b[0m in \u001b[0;36m<cell line: 4>\u001b[0;34m()\u001b[0m\n\u001b[1;32m      2\u001b[0m \u001b[0;34m\u001b[0m\u001b[0m\n\u001b[1;32m      3\u001b[0m \u001b[0;31m# Inisialisasi SHAP explainer dengan model AdaBoost dan data pelatihan\u001b[0m\u001b[0;34m\u001b[0m\u001b[0;34m\u001b[0m\u001b[0m\n\u001b[0;32m----> 4\u001b[0;31m \u001b[0mexplainer\u001b[0m \u001b[0;34m=\u001b[0m \u001b[0mshap\u001b[0m\u001b[0;34m.\u001b[0m\u001b[0mExplainer\u001b[0m\u001b[0;34m(\u001b[0m\u001b[0mada\u001b[0m\u001b[0;34m,\u001b[0m \u001b[0mXtrain_over\u001b[0m\u001b[0;34m)\u001b[0m\u001b[0;34m\u001b[0m\u001b[0;34m\u001b[0m\u001b[0m\n\u001b[0m\u001b[1;32m      5\u001b[0m \u001b[0;34m\u001b[0m\u001b[0m\n\u001b[1;32m      6\u001b[0m \u001b[0;31m# Hitung SHAP values\u001b[0m\u001b[0;34m\u001b[0m\u001b[0;34m\u001b[0m\u001b[0m\n",
            "\u001b[0;32m/usr/local/lib/python3.10/dist-packages/shap/explainers/_explainer.py\u001b[0m in \u001b[0;36m__init__\u001b[0;34m(self, model, masker, link, algorithm, output_names, feature_names, linearize_link, seed, **kwargs)\u001b[0m\n\u001b[1;32m    172\u001b[0m                 \u001b[0;31m# if we get here then we don't know how to handle what was given to us\u001b[0m\u001b[0;34m\u001b[0m\u001b[0;34m\u001b[0m\u001b[0m\n\u001b[1;32m    173\u001b[0m                 \u001b[0;32melse\u001b[0m\u001b[0;34m:\u001b[0m\u001b[0;34m\u001b[0m\u001b[0;34m\u001b[0m\u001b[0m\n\u001b[0;32m--> 174\u001b[0;31m                     \u001b[0;32mraise\u001b[0m \u001b[0mTypeError\u001b[0m\u001b[0;34m(\u001b[0m\u001b[0;34m\"The passed model is not callable and cannot be analyzed directly with the given masker! Model: \"\u001b[0m \u001b[0;34m+\u001b[0m \u001b[0mstr\u001b[0m\u001b[0;34m(\u001b[0m\u001b[0mmodel\u001b[0m\u001b[0;34m)\u001b[0m\u001b[0;34m)\u001b[0m\u001b[0;34m\u001b[0m\u001b[0;34m\u001b[0m\u001b[0m\n\u001b[0m\u001b[1;32m    175\u001b[0m \u001b[0;34m\u001b[0m\u001b[0m\n\u001b[1;32m    176\u001b[0m             \u001b[0;31m# build the right subclass\u001b[0m\u001b[0;34m\u001b[0m\u001b[0;34m\u001b[0m\u001b[0m\n",
            "\u001b[0;31mTypeError\u001b[0m: The passed model is not callable and cannot be analyzed directly with the given masker! Model: AdaBoostClassifier(learning_rate=0.3, n_estimators=40)"
          ]
        }
      ]
    }
  ],
  "metadata": {
    "colab": {
      "provenance": [],
      "toc_visible": true
    },
    "kernelspec": {
      "display_name": "Python 3 (ipykernel)",
      "language": "python",
      "name": "python3"
    },
    "language_info": {
      "codemirror_mode": {
        "name": "ipython",
        "version": 3
      },
      "file_extension": ".py",
      "mimetype": "text/x-python",
      "name": "python",
      "nbconvert_exporter": "python",
      "pygments_lexer": "ipython3",
      "version": "3.11.5"
    }
  },
  "nbformat": 4,
  "nbformat_minor": 5
}